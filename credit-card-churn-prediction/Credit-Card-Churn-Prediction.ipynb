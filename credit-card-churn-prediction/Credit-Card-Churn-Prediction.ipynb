{
  "cells": [
    {
      "cell_type": "markdown",
      "metadata": {
        "id": "9a54fa0f"
      },
      "source": [
        "# Credit Card Users Churn Prediction"
      ]
    },
    {
      "cell_type": "markdown",
      "source": [
        "## Problem Statement"
      ],
      "metadata": {
        "id": "9EaJ8AGwpM-2"
      }
    },
    {
      "cell_type": "markdown",
      "metadata": {
        "id": "x3-QehJxbp0t"
      },
      "source": [
        "### Business Context\n",
        "\n",
        "The Thera bank recently saw a steep decline in the number of users of their credit card, credit cards are a good source of income for banks because of different kinds of fees charged by the banks like annual fees, balance transfer fees, and cash advance fees, late payment fees, foreign transaction fees, and others. Some fees are charged to every user irrespective of usage, while others are charged under specified circumstances.\n",
        "\n",
        "Customers’ leaving credit cards services would lead bank to loss, so the bank wants to analyze the data of customers and identify the customers who will leave their credit card services and reason for same – so that bank could improve upon those areas\n",
        "\n",
        "You as a Data scientist at Thera bank need to come up with a classification model that will help the bank improve its services so that customers do not renounce their credit cards\n",
        "\n",
        "### Data Description\n",
        "\n",
        "* CLIENTNUM: Client number. Unique identifier for the customer holding the account\n",
        "* Attrition_Flag: Internal event (customer activity) variable - if the account is closed then \"Attrited Customer\" else \"Existing Customer\"\n",
        "* Customer_Age: Age in Years\n",
        "* Gender: Gender of the account holder\n",
        "* Dependent_count: Number of dependents\n",
        "* Education_Level: Educational Qualification of the account holder - Graduate, High School, Unknown, Uneducated, College(refers to college student), Post-Graduate, Doctorate\n",
        "* Marital_Status: Marital Status of the account holder\n",
        "* Income_Category: Annual Income Category of the account holder\n",
        "* Card_Category: Type of Card\n",
        "* Months_on_book: Period of relationship with the bank (in months)\n",
        "* Total_Relationship_Count: Total no. of products held by the customer\n",
        "* Months_Inactive_12_mon: No. of months inactive in the last 12 months\n",
        "* Contacts_Count_12_mon: No. of Contacts in the last 12 months\n",
        "* Credit_Limit: Credit Limit on the Credit Card\n",
        "* Total_Revolving_Bal: Total Revolving Balance on the Credit Card\n",
        "* Avg_Open_To_Buy: Open to Buy Credit Line (Average of last 12 months)\n",
        "* Total_Amt_Chng_Q4_Q1: Change in Transaction Amount (Q4 over Q1)\n",
        "* Total_Trans_Amt: Total Transaction Amount (Last 12 months)\n",
        "* Total_Trans_Ct: Total Transaction Count (Last 12 months)\n",
        "* Total_Ct_Chng_Q4_Q1: Change in Transaction Count (Q4 over Q1)\n",
        "* Avg_Utilization_Ratio: Average Card Utilization Ratio\n",
        "\n",
        "#### What Is a Revolving Balance?\n",
        "\n",
        "- If we don't pay the balance of the revolving credit account in full every month, the unpaid portion carries over to the next month. That's called a revolving balance\n",
        "\n",
        "\n",
        "##### What is the Average Open to buy?\n",
        "\n",
        "- 'Open to Buy' means the amount left on your credit card to use. Now, this column represents the average of this value for the last 12 months.\n",
        "\n",
        "##### What is the Average utilization Ratio?\n",
        "\n",
        "- The Avg_Utilization_Ratio represents how much of the available credit the customer spent. This is useful for calculating credit scores.\n",
        "\n",
        "\n",
        "##### Relation b/w Avg_Open_To_Buy, Credit_Limit and Avg_Utilization_Ratio:\n",
        "\n",
        "- ( Avg_Open_To_Buy / Credit_Limit ) + Avg_Utilization_Ratio = 1"
      ]
    },
    {
      "cell_type": "markdown",
      "metadata": {
        "id": "v_-uuGqH-qTt"
      },
      "source": [
        "## Importing necessary libraries"
      ]
    },
    {
      "cell_type": "code",
      "execution_count": 1,
      "metadata": {
        "id": "83D17_Wl4jal"
      },
      "outputs": [],
      "source": [
        "# Data manipulation and analysis.\n",
        "import pandas as pd\n",
        "import numpy as np\n",
        "\n",
        "# Data visualization libraries.\n",
        "import matplotlib.pyplot as plt\n",
        "import seaborn as sns\n",
        "\n",
        "# Model tuning and metrics.\n",
        "from sklearn.metrics import (\n",
        "    f1_score,\n",
        "    accuracy_score,\n",
        "    recall_score,\n",
        "    precision_score,\n",
        "    confusion_matrix,\n",
        "    roc_auc_score,\n",
        "    ConfusionMatrixDisplay,\n",
        ")\n",
        "\n",
        "#For splitting model data into train, validation and test.\n",
        "from sklearn.model_selection import train_test_split, StratifiedKFold, cross_val_score\n",
        "\n",
        "# Data preparation.\n",
        "from sklearn.preprocessing import StandardScaler, MinMaxScaler, OneHotEncoder\n",
        "\n",
        "# Data imputation.\n",
        "from sklearn.impute import SimpleImputer\n",
        "from sklearn import metrics\n",
        "\n",
        "# For over and undersampling.\n",
        "from imblearn.over_sampling import SMOTE\n",
        "from imblearn.under_sampling import RandomUnderSampler\n",
        "\n",
        "# For hyperparameter tuning.\n",
        "from sklearn.model_selection import RandomizedSearchCV\n",
        "\n",
        "# Models builders.\n",
        "from sklearn.tree import DecisionTreeClassifier\n",
        "from sklearn.ensemble import (\n",
        "    AdaBoostClassifier,\n",
        "    GradientBoostingClassifier,\n",
        "    RandomForestClassifier,\n",
        "    BaggingClassifier,\n",
        ")\n",
        "from xgboost import XGBClassifier\n",
        "from sklearn.linear_model import LogisticRegression\n",
        "\n",
        "#OPTIONS\n",
        "#--------------------------------------------------------------------\n",
        "# Define maximum number of columns to be displayed in a dataframe.\n",
        "pd.set_option(\"display.max_columns\", None)\n",
        "\n",
        "# Supress scientific notations for a dataframe.\n",
        "pd.set_option(\"display.float_format\", lambda x: \"%.3f\" % x)\n",
        "\n",
        "# Supress warnings.\n",
        "import warnings\n",
        "warnings.filterwarnings(\"ignore\")"
      ]
    },
    {
      "cell_type": "markdown",
      "source": [
        "## Define Functions"
      ],
      "metadata": {
        "id": "QAo2ibrzwsTf"
      }
    },
    {
      "cell_type": "markdown",
      "metadata": {
        "id": "-YyWJgFlKlWM"
      },
      "source": [
        "#### EDA Functions"
      ]
    },
    {
      "cell_type": "code",
      "metadata": {
        "id": "QIP4bI3Zbp07"
      },
      "source": [
        "# function to plot a boxplot and a histogram along the same scale.\n",
        "\n",
        "\n",
        "def histogram_boxplot(data, feature, figsize=(12, 7), kde=False, bins=None):\n",
        "    \"\"\"\n",
        "    Boxplot and histogram combined\n",
        "\n",
        "    data: dataframe\n",
        "    feature: dataframe column\n",
        "    figsize: size of figure (default (12,7))\n",
        "    kde: whether to the show density curve (default False)\n",
        "    bins: number of bins for histogram (default None)\n",
        "    \"\"\"\n",
        "    f2, (ax_box2, ax_hist2) = plt.subplots(\n",
        "        nrows=2,  # Number of rows of the subplot grid= 2\n",
        "        sharex=True,  # x-axis will be shared among all subplots\n",
        "        gridspec_kw={\"height_ratios\": (0.25, 0.75)},\n",
        "        figsize=figsize,\n",
        "    )  # creating the 2 subplots\n",
        "    sns.boxplot(\n",
        "        data=data, x=feature, ax=ax_box2, showmeans=True, color=\"violet\"\n",
        "    )  # boxplot will be created and a triangle will indicate the mean value of the column\n",
        "    sns.histplot(\n",
        "        data=data, x=feature, kde=kde, ax=ax_hist2, bins=bins, palette=\"winter\"\n",
        "    ) if bins else sns.histplot(\n",
        "        data=data, x=feature, kde=kde, ax=ax_hist2\n",
        "    )  # For histogram\n",
        "    ax_hist2.axvline(\n",
        "        data[feature].mean(), color=\"green\", linestyle=\"--\"\n",
        "    )  # Add mean to the histogram\n",
        "    ax_hist2.axvline(\n",
        "        data[feature].median(), color=\"black\", linestyle=\"-\"\n",
        "    )  # Add median to the histogram"
      ],
      "execution_count": 2,
      "outputs": []
    },
    {
      "cell_type": "code",
      "execution_count": 3,
      "metadata": {
        "id": "5021de33"
      },
      "outputs": [],
      "source": [
        "# function to create labeled barplots\n",
        "\n",
        "\n",
        "def labeled_barplot(data, feature, perc=False, n=None):\n",
        "    \"\"\"\n",
        "    Barplot with percentage at the top\n",
        "\n",
        "    data: dataframe\n",
        "    feature: dataframe column\n",
        "    perc: whether to display percentages instead of count (default is False)\n",
        "    n: displays the top n category levels (default is None, i.e., display all levels)\n",
        "    \"\"\"\n",
        "\n",
        "    total = len(data[feature])  # length of the column\n",
        "    count = data[feature].nunique()\n",
        "    if n is None:\n",
        "        plt.figure(figsize=(count + 1, 5))\n",
        "    else:\n",
        "        plt.figure(figsize=(n + 1, 5))\n",
        "\n",
        "    plt.xticks(rotation=90, fontsize=15)\n",
        "    ax = sns.countplot(\n",
        "        data=data,\n",
        "        x=feature,\n",
        "        palette=\"Paired\",\n",
        "        order=data[feature].value_counts().index[:n].sort_values(),\n",
        "    )\n",
        "\n",
        "    for p in ax.patches:\n",
        "        if perc == True:\n",
        "            label = \"{:.1f}%\".format(\n",
        "                100 * p.get_height() / total\n",
        "            )  # percentage of each class of the category\n",
        "        else:\n",
        "            label = p.get_height()  # count of each level of the category\n",
        "\n",
        "        x = p.get_x() + p.get_width() / 2  # width of the plot\n",
        "        y = p.get_height()  # height of the plot\n",
        "\n",
        "        ax.annotate(\n",
        "            label,\n",
        "            (x, y),\n",
        "            ha=\"center\",\n",
        "            va=\"center\",\n",
        "            size=12,\n",
        "            xytext=(0, 5),\n",
        "            textcoords=\"offset points\",\n",
        "        )  # annotate the percentage\n",
        "\n",
        "    plt.show()  # show the plot"
      ]
    },
    {
      "cell_type": "code",
      "execution_count": 4,
      "metadata": {
        "id": "c08fe5b8"
      },
      "outputs": [],
      "source": [
        "# function to plot stacked bar chart\n",
        "\n",
        "def stacked_barplot(data, predictor, target):\n",
        "    \"\"\"\n",
        "    Print the category counts and plot a stacked bar chart\n",
        "\n",
        "    data: dataframe\n",
        "    predictor: independent variable\n",
        "    target: target variable\n",
        "    \"\"\"\n",
        "    count = data[predictor].nunique()\n",
        "    sorter = data[target].value_counts().index[-1]\n",
        "    tab1 = pd.crosstab(data[predictor], data[target], margins=True).sort_values(\n",
        "        by=sorter, ascending=False\n",
        "    )\n",
        "    print(tab1)\n",
        "    print(\"-\" * 120)\n",
        "    tab = pd.crosstab(data[predictor], data[target], normalize=\"index\").sort_values(\n",
        "        by=sorter, ascending=False\n",
        "    )\n",
        "    tab.plot(kind=\"bar\", stacked=True, figsize=(count + 1, 5))\n",
        "    plt.legend(\n",
        "        loc=\"lower left\", frameon=False,\n",
        "    )\n",
        "    plt.legend(loc=\"upper left\", bbox_to_anchor=(1, 1))\n",
        "    plt.show()"
      ]
    },
    {
      "cell_type": "code",
      "execution_count": 5,
      "metadata": {
        "id": "e90985c5"
      },
      "outputs": [],
      "source": [
        "### Function to plot distributions\n",
        "\n",
        "def distribution_plot_wrt_target(data, predictor, target):\n",
        "\n",
        "    fig, axs = plt.subplots(2, 2, figsize=(12, 10))\n",
        "\n",
        "    target_uniq = data[target].unique()\n",
        "\n",
        "    axs[0, 0].set_title(\"Distribution of target for target=\" + str(target_uniq[0]))\n",
        "    sns.histplot(\n",
        "        data=data[data[target] == target_uniq[0]],\n",
        "        x=predictor,\n",
        "        kde=True,\n",
        "        ax=axs[0, 0],\n",
        "        color=\"teal\",\n",
        "    )\n",
        "\n",
        "    axs[0, 1].set_title(\"Distribution of target for target=\" + str(target_uniq[1]))\n",
        "    sns.histplot(\n",
        "        data=data[data[target] == target_uniq[1]],\n",
        "        x=predictor,\n",
        "        kde=True,\n",
        "        ax=axs[0, 1],\n",
        "        color=\"orange\",\n",
        "    )\n",
        "\n",
        "    axs[1, 0].set_title(\"Boxplot w.r.t target\")\n",
        "    sns.boxplot(data=data, x=target, y=predictor, ax=axs[1, 0], palette=\"gist_rainbow\")\n",
        "\n",
        "    axs[1, 1].set_title(\"Boxplot (without outliers) w.r.t target\")\n",
        "    sns.boxplot(\n",
        "        data=data,\n",
        "        x=target,\n",
        "        y=predictor,\n",
        "        ax=axs[1, 1],\n",
        "        showfliers=False,\n",
        "        palette=\"gist_rainbow\",\n",
        "    )\n",
        "\n",
        "    plt.tight_layout()\n",
        "    plt.show()"
      ]
    },
    {
      "cell_type": "markdown",
      "source": [
        "#Pre-processing Functions"
      ],
      "metadata": {
        "id": "o6O-3vdRUIHL"
      }
    },
    {
      "cell_type": "code",
      "source": [
        "def outlier_detection(data):\n",
        "  Q1 = data.quantile(0.25)  # To find the 25th percentile\n",
        "  Q3 = data.quantile(0.75)  # To find the 75th percentile\n",
        "\n",
        "  IQR = Q3 - Q1  # Inter Quantile Range (75th perentile - 25th percentile)\n",
        "\n",
        "  # Finding lower and upper bounds for all values. All values outside these bounds are outliers\n",
        "  lower = (Q1 - 1.5 * IQR)\n",
        "  upper = (Q3 + 1.5 * IQR)\n",
        "\n",
        "  # checking the % outliers\n",
        "  print(((data.select_dtypes(include=[\"float64\", \"int64\"]) < lower) | (data.select_dtypes(include=[\"float64\", \"int64\"]) > upper)).sum() / len(data) * 100)"
      ],
      "metadata": {
        "id": "RTcCWnKqUM8p"
      },
      "execution_count": 6,
      "outputs": []
    },
    {
      "cell_type": "code",
      "source": [
        "## Function to inverse encoding\n",
        "def inverse_mapping(x, y):\n",
        "    inv_dict = {v: k for k, v in x.items()}\n",
        "    X_train[y] = np.round(X_train[y]).map(inv_dict).astype(\"category\")\n",
        "    X_val[y] = np.round(X_val[y]).map(inv_dict).astype(\"category\")\n",
        "    X_test[y] = np.round(X_test[y]).map(inv_dict).astype(\"category\")"
      ],
      "metadata": {
        "id": "zJ6Jkuz0jWFK"
      },
      "execution_count": 7,
      "outputs": []
    },
    {
      "cell_type": "markdown",
      "source": [
        "# Model Performance Metrics"
      ],
      "metadata": {
        "id": "koMfdt3Wrkl_"
      }
    },
    {
      "cell_type": "code",
      "source": [
        "# defining a function to compute different metrics to check performance of a classification model built using sklearn\n",
        "def model_performance_classification_sklearn(model, predictors, target):\n",
        "    \"\"\"\n",
        "    Function to compute different metrics to check classification model performance\n",
        "\n",
        "    model: classifier\n",
        "    predictors: independent variables\n",
        "    target: dependent variable\n",
        "    \"\"\"\n",
        "\n",
        "    # predicting using the independent variables\n",
        "    pred = model.predict(predictors)\n",
        "\n",
        "    acc = accuracy_score(target, pred)  # to compute Accuracy\n",
        "    recall = recall_score(target, pred)  # to compute Recall\n",
        "    precision = precision_score(target, pred)  # to compute Precision\n",
        "    f1 = f1_score(target, pred)  # to compute F1-score\n",
        "\n",
        "    # creating a dataframe of metrics\n",
        "    df_perf = pd.DataFrame(\n",
        "        {\n",
        "            \"Accuracy\": acc,\n",
        "            \"Recall\": recall,\n",
        "            \"Precision\": precision,\n",
        "            \"F1\": f1\n",
        "\n",
        "        },\n",
        "        index=[0],\n",
        "    )\n",
        "\n",
        "    return df_perf"
      ],
      "metadata": {
        "id": "e7eamSFGrlA1"
      },
      "execution_count": 8,
      "outputs": []
    },
    {
      "cell_type": "markdown",
      "metadata": {
        "id": "xxhpZv9y-qTw"
      },
      "source": [
        "## Loading the dataset"
      ]
    },
    {
      "cell_type": "code",
      "execution_count": 9,
      "metadata": {
        "id": "oJnKoHy14jam"
      },
      "outputs": [],
      "source": [
        "## Connect to google drive.\n",
        "#from google.colab import drive\n",
        "#drive.mount('/content/drive')"
      ]
    },
    {
      "cell_type": "code",
      "source": [
        "# Load the csv file into the dataframe.\n",
        "churn_df = pd.read_csv(\"https://raw.githubusercontent.com/todd-wilson/portfolio/main/credit-card-churn-prediction/BankChurners.csv\")"
      ],
      "metadata": {
        "id": "fEnGWWJYVuQF"
      },
      "execution_count": 10,
      "outputs": []
    },
    {
      "cell_type": "code",
      "source": [
        "# Copy into a new dataframe.\n",
        "df = churn_df.copy()"
      ],
      "metadata": {
        "id": "hfiYsgWZWzDd"
      },
      "execution_count": 11,
      "outputs": []
    },
    {
      "cell_type": "markdown",
      "metadata": {
        "id": "UvpMDcaaMKtI"
      },
      "source": [
        "## Data Overview"
      ]
    },
    {
      "cell_type": "markdown",
      "source": [
        "### Display First and Last Rows"
      ],
      "metadata": {
        "id": "INGaVpkpiUU4"
      }
    },
    {
      "cell_type": "code",
      "source": [
        "# First five rows\n",
        "df.head()"
      ],
      "metadata": {
        "colab": {
          "base_uri": "https://localhost:8080/",
          "height": 0
        },
        "id": "2EpsY8jlW1Ug",
        "outputId": "ff90a709-0eaa-4a92-b7cb-36e4439384ce"
      },
      "execution_count": 12,
      "outputs": [
        {
          "output_type": "execute_result",
          "data": {
            "text/plain": [
              "   CLIENTNUM     Attrition_Flag  Customer_Age Gender  Dependent_count  \\\n",
              "0  768805383  Existing Customer            45      M                3   \n",
              "1  818770008  Existing Customer            49      F                5   \n",
              "2  713982108  Existing Customer            51      M                3   \n",
              "3  769911858  Existing Customer            40      F                4   \n",
              "4  709106358  Existing Customer            40      M                3   \n",
              "\n",
              "  Education_Level Marital_Status Income_Category Card_Category  \\\n",
              "0     High School        Married     $60K - $80K          Blue   \n",
              "1        Graduate         Single  Less than $40K          Blue   \n",
              "2        Graduate        Married    $80K - $120K          Blue   \n",
              "3     High School            NaN  Less than $40K          Blue   \n",
              "4      Uneducated        Married     $60K - $80K          Blue   \n",
              "\n",
              "   Months_on_book  Total_Relationship_Count  Months_Inactive_12_mon  \\\n",
              "0              39                         5                       1   \n",
              "1              44                         6                       1   \n",
              "2              36                         4                       1   \n",
              "3              34                         3                       4   \n",
              "4              21                         5                       1   \n",
              "\n",
              "   Contacts_Count_12_mon  Credit_Limit  Total_Revolving_Bal  Avg_Open_To_Buy  \\\n",
              "0                      3     12691.000                  777        11914.000   \n",
              "1                      2      8256.000                  864         7392.000   \n",
              "2                      0      3418.000                    0         3418.000   \n",
              "3                      1      3313.000                 2517          796.000   \n",
              "4                      0      4716.000                    0         4716.000   \n",
              "\n",
              "   Total_Amt_Chng_Q4_Q1  Total_Trans_Amt  Total_Trans_Ct  Total_Ct_Chng_Q4_Q1  \\\n",
              "0                 1.335             1144              42                1.625   \n",
              "1                 1.541             1291              33                3.714   \n",
              "2                 2.594             1887              20                2.333   \n",
              "3                 1.405             1171              20                2.333   \n",
              "4                 2.175              816              28                2.500   \n",
              "\n",
              "   Avg_Utilization_Ratio  \n",
              "0                  0.061  \n",
              "1                  0.105  \n",
              "2                  0.000  \n",
              "3                  0.760  \n",
              "4                  0.000  "
            ],
            "text/html": [
              "\n",
              "  <div id=\"df-024b7920-ae04-4dbd-b247-b801021d5d6f\" class=\"colab-df-container\">\n",
              "    <div>\n",
              "<style scoped>\n",
              "    .dataframe tbody tr th:only-of-type {\n",
              "        vertical-align: middle;\n",
              "    }\n",
              "\n",
              "    .dataframe tbody tr th {\n",
              "        vertical-align: top;\n",
              "    }\n",
              "\n",
              "    .dataframe thead th {\n",
              "        text-align: right;\n",
              "    }\n",
              "</style>\n",
              "<table border=\"1\" class=\"dataframe\">\n",
              "  <thead>\n",
              "    <tr style=\"text-align: right;\">\n",
              "      <th></th>\n",
              "      <th>CLIENTNUM</th>\n",
              "      <th>Attrition_Flag</th>\n",
              "      <th>Customer_Age</th>\n",
              "      <th>Gender</th>\n",
              "      <th>Dependent_count</th>\n",
              "      <th>Education_Level</th>\n",
              "      <th>Marital_Status</th>\n",
              "      <th>Income_Category</th>\n",
              "      <th>Card_Category</th>\n",
              "      <th>Months_on_book</th>\n",
              "      <th>Total_Relationship_Count</th>\n",
              "      <th>Months_Inactive_12_mon</th>\n",
              "      <th>Contacts_Count_12_mon</th>\n",
              "      <th>Credit_Limit</th>\n",
              "      <th>Total_Revolving_Bal</th>\n",
              "      <th>Avg_Open_To_Buy</th>\n",
              "      <th>Total_Amt_Chng_Q4_Q1</th>\n",
              "      <th>Total_Trans_Amt</th>\n",
              "      <th>Total_Trans_Ct</th>\n",
              "      <th>Total_Ct_Chng_Q4_Q1</th>\n",
              "      <th>Avg_Utilization_Ratio</th>\n",
              "    </tr>\n",
              "  </thead>\n",
              "  <tbody>\n",
              "    <tr>\n",
              "      <th>0</th>\n",
              "      <td>768805383</td>\n",
              "      <td>Existing Customer</td>\n",
              "      <td>45</td>\n",
              "      <td>M</td>\n",
              "      <td>3</td>\n",
              "      <td>High School</td>\n",
              "      <td>Married</td>\n",
              "      <td>$60K - $80K</td>\n",
              "      <td>Blue</td>\n",
              "      <td>39</td>\n",
              "      <td>5</td>\n",
              "      <td>1</td>\n",
              "      <td>3</td>\n",
              "      <td>12691.000</td>\n",
              "      <td>777</td>\n",
              "      <td>11914.000</td>\n",
              "      <td>1.335</td>\n",
              "      <td>1144</td>\n",
              "      <td>42</td>\n",
              "      <td>1.625</td>\n",
              "      <td>0.061</td>\n",
              "    </tr>\n",
              "    <tr>\n",
              "      <th>1</th>\n",
              "      <td>818770008</td>\n",
              "      <td>Existing Customer</td>\n",
              "      <td>49</td>\n",
              "      <td>F</td>\n",
              "      <td>5</td>\n",
              "      <td>Graduate</td>\n",
              "      <td>Single</td>\n",
              "      <td>Less than $40K</td>\n",
              "      <td>Blue</td>\n",
              "      <td>44</td>\n",
              "      <td>6</td>\n",
              "      <td>1</td>\n",
              "      <td>2</td>\n",
              "      <td>8256.000</td>\n",
              "      <td>864</td>\n",
              "      <td>7392.000</td>\n",
              "      <td>1.541</td>\n",
              "      <td>1291</td>\n",
              "      <td>33</td>\n",
              "      <td>3.714</td>\n",
              "      <td>0.105</td>\n",
              "    </tr>\n",
              "    <tr>\n",
              "      <th>2</th>\n",
              "      <td>713982108</td>\n",
              "      <td>Existing Customer</td>\n",
              "      <td>51</td>\n",
              "      <td>M</td>\n",
              "      <td>3</td>\n",
              "      <td>Graduate</td>\n",
              "      <td>Married</td>\n",
              "      <td>$80K - $120K</td>\n",
              "      <td>Blue</td>\n",
              "      <td>36</td>\n",
              "      <td>4</td>\n",
              "      <td>1</td>\n",
              "      <td>0</td>\n",
              "      <td>3418.000</td>\n",
              "      <td>0</td>\n",
              "      <td>3418.000</td>\n",
              "      <td>2.594</td>\n",
              "      <td>1887</td>\n",
              "      <td>20</td>\n",
              "      <td>2.333</td>\n",
              "      <td>0.000</td>\n",
              "    </tr>\n",
              "    <tr>\n",
              "      <th>3</th>\n",
              "      <td>769911858</td>\n",
              "      <td>Existing Customer</td>\n",
              "      <td>40</td>\n",
              "      <td>F</td>\n",
              "      <td>4</td>\n",
              "      <td>High School</td>\n",
              "      <td>NaN</td>\n",
              "      <td>Less than $40K</td>\n",
              "      <td>Blue</td>\n",
              "      <td>34</td>\n",
              "      <td>3</td>\n",
              "      <td>4</td>\n",
              "      <td>1</td>\n",
              "      <td>3313.000</td>\n",
              "      <td>2517</td>\n",
              "      <td>796.000</td>\n",
              "      <td>1.405</td>\n",
              "      <td>1171</td>\n",
              "      <td>20</td>\n",
              "      <td>2.333</td>\n",
              "      <td>0.760</td>\n",
              "    </tr>\n",
              "    <tr>\n",
              "      <th>4</th>\n",
              "      <td>709106358</td>\n",
              "      <td>Existing Customer</td>\n",
              "      <td>40</td>\n",
              "      <td>M</td>\n",
              "      <td>3</td>\n",
              "      <td>Uneducated</td>\n",
              "      <td>Married</td>\n",
              "      <td>$60K - $80K</td>\n",
              "      <td>Blue</td>\n",
              "      <td>21</td>\n",
              "      <td>5</td>\n",
              "      <td>1</td>\n",
              "      <td>0</td>\n",
              "      <td>4716.000</td>\n",
              "      <td>0</td>\n",
              "      <td>4716.000</td>\n",
              "      <td>2.175</td>\n",
              "      <td>816</td>\n",
              "      <td>28</td>\n",
              "      <td>2.500</td>\n",
              "      <td>0.000</td>\n",
              "    </tr>\n",
              "  </tbody>\n",
              "</table>\n",
              "</div>\n",
              "    <div class=\"colab-df-buttons\">\n",
              "\n",
              "  <div class=\"colab-df-container\">\n",
              "    <button class=\"colab-df-convert\" onclick=\"convertToInteractive('df-024b7920-ae04-4dbd-b247-b801021d5d6f')\"\n",
              "            title=\"Convert this dataframe to an interactive table.\"\n",
              "            style=\"display:none;\">\n",
              "\n",
              "  <svg xmlns=\"http://www.w3.org/2000/svg\" height=\"24px\" viewBox=\"0 -960 960 960\">\n",
              "    <path d=\"M120-120v-720h720v720H120Zm60-500h600v-160H180v160Zm220 220h160v-160H400v160Zm0 220h160v-160H400v160ZM180-400h160v-160H180v160Zm440 0h160v-160H620v160ZM180-180h160v-160H180v160Zm440 0h160v-160H620v160Z\"/>\n",
              "  </svg>\n",
              "    </button>\n",
              "\n",
              "  <style>\n",
              "    .colab-df-container {\n",
              "      display:flex;\n",
              "      gap: 12px;\n",
              "    }\n",
              "\n",
              "    .colab-df-convert {\n",
              "      background-color: #E8F0FE;\n",
              "      border: none;\n",
              "      border-radius: 50%;\n",
              "      cursor: pointer;\n",
              "      display: none;\n",
              "      fill: #1967D2;\n",
              "      height: 32px;\n",
              "      padding: 0 0 0 0;\n",
              "      width: 32px;\n",
              "    }\n",
              "\n",
              "    .colab-df-convert:hover {\n",
              "      background-color: #E2EBFA;\n",
              "      box-shadow: 0px 1px 2px rgba(60, 64, 67, 0.3), 0px 1px 3px 1px rgba(60, 64, 67, 0.15);\n",
              "      fill: #174EA6;\n",
              "    }\n",
              "\n",
              "    .colab-df-buttons div {\n",
              "      margin-bottom: 4px;\n",
              "    }\n",
              "\n",
              "    [theme=dark] .colab-df-convert {\n",
              "      background-color: #3B4455;\n",
              "      fill: #D2E3FC;\n",
              "    }\n",
              "\n",
              "    [theme=dark] .colab-df-convert:hover {\n",
              "      background-color: #434B5C;\n",
              "      box-shadow: 0px 1px 3px 1px rgba(0, 0, 0, 0.15);\n",
              "      filter: drop-shadow(0px 1px 2px rgba(0, 0, 0, 0.3));\n",
              "      fill: #FFFFFF;\n",
              "    }\n",
              "  </style>\n",
              "\n",
              "    <script>\n",
              "      const buttonEl =\n",
              "        document.querySelector('#df-024b7920-ae04-4dbd-b247-b801021d5d6f button.colab-df-convert');\n",
              "      buttonEl.style.display =\n",
              "        google.colab.kernel.accessAllowed ? 'block' : 'none';\n",
              "\n",
              "      async function convertToInteractive(key) {\n",
              "        const element = document.querySelector('#df-024b7920-ae04-4dbd-b247-b801021d5d6f');\n",
              "        const dataTable =\n",
              "          await google.colab.kernel.invokeFunction('convertToInteractive',\n",
              "                                                    [key], {});\n",
              "        if (!dataTable) return;\n",
              "\n",
              "        const docLinkHtml = 'Like what you see? Visit the ' +\n",
              "          '<a target=\"_blank\" href=https://colab.research.google.com/notebooks/data_table.ipynb>data table notebook</a>'\n",
              "          + ' to learn more about interactive tables.';\n",
              "        element.innerHTML = '';\n",
              "        dataTable['output_type'] = 'display_data';\n",
              "        await google.colab.output.renderOutput(dataTable, element);\n",
              "        const docLink = document.createElement('div');\n",
              "        docLink.innerHTML = docLinkHtml;\n",
              "        element.appendChild(docLink);\n",
              "      }\n",
              "    </script>\n",
              "  </div>\n",
              "\n",
              "\n",
              "<div id=\"df-da2db720-4a5a-48d5-a1df-a6c60387e362\">\n",
              "  <button class=\"colab-df-quickchart\" onclick=\"quickchart('df-da2db720-4a5a-48d5-a1df-a6c60387e362')\"\n",
              "            title=\"Suggest charts\"\n",
              "            style=\"display:none;\">\n",
              "\n",
              "<svg xmlns=\"http://www.w3.org/2000/svg\" height=\"24px\"viewBox=\"0 0 24 24\"\n",
              "     width=\"24px\">\n",
              "    <g>\n",
              "        <path d=\"M19 3H5c-1.1 0-2 .9-2 2v14c0 1.1.9 2 2 2h14c1.1 0 2-.9 2-2V5c0-1.1-.9-2-2-2zM9 17H7v-7h2v7zm4 0h-2V7h2v10zm4 0h-2v-4h2v4z\"/>\n",
              "    </g>\n",
              "</svg>\n",
              "  </button>\n",
              "\n",
              "<style>\n",
              "  .colab-df-quickchart {\n",
              "      --bg-color: #E8F0FE;\n",
              "      --fill-color: #1967D2;\n",
              "      --hover-bg-color: #E2EBFA;\n",
              "      --hover-fill-color: #174EA6;\n",
              "      --disabled-fill-color: #AAA;\n",
              "      --disabled-bg-color: #DDD;\n",
              "  }\n",
              "\n",
              "  [theme=dark] .colab-df-quickchart {\n",
              "      --bg-color: #3B4455;\n",
              "      --fill-color: #D2E3FC;\n",
              "      --hover-bg-color: #434B5C;\n",
              "      --hover-fill-color: #FFFFFF;\n",
              "      --disabled-bg-color: #3B4455;\n",
              "      --disabled-fill-color: #666;\n",
              "  }\n",
              "\n",
              "  .colab-df-quickchart {\n",
              "    background-color: var(--bg-color);\n",
              "    border: none;\n",
              "    border-radius: 50%;\n",
              "    cursor: pointer;\n",
              "    display: none;\n",
              "    fill: var(--fill-color);\n",
              "    height: 32px;\n",
              "    padding: 0;\n",
              "    width: 32px;\n",
              "  }\n",
              "\n",
              "  .colab-df-quickchart:hover {\n",
              "    background-color: var(--hover-bg-color);\n",
              "    box-shadow: 0 1px 2px rgba(60, 64, 67, 0.3), 0 1px 3px 1px rgba(60, 64, 67, 0.15);\n",
              "    fill: var(--button-hover-fill-color);\n",
              "  }\n",
              "\n",
              "  .colab-df-quickchart-complete:disabled,\n",
              "  .colab-df-quickchart-complete:disabled:hover {\n",
              "    background-color: var(--disabled-bg-color);\n",
              "    fill: var(--disabled-fill-color);\n",
              "    box-shadow: none;\n",
              "  }\n",
              "\n",
              "  .colab-df-spinner {\n",
              "    border: 2px solid var(--fill-color);\n",
              "    border-color: transparent;\n",
              "    border-bottom-color: var(--fill-color);\n",
              "    animation:\n",
              "      spin 1s steps(1) infinite;\n",
              "  }\n",
              "\n",
              "  @keyframes spin {\n",
              "    0% {\n",
              "      border-color: transparent;\n",
              "      border-bottom-color: var(--fill-color);\n",
              "      border-left-color: var(--fill-color);\n",
              "    }\n",
              "    20% {\n",
              "      border-color: transparent;\n",
              "      border-left-color: var(--fill-color);\n",
              "      border-top-color: var(--fill-color);\n",
              "    }\n",
              "    30% {\n",
              "      border-color: transparent;\n",
              "      border-left-color: var(--fill-color);\n",
              "      border-top-color: var(--fill-color);\n",
              "      border-right-color: var(--fill-color);\n",
              "    }\n",
              "    40% {\n",
              "      border-color: transparent;\n",
              "      border-right-color: var(--fill-color);\n",
              "      border-top-color: var(--fill-color);\n",
              "    }\n",
              "    60% {\n",
              "      border-color: transparent;\n",
              "      border-right-color: var(--fill-color);\n",
              "    }\n",
              "    80% {\n",
              "      border-color: transparent;\n",
              "      border-right-color: var(--fill-color);\n",
              "      border-bottom-color: var(--fill-color);\n",
              "    }\n",
              "    90% {\n",
              "      border-color: transparent;\n",
              "      border-bottom-color: var(--fill-color);\n",
              "    }\n",
              "  }\n",
              "</style>\n",
              "\n",
              "  <script>\n",
              "    async function quickchart(key) {\n",
              "      const quickchartButtonEl =\n",
              "        document.querySelector('#' + key + ' button');\n",
              "      quickchartButtonEl.disabled = true;  // To prevent multiple clicks.\n",
              "      quickchartButtonEl.classList.add('colab-df-spinner');\n",
              "      try {\n",
              "        const charts = await google.colab.kernel.invokeFunction(\n",
              "            'suggestCharts', [key], {});\n",
              "      } catch (error) {\n",
              "        console.error('Error during call to suggestCharts:', error);\n",
              "      }\n",
              "      quickchartButtonEl.classList.remove('colab-df-spinner');\n",
              "      quickchartButtonEl.classList.add('colab-df-quickchart-complete');\n",
              "    }\n",
              "    (() => {\n",
              "      let quickchartButtonEl =\n",
              "        document.querySelector('#df-da2db720-4a5a-48d5-a1df-a6c60387e362 button');\n",
              "      quickchartButtonEl.style.display =\n",
              "        google.colab.kernel.accessAllowed ? 'block' : 'none';\n",
              "    })();\n",
              "  </script>\n",
              "</div>\n",
              "\n",
              "    </div>\n",
              "  </div>\n"
            ],
            "application/vnd.google.colaboratory.intrinsic+json": {
              "type": "dataframe",
              "variable_name": "df"
            }
          },
          "metadata": {},
          "execution_count": 12
        }
      ]
    },
    {
      "cell_type": "code",
      "source": [
        "# Last five rows\n",
        "df.tail()"
      ],
      "metadata": {
        "colab": {
          "base_uri": "https://localhost:8080/",
          "height": 0
        },
        "id": "l4nwaE3PXdvu",
        "outputId": "25d29603-c748-4c83-86a2-51a939327114"
      },
      "execution_count": 13,
      "outputs": [
        {
          "output_type": "execute_result",
          "data": {
            "text/plain": [
              "       CLIENTNUM     Attrition_Flag  Customer_Age Gender  Dependent_count  \\\n",
              "10122  772366833  Existing Customer            50      M                2   \n",
              "10123  710638233  Attrited Customer            41      M                2   \n",
              "10124  716506083  Attrited Customer            44      F                1   \n",
              "10125  717406983  Attrited Customer            30      M                2   \n",
              "10126  714337233  Attrited Customer            43      F                2   \n",
              "\n",
              "      Education_Level Marital_Status Income_Category Card_Category  \\\n",
              "10122        Graduate         Single     $40K - $60K          Blue   \n",
              "10123             NaN       Divorced     $40K - $60K          Blue   \n",
              "10124     High School        Married  Less than $40K          Blue   \n",
              "10125        Graduate            NaN     $40K - $60K          Blue   \n",
              "10126        Graduate        Married  Less than $40K        Silver   \n",
              "\n",
              "       Months_on_book  Total_Relationship_Count  Months_Inactive_12_mon  \\\n",
              "10122              40                         3                       2   \n",
              "10123              25                         4                       2   \n",
              "10124              36                         5                       3   \n",
              "10125              36                         4                       3   \n",
              "10126              25                         6                       2   \n",
              "\n",
              "       Contacts_Count_12_mon  Credit_Limit  Total_Revolving_Bal  \\\n",
              "10122                      3      4003.000                 1851   \n",
              "10123                      3      4277.000                 2186   \n",
              "10124                      4      5409.000                    0   \n",
              "10125                      3      5281.000                    0   \n",
              "10126                      4     10388.000                 1961   \n",
              "\n",
              "       Avg_Open_To_Buy  Total_Amt_Chng_Q4_Q1  Total_Trans_Amt  Total_Trans_Ct  \\\n",
              "10122         2152.000                 0.703            15476             117   \n",
              "10123         2091.000                 0.804             8764              69   \n",
              "10124         5409.000                 0.819            10291              60   \n",
              "10125         5281.000                 0.535             8395              62   \n",
              "10126         8427.000                 0.703            10294              61   \n",
              "\n",
              "       Total_Ct_Chng_Q4_Q1  Avg_Utilization_Ratio  \n",
              "10122                0.857                  0.462  \n",
              "10123                0.683                  0.511  \n",
              "10124                0.818                  0.000  \n",
              "10125                0.722                  0.000  \n",
              "10126                0.649                  0.189  "
            ],
            "text/html": [
              "\n",
              "  <div id=\"df-2ddf8eac-9edd-489d-8296-c0ad2193fd3c\" class=\"colab-df-container\">\n",
              "    <div>\n",
              "<style scoped>\n",
              "    .dataframe tbody tr th:only-of-type {\n",
              "        vertical-align: middle;\n",
              "    }\n",
              "\n",
              "    .dataframe tbody tr th {\n",
              "        vertical-align: top;\n",
              "    }\n",
              "\n",
              "    .dataframe thead th {\n",
              "        text-align: right;\n",
              "    }\n",
              "</style>\n",
              "<table border=\"1\" class=\"dataframe\">\n",
              "  <thead>\n",
              "    <tr style=\"text-align: right;\">\n",
              "      <th></th>\n",
              "      <th>CLIENTNUM</th>\n",
              "      <th>Attrition_Flag</th>\n",
              "      <th>Customer_Age</th>\n",
              "      <th>Gender</th>\n",
              "      <th>Dependent_count</th>\n",
              "      <th>Education_Level</th>\n",
              "      <th>Marital_Status</th>\n",
              "      <th>Income_Category</th>\n",
              "      <th>Card_Category</th>\n",
              "      <th>Months_on_book</th>\n",
              "      <th>Total_Relationship_Count</th>\n",
              "      <th>Months_Inactive_12_mon</th>\n",
              "      <th>Contacts_Count_12_mon</th>\n",
              "      <th>Credit_Limit</th>\n",
              "      <th>Total_Revolving_Bal</th>\n",
              "      <th>Avg_Open_To_Buy</th>\n",
              "      <th>Total_Amt_Chng_Q4_Q1</th>\n",
              "      <th>Total_Trans_Amt</th>\n",
              "      <th>Total_Trans_Ct</th>\n",
              "      <th>Total_Ct_Chng_Q4_Q1</th>\n",
              "      <th>Avg_Utilization_Ratio</th>\n",
              "    </tr>\n",
              "  </thead>\n",
              "  <tbody>\n",
              "    <tr>\n",
              "      <th>10122</th>\n",
              "      <td>772366833</td>\n",
              "      <td>Existing Customer</td>\n",
              "      <td>50</td>\n",
              "      <td>M</td>\n",
              "      <td>2</td>\n",
              "      <td>Graduate</td>\n",
              "      <td>Single</td>\n",
              "      <td>$40K - $60K</td>\n",
              "      <td>Blue</td>\n",
              "      <td>40</td>\n",
              "      <td>3</td>\n",
              "      <td>2</td>\n",
              "      <td>3</td>\n",
              "      <td>4003.000</td>\n",
              "      <td>1851</td>\n",
              "      <td>2152.000</td>\n",
              "      <td>0.703</td>\n",
              "      <td>15476</td>\n",
              "      <td>117</td>\n",
              "      <td>0.857</td>\n",
              "      <td>0.462</td>\n",
              "    </tr>\n",
              "    <tr>\n",
              "      <th>10123</th>\n",
              "      <td>710638233</td>\n",
              "      <td>Attrited Customer</td>\n",
              "      <td>41</td>\n",
              "      <td>M</td>\n",
              "      <td>2</td>\n",
              "      <td>NaN</td>\n",
              "      <td>Divorced</td>\n",
              "      <td>$40K - $60K</td>\n",
              "      <td>Blue</td>\n",
              "      <td>25</td>\n",
              "      <td>4</td>\n",
              "      <td>2</td>\n",
              "      <td>3</td>\n",
              "      <td>4277.000</td>\n",
              "      <td>2186</td>\n",
              "      <td>2091.000</td>\n",
              "      <td>0.804</td>\n",
              "      <td>8764</td>\n",
              "      <td>69</td>\n",
              "      <td>0.683</td>\n",
              "      <td>0.511</td>\n",
              "    </tr>\n",
              "    <tr>\n",
              "      <th>10124</th>\n",
              "      <td>716506083</td>\n",
              "      <td>Attrited Customer</td>\n",
              "      <td>44</td>\n",
              "      <td>F</td>\n",
              "      <td>1</td>\n",
              "      <td>High School</td>\n",
              "      <td>Married</td>\n",
              "      <td>Less than $40K</td>\n",
              "      <td>Blue</td>\n",
              "      <td>36</td>\n",
              "      <td>5</td>\n",
              "      <td>3</td>\n",
              "      <td>4</td>\n",
              "      <td>5409.000</td>\n",
              "      <td>0</td>\n",
              "      <td>5409.000</td>\n",
              "      <td>0.819</td>\n",
              "      <td>10291</td>\n",
              "      <td>60</td>\n",
              "      <td>0.818</td>\n",
              "      <td>0.000</td>\n",
              "    </tr>\n",
              "    <tr>\n",
              "      <th>10125</th>\n",
              "      <td>717406983</td>\n",
              "      <td>Attrited Customer</td>\n",
              "      <td>30</td>\n",
              "      <td>M</td>\n",
              "      <td>2</td>\n",
              "      <td>Graduate</td>\n",
              "      <td>NaN</td>\n",
              "      <td>$40K - $60K</td>\n",
              "      <td>Blue</td>\n",
              "      <td>36</td>\n",
              "      <td>4</td>\n",
              "      <td>3</td>\n",
              "      <td>3</td>\n",
              "      <td>5281.000</td>\n",
              "      <td>0</td>\n",
              "      <td>5281.000</td>\n",
              "      <td>0.535</td>\n",
              "      <td>8395</td>\n",
              "      <td>62</td>\n",
              "      <td>0.722</td>\n",
              "      <td>0.000</td>\n",
              "    </tr>\n",
              "    <tr>\n",
              "      <th>10126</th>\n",
              "      <td>714337233</td>\n",
              "      <td>Attrited Customer</td>\n",
              "      <td>43</td>\n",
              "      <td>F</td>\n",
              "      <td>2</td>\n",
              "      <td>Graduate</td>\n",
              "      <td>Married</td>\n",
              "      <td>Less than $40K</td>\n",
              "      <td>Silver</td>\n",
              "      <td>25</td>\n",
              "      <td>6</td>\n",
              "      <td>2</td>\n",
              "      <td>4</td>\n",
              "      <td>10388.000</td>\n",
              "      <td>1961</td>\n",
              "      <td>8427.000</td>\n",
              "      <td>0.703</td>\n",
              "      <td>10294</td>\n",
              "      <td>61</td>\n",
              "      <td>0.649</td>\n",
              "      <td>0.189</td>\n",
              "    </tr>\n",
              "  </tbody>\n",
              "</table>\n",
              "</div>\n",
              "    <div class=\"colab-df-buttons\">\n",
              "\n",
              "  <div class=\"colab-df-container\">\n",
              "    <button class=\"colab-df-convert\" onclick=\"convertToInteractive('df-2ddf8eac-9edd-489d-8296-c0ad2193fd3c')\"\n",
              "            title=\"Convert this dataframe to an interactive table.\"\n",
              "            style=\"display:none;\">\n",
              "\n",
              "  <svg xmlns=\"http://www.w3.org/2000/svg\" height=\"24px\" viewBox=\"0 -960 960 960\">\n",
              "    <path d=\"M120-120v-720h720v720H120Zm60-500h600v-160H180v160Zm220 220h160v-160H400v160Zm0 220h160v-160H400v160ZM180-400h160v-160H180v160Zm440 0h160v-160H620v160ZM180-180h160v-160H180v160Zm440 0h160v-160H620v160Z\"/>\n",
              "  </svg>\n",
              "    </button>\n",
              "\n",
              "  <style>\n",
              "    .colab-df-container {\n",
              "      display:flex;\n",
              "      gap: 12px;\n",
              "    }\n",
              "\n",
              "    .colab-df-convert {\n",
              "      background-color: #E8F0FE;\n",
              "      border: none;\n",
              "      border-radius: 50%;\n",
              "      cursor: pointer;\n",
              "      display: none;\n",
              "      fill: #1967D2;\n",
              "      height: 32px;\n",
              "      padding: 0 0 0 0;\n",
              "      width: 32px;\n",
              "    }\n",
              "\n",
              "    .colab-df-convert:hover {\n",
              "      background-color: #E2EBFA;\n",
              "      box-shadow: 0px 1px 2px rgba(60, 64, 67, 0.3), 0px 1px 3px 1px rgba(60, 64, 67, 0.15);\n",
              "      fill: #174EA6;\n",
              "    }\n",
              "\n",
              "    .colab-df-buttons div {\n",
              "      margin-bottom: 4px;\n",
              "    }\n",
              "\n",
              "    [theme=dark] .colab-df-convert {\n",
              "      background-color: #3B4455;\n",
              "      fill: #D2E3FC;\n",
              "    }\n",
              "\n",
              "    [theme=dark] .colab-df-convert:hover {\n",
              "      background-color: #434B5C;\n",
              "      box-shadow: 0px 1px 3px 1px rgba(0, 0, 0, 0.15);\n",
              "      filter: drop-shadow(0px 1px 2px rgba(0, 0, 0, 0.3));\n",
              "      fill: #FFFFFF;\n",
              "    }\n",
              "  </style>\n",
              "\n",
              "    <script>\n",
              "      const buttonEl =\n",
              "        document.querySelector('#df-2ddf8eac-9edd-489d-8296-c0ad2193fd3c button.colab-df-convert');\n",
              "      buttonEl.style.display =\n",
              "        google.colab.kernel.accessAllowed ? 'block' : 'none';\n",
              "\n",
              "      async function convertToInteractive(key) {\n",
              "        const element = document.querySelector('#df-2ddf8eac-9edd-489d-8296-c0ad2193fd3c');\n",
              "        const dataTable =\n",
              "          await google.colab.kernel.invokeFunction('convertToInteractive',\n",
              "                                                    [key], {});\n",
              "        if (!dataTable) return;\n",
              "\n",
              "        const docLinkHtml = 'Like what you see? Visit the ' +\n",
              "          '<a target=\"_blank\" href=https://colab.research.google.com/notebooks/data_table.ipynb>data table notebook</a>'\n",
              "          + ' to learn more about interactive tables.';\n",
              "        element.innerHTML = '';\n",
              "        dataTable['output_type'] = 'display_data';\n",
              "        await google.colab.output.renderOutput(dataTable, element);\n",
              "        const docLink = document.createElement('div');\n",
              "        docLink.innerHTML = docLinkHtml;\n",
              "        element.appendChild(docLink);\n",
              "      }\n",
              "    </script>\n",
              "  </div>\n",
              "\n",
              "\n",
              "<div id=\"df-f0427464-7e8c-4333-8358-3b4491689c9c\">\n",
              "  <button class=\"colab-df-quickchart\" onclick=\"quickchart('df-f0427464-7e8c-4333-8358-3b4491689c9c')\"\n",
              "            title=\"Suggest charts\"\n",
              "            style=\"display:none;\">\n",
              "\n",
              "<svg xmlns=\"http://www.w3.org/2000/svg\" height=\"24px\"viewBox=\"0 0 24 24\"\n",
              "     width=\"24px\">\n",
              "    <g>\n",
              "        <path d=\"M19 3H5c-1.1 0-2 .9-2 2v14c0 1.1.9 2 2 2h14c1.1 0 2-.9 2-2V5c0-1.1-.9-2-2-2zM9 17H7v-7h2v7zm4 0h-2V7h2v10zm4 0h-2v-4h2v4z\"/>\n",
              "    </g>\n",
              "</svg>\n",
              "  </button>\n",
              "\n",
              "<style>\n",
              "  .colab-df-quickchart {\n",
              "      --bg-color: #E8F0FE;\n",
              "      --fill-color: #1967D2;\n",
              "      --hover-bg-color: #E2EBFA;\n",
              "      --hover-fill-color: #174EA6;\n",
              "      --disabled-fill-color: #AAA;\n",
              "      --disabled-bg-color: #DDD;\n",
              "  }\n",
              "\n",
              "  [theme=dark] .colab-df-quickchart {\n",
              "      --bg-color: #3B4455;\n",
              "      --fill-color: #D2E3FC;\n",
              "      --hover-bg-color: #434B5C;\n",
              "      --hover-fill-color: #FFFFFF;\n",
              "      --disabled-bg-color: #3B4455;\n",
              "      --disabled-fill-color: #666;\n",
              "  }\n",
              "\n",
              "  .colab-df-quickchart {\n",
              "    background-color: var(--bg-color);\n",
              "    border: none;\n",
              "    border-radius: 50%;\n",
              "    cursor: pointer;\n",
              "    display: none;\n",
              "    fill: var(--fill-color);\n",
              "    height: 32px;\n",
              "    padding: 0;\n",
              "    width: 32px;\n",
              "  }\n",
              "\n",
              "  .colab-df-quickchart:hover {\n",
              "    background-color: var(--hover-bg-color);\n",
              "    box-shadow: 0 1px 2px rgba(60, 64, 67, 0.3), 0 1px 3px 1px rgba(60, 64, 67, 0.15);\n",
              "    fill: var(--button-hover-fill-color);\n",
              "  }\n",
              "\n",
              "  .colab-df-quickchart-complete:disabled,\n",
              "  .colab-df-quickchart-complete:disabled:hover {\n",
              "    background-color: var(--disabled-bg-color);\n",
              "    fill: var(--disabled-fill-color);\n",
              "    box-shadow: none;\n",
              "  }\n",
              "\n",
              "  .colab-df-spinner {\n",
              "    border: 2px solid var(--fill-color);\n",
              "    border-color: transparent;\n",
              "    border-bottom-color: var(--fill-color);\n",
              "    animation:\n",
              "      spin 1s steps(1) infinite;\n",
              "  }\n",
              "\n",
              "  @keyframes spin {\n",
              "    0% {\n",
              "      border-color: transparent;\n",
              "      border-bottom-color: var(--fill-color);\n",
              "      border-left-color: var(--fill-color);\n",
              "    }\n",
              "    20% {\n",
              "      border-color: transparent;\n",
              "      border-left-color: var(--fill-color);\n",
              "      border-top-color: var(--fill-color);\n",
              "    }\n",
              "    30% {\n",
              "      border-color: transparent;\n",
              "      border-left-color: var(--fill-color);\n",
              "      border-top-color: var(--fill-color);\n",
              "      border-right-color: var(--fill-color);\n",
              "    }\n",
              "    40% {\n",
              "      border-color: transparent;\n",
              "      border-right-color: var(--fill-color);\n",
              "      border-top-color: var(--fill-color);\n",
              "    }\n",
              "    60% {\n",
              "      border-color: transparent;\n",
              "      border-right-color: var(--fill-color);\n",
              "    }\n",
              "    80% {\n",
              "      border-color: transparent;\n",
              "      border-right-color: var(--fill-color);\n",
              "      border-bottom-color: var(--fill-color);\n",
              "    }\n",
              "    90% {\n",
              "      border-color: transparent;\n",
              "      border-bottom-color: var(--fill-color);\n",
              "    }\n",
              "  }\n",
              "</style>\n",
              "\n",
              "  <script>\n",
              "    async function quickchart(key) {\n",
              "      const quickchartButtonEl =\n",
              "        document.querySelector('#' + key + ' button');\n",
              "      quickchartButtonEl.disabled = true;  // To prevent multiple clicks.\n",
              "      quickchartButtonEl.classList.add('colab-df-spinner');\n",
              "      try {\n",
              "        const charts = await google.colab.kernel.invokeFunction(\n",
              "            'suggestCharts', [key], {});\n",
              "      } catch (error) {\n",
              "        console.error('Error during call to suggestCharts:', error);\n",
              "      }\n",
              "      quickchartButtonEl.classList.remove('colab-df-spinner');\n",
              "      quickchartButtonEl.classList.add('colab-df-quickchart-complete');\n",
              "    }\n",
              "    (() => {\n",
              "      let quickchartButtonEl =\n",
              "        document.querySelector('#df-f0427464-7e8c-4333-8358-3b4491689c9c button');\n",
              "      quickchartButtonEl.style.display =\n",
              "        google.colab.kernel.accessAllowed ? 'block' : 'none';\n",
              "    })();\n",
              "  </script>\n",
              "</div>\n",
              "\n",
              "    </div>\n",
              "  </div>\n"
            ],
            "application/vnd.google.colaboratory.intrinsic+json": {
              "type": "dataframe"
            }
          },
          "metadata": {},
          "execution_count": 13
        }
      ]
    },
    {
      "cell_type": "markdown",
      "source": [
        "#### Observations\n",
        "* Education_Level and Marital_Status have Nan values\n",
        "* Several catergories of string which will need to be treated."
      ],
      "metadata": {
        "id": "lOn-wW2Wi_BP"
      }
    },
    {
      "cell_type": "markdown",
      "source": [
        "### Data Summary"
      ],
      "metadata": {
        "id": "oTMuWLUejX43"
      }
    },
    {
      "cell_type": "code",
      "source": [
        "# Data Summary\n",
        "df.info()"
      ],
      "metadata": {
        "colab": {
          "base_uri": "https://localhost:8080/"
        },
        "id": "DDDOoAkYXrAe",
        "outputId": "464cfbbc-8f21-4b59-8ec7-bef054249e7f"
      },
      "execution_count": 14,
      "outputs": [
        {
          "output_type": "stream",
          "name": "stdout",
          "text": [
            "<class 'pandas.core.frame.DataFrame'>\n",
            "RangeIndex: 10127 entries, 0 to 10126\n",
            "Data columns (total 21 columns):\n",
            " #   Column                    Non-Null Count  Dtype  \n",
            "---  ------                    --------------  -----  \n",
            " 0   CLIENTNUM                 10127 non-null  int64  \n",
            " 1   Attrition_Flag            10127 non-null  object \n",
            " 2   Customer_Age              10127 non-null  int64  \n",
            " 3   Gender                    10127 non-null  object \n",
            " 4   Dependent_count           10127 non-null  int64  \n",
            " 5   Education_Level           8608 non-null   object \n",
            " 6   Marital_Status            9378 non-null   object \n",
            " 7   Income_Category           10127 non-null  object \n",
            " 8   Card_Category             10127 non-null  object \n",
            " 9   Months_on_book            10127 non-null  int64  \n",
            " 10  Total_Relationship_Count  10127 non-null  int64  \n",
            " 11  Months_Inactive_12_mon    10127 non-null  int64  \n",
            " 12  Contacts_Count_12_mon     10127 non-null  int64  \n",
            " 13  Credit_Limit              10127 non-null  float64\n",
            " 14  Total_Revolving_Bal       10127 non-null  int64  \n",
            " 15  Avg_Open_To_Buy           10127 non-null  float64\n",
            " 16  Total_Amt_Chng_Q4_Q1      10127 non-null  float64\n",
            " 17  Total_Trans_Amt           10127 non-null  int64  \n",
            " 18  Total_Trans_Ct            10127 non-null  int64  \n",
            " 19  Total_Ct_Chng_Q4_Q1       10127 non-null  float64\n",
            " 20  Avg_Utilization_Ratio     10127 non-null  float64\n",
            "dtypes: float64(5), int64(10), object(6)\n",
            "memory usage: 1.6+ MB\n"
          ]
        }
      ]
    },
    {
      "cell_type": "markdown",
      "source": [
        "#### Observations\n",
        "* Object data types will need to be transformed to numeric.\n",
        "* There are missing values in Education_Level and Marital_Status"
      ],
      "metadata": {
        "id": "o5W3dvpAjxcu"
      }
    },
    {
      "cell_type": "markdown",
      "source": [
        "### Duplicates and Nulls"
      ],
      "metadata": {
        "id": "OdAnEb3Bjs1W"
      }
    },
    {
      "cell_type": "code",
      "source": [
        "# Check for duplicate rows.\n",
        "df.duplicated().sum()"
      ],
      "metadata": {
        "colab": {
          "base_uri": "https://localhost:8080/"
        },
        "id": "gRRxTo3vfVTP",
        "outputId": "38ed418e-8453-4f3a-909c-4ae9f365ac82"
      },
      "execution_count": 15,
      "outputs": [
        {
          "output_type": "execute_result",
          "data": {
            "text/plain": [
              "0"
            ]
          },
          "metadata": {},
          "execution_count": 15
        }
      ]
    },
    {
      "cell_type": "code",
      "source": [
        "# Check for null values.\n",
        "round(df.isnull().sum() / df.isnull().count() * 100, 2)"
      ],
      "metadata": {
        "colab": {
          "base_uri": "https://localhost:8080/"
        },
        "id": "YRtA-r6rV6Gs",
        "outputId": "fa44b540-a289-43eb-ec97-ff79c3af0d26"
      },
      "execution_count": 16,
      "outputs": [
        {
          "output_type": "execute_result",
          "data": {
            "text/plain": [
              "CLIENTNUM                   0.000\n",
              "Attrition_Flag              0.000\n",
              "Customer_Age                0.000\n",
              "Gender                      0.000\n",
              "Dependent_count             0.000\n",
              "Education_Level            15.000\n",
              "Marital_Status              7.400\n",
              "Income_Category             0.000\n",
              "Card_Category               0.000\n",
              "Months_on_book              0.000\n",
              "Total_Relationship_Count    0.000\n",
              "Months_Inactive_12_mon      0.000\n",
              "Contacts_Count_12_mon       0.000\n",
              "Credit_Limit                0.000\n",
              "Total_Revolving_Bal         0.000\n",
              "Avg_Open_To_Buy             0.000\n",
              "Total_Amt_Chng_Q4_Q1        0.000\n",
              "Total_Trans_Amt             0.000\n",
              "Total_Trans_Ct              0.000\n",
              "Total_Ct_Chng_Q4_Q1         0.000\n",
              "Avg_Utilization_Ratio       0.000\n",
              "dtype: float64"
            ]
          },
          "metadata": {},
          "execution_count": 16
        }
      ]
    },
    {
      "cell_type": "markdown",
      "source": [
        "#### Observations\n",
        "* There is no duplicate data\n",
        "* 15% of Education_Level are unknown values\n",
        "* 7.4% if Marital_Status are unknown values"
      ],
      "metadata": {
        "id": "7z_GWlk7j_eK"
      }
    },
    {
      "cell_type": "markdown",
      "source": [
        "### Column Value Analysis"
      ],
      "metadata": {
        "id": "-JZ8e3SMjeh6"
      }
    },
    {
      "cell_type": "code",
      "source": [
        "# get columns\n",
        "cat_col = df.columns\n",
        "\n",
        "# Occurrences of each unique value in each categorical column sorted by most frequent\n",
        "for column in cat_col:\n",
        "    print(df[column].value_counts(normalize=True, sort=True))\n",
        "    print(\"-\" * 50)"
      ],
      "metadata": {
        "colab": {
          "base_uri": "https://localhost:8080/"
        },
        "id": "OFiU41Nxf_Mh",
        "outputId": "3a36159d-ebfe-41a7-e774-f321275bd1b6"
      },
      "execution_count": 17,
      "outputs": [
        {
          "output_type": "stream",
          "name": "stdout",
          "text": [
            "768805383   0.000\n",
            "711784908   0.000\n",
            "720133908   0.000\n",
            "803197833   0.000\n",
            "812222208   0.000\n",
            "             ... \n",
            "796903083   0.000\n",
            "716014983   0.000\n",
            "712521783   0.000\n",
            "780045708   0.000\n",
            "714337233   0.000\n",
            "Name: CLIENTNUM, Length: 10127, dtype: float64\n",
            "--------------------------------------------------\n",
            "Existing Customer   0.839\n",
            "Attrited Customer   0.161\n",
            "Name: Attrition_Flag, dtype: float64\n",
            "--------------------------------------------------\n",
            "44   0.049\n",
            "49   0.049\n",
            "46   0.048\n",
            "45   0.048\n",
            "47   0.047\n",
            "43   0.047\n",
            "48   0.047\n",
            "50   0.045\n",
            "42   0.042\n",
            "51   0.039\n",
            "53   0.038\n",
            "41   0.037\n",
            "52   0.037\n",
            "40   0.036\n",
            "39   0.033\n",
            "54   0.030\n",
            "38   0.030\n",
            "55   0.028\n",
            "56   0.026\n",
            "37   0.026\n",
            "57   0.022\n",
            "36   0.022\n",
            "35   0.018\n",
            "59   0.016\n",
            "58   0.016\n",
            "34   0.014\n",
            "33   0.013\n",
            "60   0.013\n",
            "32   0.010\n",
            "65   0.010\n",
            "61   0.009\n",
            "62   0.009\n",
            "31   0.009\n",
            "26   0.008\n",
            "30   0.007\n",
            "63   0.006\n",
            "29   0.006\n",
            "64   0.004\n",
            "27   0.003\n",
            "28   0.003\n",
            "67   0.000\n",
            "66   0.000\n",
            "68   0.000\n",
            "70   0.000\n",
            "73   0.000\n",
            "Name: Customer_Age, dtype: float64\n",
            "--------------------------------------------------\n",
            "F   0.529\n",
            "M   0.471\n",
            "Name: Gender, dtype: float64\n",
            "--------------------------------------------------\n",
            "3   0.270\n",
            "2   0.262\n",
            "1   0.181\n",
            "4   0.155\n",
            "0   0.089\n",
            "5   0.042\n",
            "Name: Dependent_count, dtype: float64\n",
            "--------------------------------------------------\n",
            "Graduate        0.363\n",
            "High School     0.234\n",
            "Uneducated      0.173\n",
            "College         0.118\n",
            "Post-Graduate   0.060\n",
            "Doctorate       0.052\n",
            "Name: Education_Level, dtype: float64\n",
            "--------------------------------------------------\n",
            "Married    0.500\n",
            "Single     0.420\n",
            "Divorced   0.080\n",
            "Name: Marital_Status, dtype: float64\n",
            "--------------------------------------------------\n",
            "Less than $40K   0.352\n",
            "$40K - $60K      0.177\n",
            "$80K - $120K     0.152\n",
            "$60K - $80K      0.138\n",
            "abc              0.110\n",
            "$120K +          0.072\n",
            "Name: Income_Category, dtype: float64\n",
            "--------------------------------------------------\n",
            "Blue       0.932\n",
            "Silver     0.055\n",
            "Gold       0.011\n",
            "Platinum   0.002\n",
            "Name: Card_Category, dtype: float64\n",
            "--------------------------------------------------\n",
            "36   0.243\n",
            "37   0.035\n",
            "34   0.035\n",
            "38   0.034\n",
            "39   0.034\n",
            "40   0.033\n",
            "31   0.031\n",
            "35   0.031\n",
            "33   0.030\n",
            "30   0.030\n",
            "41   0.029\n",
            "32   0.029\n",
            "28   0.027\n",
            "43   0.027\n",
            "42   0.027\n",
            "29   0.024\n",
            "44   0.023\n",
            "45   0.022\n",
            "27   0.020\n",
            "46   0.019\n",
            "26   0.018\n",
            "47   0.017\n",
            "25   0.016\n",
            "48   0.016\n",
            "24   0.016\n",
            "49   0.014\n",
            "23   0.011\n",
            "22   0.010\n",
            "56   0.010\n",
            "50   0.009\n",
            "21   0.008\n",
            "51   0.008\n",
            "53   0.008\n",
            "20   0.007\n",
            "13   0.007\n",
            "19   0.006\n",
            "52   0.006\n",
            "18   0.006\n",
            "54   0.005\n",
            "55   0.004\n",
            "17   0.004\n",
            "15   0.003\n",
            "16   0.003\n",
            "14   0.002\n",
            "Name: Months_on_book, dtype: float64\n",
            "--------------------------------------------------\n",
            "3   0.228\n",
            "4   0.189\n",
            "5   0.187\n",
            "6   0.184\n",
            "2   0.123\n",
            "1   0.090\n",
            "Name: Total_Relationship_Count, dtype: float64\n",
            "--------------------------------------------------\n",
            "3   0.380\n",
            "2   0.324\n",
            "1   0.220\n",
            "4   0.043\n",
            "5   0.018\n",
            "6   0.012\n",
            "0   0.003\n",
            "Name: Months_Inactive_12_mon, dtype: float64\n",
            "--------------------------------------------------\n",
            "3   0.334\n",
            "2   0.319\n",
            "1   0.148\n",
            "4   0.137\n",
            "0   0.039\n",
            "5   0.017\n",
            "6   0.005\n",
            "Name: Contacts_Count_12_mon, dtype: float64\n",
            "--------------------------------------------------\n",
            "34516.000   0.050\n",
            "1438.300    0.050\n",
            "9959.000    0.002\n",
            "15987.000   0.002\n",
            "23981.000   0.001\n",
            "             ... \n",
            "9183.000    0.000\n",
            "29923.000   0.000\n",
            "9551.000    0.000\n",
            "11558.000   0.000\n",
            "10388.000   0.000\n",
            "Name: Credit_Limit, Length: 6205, dtype: float64\n",
            "--------------------------------------------------\n",
            "0      0.244\n",
            "2517   0.050\n",
            "1965   0.001\n",
            "1480   0.001\n",
            "1434   0.001\n",
            "        ... \n",
            "2467   0.000\n",
            "2131   0.000\n",
            "2400   0.000\n",
            "2144   0.000\n",
            "2241   0.000\n",
            "Name: Total_Revolving_Bal, Length: 1974, dtype: float64\n",
            "--------------------------------------------------\n",
            "1438.300    0.032\n",
            "34516.000   0.010\n",
            "31999.000   0.003\n",
            "787.000     0.001\n",
            "701.000     0.001\n",
            "             ... \n",
            "6543.000    0.000\n",
            "2808.000    0.000\n",
            "21549.000   0.000\n",
            "6189.000    0.000\n",
            "8427.000    0.000\n",
            "Name: Avg_Open_To_Buy, Length: 6813, dtype: float64\n",
            "--------------------------------------------------\n",
            "0.791   0.004\n",
            "0.712   0.003\n",
            "0.743   0.003\n",
            "0.718   0.003\n",
            "0.735   0.003\n",
            "         ... \n",
            "1.216   0.000\n",
            "1.645   0.000\n",
            "1.089   0.000\n",
            "2.103   0.000\n",
            "0.166   0.000\n",
            "Name: Total_Amt_Chng_Q4_Q1, Length: 1158, dtype: float64\n",
            "--------------------------------------------------\n",
            "4253    0.001\n",
            "4509    0.001\n",
            "4518    0.001\n",
            "2229    0.001\n",
            "4220    0.001\n",
            "         ... \n",
            "1274    0.000\n",
            "4521    0.000\n",
            "3231    0.000\n",
            "4394    0.000\n",
            "10294   0.000\n",
            "Name: Total_Trans_Amt, Length: 5033, dtype: float64\n",
            "--------------------------------------------------\n",
            "81    0.021\n",
            "71    0.020\n",
            "75    0.020\n",
            "69    0.020\n",
            "82    0.020\n",
            "       ... \n",
            "11    0.000\n",
            "134   0.000\n",
            "139   0.000\n",
            "138   0.000\n",
            "132   0.000\n",
            "Name: Total_Trans_Ct, Length: 126, dtype: float64\n",
            "--------------------------------------------------\n",
            "0.667   0.017\n",
            "1.000   0.016\n",
            "0.500   0.016\n",
            "0.750   0.015\n",
            "0.600   0.011\n",
            "         ... \n",
            "0.827   0.000\n",
            "0.343   0.000\n",
            "1.579   0.000\n",
            "0.125   0.000\n",
            "0.359   0.000\n",
            "Name: Total_Ct_Chng_Q4_Q1, Length: 830, dtype: float64\n",
            "--------------------------------------------------\n",
            "0.000   0.244\n",
            "0.073   0.004\n",
            "0.057   0.003\n",
            "0.048   0.003\n",
            "0.060   0.003\n",
            "         ... \n",
            "0.927   0.000\n",
            "0.935   0.000\n",
            "0.954   0.000\n",
            "0.385   0.000\n",
            "0.009   0.000\n",
            "Name: Avg_Utilization_Ratio, Length: 964, dtype: float64\n",
            "--------------------------------------------------\n"
          ]
        }
      ]
    },
    {
      "cell_type": "code",
      "execution_count": 18,
      "metadata": {
        "id": "01hJQ7EfMKtK",
        "colab": {
          "base_uri": "https://localhost:8080/",
          "height": 0
        },
        "outputId": "2ae9ce5c-d057-484c-81d2-51f321f2cb43"
      },
      "outputs": [
        {
          "output_type": "execute_result",
          "data": {
            "text/plain": [
              "                 count unique                top  freq\n",
              "Attrition_Flag   10127      2  Existing Customer  8500\n",
              "Gender           10127      2                  F  5358\n",
              "Education_Level   8608      6           Graduate  3128\n",
              "Marital_Status    9378      3            Married  4687\n",
              "Income_Category  10127      6     Less than $40K  3561\n",
              "Card_Category    10127      4               Blue  9436"
            ],
            "text/html": [
              "\n",
              "  <div id=\"df-04354b4d-bbe7-4a3d-b602-641af3c4c012\" class=\"colab-df-container\">\n",
              "    <div>\n",
              "<style scoped>\n",
              "    .dataframe tbody tr th:only-of-type {\n",
              "        vertical-align: middle;\n",
              "    }\n",
              "\n",
              "    .dataframe tbody tr th {\n",
              "        vertical-align: top;\n",
              "    }\n",
              "\n",
              "    .dataframe thead th {\n",
              "        text-align: right;\n",
              "    }\n",
              "</style>\n",
              "<table border=\"1\" class=\"dataframe\">\n",
              "  <thead>\n",
              "    <tr style=\"text-align: right;\">\n",
              "      <th></th>\n",
              "      <th>count</th>\n",
              "      <th>unique</th>\n",
              "      <th>top</th>\n",
              "      <th>freq</th>\n",
              "    </tr>\n",
              "  </thead>\n",
              "  <tbody>\n",
              "    <tr>\n",
              "      <th>Attrition_Flag</th>\n",
              "      <td>10127</td>\n",
              "      <td>2</td>\n",
              "      <td>Existing Customer</td>\n",
              "      <td>8500</td>\n",
              "    </tr>\n",
              "    <tr>\n",
              "      <th>Gender</th>\n",
              "      <td>10127</td>\n",
              "      <td>2</td>\n",
              "      <td>F</td>\n",
              "      <td>5358</td>\n",
              "    </tr>\n",
              "    <tr>\n",
              "      <th>Education_Level</th>\n",
              "      <td>8608</td>\n",
              "      <td>6</td>\n",
              "      <td>Graduate</td>\n",
              "      <td>3128</td>\n",
              "    </tr>\n",
              "    <tr>\n",
              "      <th>Marital_Status</th>\n",
              "      <td>9378</td>\n",
              "      <td>3</td>\n",
              "      <td>Married</td>\n",
              "      <td>4687</td>\n",
              "    </tr>\n",
              "    <tr>\n",
              "      <th>Income_Category</th>\n",
              "      <td>10127</td>\n",
              "      <td>6</td>\n",
              "      <td>Less than $40K</td>\n",
              "      <td>3561</td>\n",
              "    </tr>\n",
              "    <tr>\n",
              "      <th>Card_Category</th>\n",
              "      <td>10127</td>\n",
              "      <td>4</td>\n",
              "      <td>Blue</td>\n",
              "      <td>9436</td>\n",
              "    </tr>\n",
              "  </tbody>\n",
              "</table>\n",
              "</div>\n",
              "    <div class=\"colab-df-buttons\">\n",
              "\n",
              "  <div class=\"colab-df-container\">\n",
              "    <button class=\"colab-df-convert\" onclick=\"convertToInteractive('df-04354b4d-bbe7-4a3d-b602-641af3c4c012')\"\n",
              "            title=\"Convert this dataframe to an interactive table.\"\n",
              "            style=\"display:none;\">\n",
              "\n",
              "  <svg xmlns=\"http://www.w3.org/2000/svg\" height=\"24px\" viewBox=\"0 -960 960 960\">\n",
              "    <path d=\"M120-120v-720h720v720H120Zm60-500h600v-160H180v160Zm220 220h160v-160H400v160Zm0 220h160v-160H400v160ZM180-400h160v-160H180v160Zm440 0h160v-160H620v160ZM180-180h160v-160H180v160Zm440 0h160v-160H620v160Z\"/>\n",
              "  </svg>\n",
              "    </button>\n",
              "\n",
              "  <style>\n",
              "    .colab-df-container {\n",
              "      display:flex;\n",
              "      gap: 12px;\n",
              "    }\n",
              "\n",
              "    .colab-df-convert {\n",
              "      background-color: #E8F0FE;\n",
              "      border: none;\n",
              "      border-radius: 50%;\n",
              "      cursor: pointer;\n",
              "      display: none;\n",
              "      fill: #1967D2;\n",
              "      height: 32px;\n",
              "      padding: 0 0 0 0;\n",
              "      width: 32px;\n",
              "    }\n",
              "\n",
              "    .colab-df-convert:hover {\n",
              "      background-color: #E2EBFA;\n",
              "      box-shadow: 0px 1px 2px rgba(60, 64, 67, 0.3), 0px 1px 3px 1px rgba(60, 64, 67, 0.15);\n",
              "      fill: #174EA6;\n",
              "    }\n",
              "\n",
              "    .colab-df-buttons div {\n",
              "      margin-bottom: 4px;\n",
              "    }\n",
              "\n",
              "    [theme=dark] .colab-df-convert {\n",
              "      background-color: #3B4455;\n",
              "      fill: #D2E3FC;\n",
              "    }\n",
              "\n",
              "    [theme=dark] .colab-df-convert:hover {\n",
              "      background-color: #434B5C;\n",
              "      box-shadow: 0px 1px 3px 1px rgba(0, 0, 0, 0.15);\n",
              "      filter: drop-shadow(0px 1px 2px rgba(0, 0, 0, 0.3));\n",
              "      fill: #FFFFFF;\n",
              "    }\n",
              "  </style>\n",
              "\n",
              "    <script>\n",
              "      const buttonEl =\n",
              "        document.querySelector('#df-04354b4d-bbe7-4a3d-b602-641af3c4c012 button.colab-df-convert');\n",
              "      buttonEl.style.display =\n",
              "        google.colab.kernel.accessAllowed ? 'block' : 'none';\n",
              "\n",
              "      async function convertToInteractive(key) {\n",
              "        const element = document.querySelector('#df-04354b4d-bbe7-4a3d-b602-641af3c4c012');\n",
              "        const dataTable =\n",
              "          await google.colab.kernel.invokeFunction('convertToInteractive',\n",
              "                                                    [key], {});\n",
              "        if (!dataTable) return;\n",
              "\n",
              "        const docLinkHtml = 'Like what you see? Visit the ' +\n",
              "          '<a target=\"_blank\" href=https://colab.research.google.com/notebooks/data_table.ipynb>data table notebook</a>'\n",
              "          + ' to learn more about interactive tables.';\n",
              "        element.innerHTML = '';\n",
              "        dataTable['output_type'] = 'display_data';\n",
              "        await google.colab.output.renderOutput(dataTable, element);\n",
              "        const docLink = document.createElement('div');\n",
              "        docLink.innerHTML = docLinkHtml;\n",
              "        element.appendChild(docLink);\n",
              "      }\n",
              "    </script>\n",
              "  </div>\n",
              "\n",
              "\n",
              "<div id=\"df-d817fe06-592d-4bb3-9ee6-40e556baa3bc\">\n",
              "  <button class=\"colab-df-quickchart\" onclick=\"quickchart('df-d817fe06-592d-4bb3-9ee6-40e556baa3bc')\"\n",
              "            title=\"Suggest charts\"\n",
              "            style=\"display:none;\">\n",
              "\n",
              "<svg xmlns=\"http://www.w3.org/2000/svg\" height=\"24px\"viewBox=\"0 0 24 24\"\n",
              "     width=\"24px\">\n",
              "    <g>\n",
              "        <path d=\"M19 3H5c-1.1 0-2 .9-2 2v14c0 1.1.9 2 2 2h14c1.1 0 2-.9 2-2V5c0-1.1-.9-2-2-2zM9 17H7v-7h2v7zm4 0h-2V7h2v10zm4 0h-2v-4h2v4z\"/>\n",
              "    </g>\n",
              "</svg>\n",
              "  </button>\n",
              "\n",
              "<style>\n",
              "  .colab-df-quickchart {\n",
              "      --bg-color: #E8F0FE;\n",
              "      --fill-color: #1967D2;\n",
              "      --hover-bg-color: #E2EBFA;\n",
              "      --hover-fill-color: #174EA6;\n",
              "      --disabled-fill-color: #AAA;\n",
              "      --disabled-bg-color: #DDD;\n",
              "  }\n",
              "\n",
              "  [theme=dark] .colab-df-quickchart {\n",
              "      --bg-color: #3B4455;\n",
              "      --fill-color: #D2E3FC;\n",
              "      --hover-bg-color: #434B5C;\n",
              "      --hover-fill-color: #FFFFFF;\n",
              "      --disabled-bg-color: #3B4455;\n",
              "      --disabled-fill-color: #666;\n",
              "  }\n",
              "\n",
              "  .colab-df-quickchart {\n",
              "    background-color: var(--bg-color);\n",
              "    border: none;\n",
              "    border-radius: 50%;\n",
              "    cursor: pointer;\n",
              "    display: none;\n",
              "    fill: var(--fill-color);\n",
              "    height: 32px;\n",
              "    padding: 0;\n",
              "    width: 32px;\n",
              "  }\n",
              "\n",
              "  .colab-df-quickchart:hover {\n",
              "    background-color: var(--hover-bg-color);\n",
              "    box-shadow: 0 1px 2px rgba(60, 64, 67, 0.3), 0 1px 3px 1px rgba(60, 64, 67, 0.15);\n",
              "    fill: var(--button-hover-fill-color);\n",
              "  }\n",
              "\n",
              "  .colab-df-quickchart-complete:disabled,\n",
              "  .colab-df-quickchart-complete:disabled:hover {\n",
              "    background-color: var(--disabled-bg-color);\n",
              "    fill: var(--disabled-fill-color);\n",
              "    box-shadow: none;\n",
              "  }\n",
              "\n",
              "  .colab-df-spinner {\n",
              "    border: 2px solid var(--fill-color);\n",
              "    border-color: transparent;\n",
              "    border-bottom-color: var(--fill-color);\n",
              "    animation:\n",
              "      spin 1s steps(1) infinite;\n",
              "  }\n",
              "\n",
              "  @keyframes spin {\n",
              "    0% {\n",
              "      border-color: transparent;\n",
              "      border-bottom-color: var(--fill-color);\n",
              "      border-left-color: var(--fill-color);\n",
              "    }\n",
              "    20% {\n",
              "      border-color: transparent;\n",
              "      border-left-color: var(--fill-color);\n",
              "      border-top-color: var(--fill-color);\n",
              "    }\n",
              "    30% {\n",
              "      border-color: transparent;\n",
              "      border-left-color: var(--fill-color);\n",
              "      border-top-color: var(--fill-color);\n",
              "      border-right-color: var(--fill-color);\n",
              "    }\n",
              "    40% {\n",
              "      border-color: transparent;\n",
              "      border-right-color: var(--fill-color);\n",
              "      border-top-color: var(--fill-color);\n",
              "    }\n",
              "    60% {\n",
              "      border-color: transparent;\n",
              "      border-right-color: var(--fill-color);\n",
              "    }\n",
              "    80% {\n",
              "      border-color: transparent;\n",
              "      border-right-color: var(--fill-color);\n",
              "      border-bottom-color: var(--fill-color);\n",
              "    }\n",
              "    90% {\n",
              "      border-color: transparent;\n",
              "      border-bottom-color: var(--fill-color);\n",
              "    }\n",
              "  }\n",
              "</style>\n",
              "\n",
              "  <script>\n",
              "    async function quickchart(key) {\n",
              "      const quickchartButtonEl =\n",
              "        document.querySelector('#' + key + ' button');\n",
              "      quickchartButtonEl.disabled = true;  // To prevent multiple clicks.\n",
              "      quickchartButtonEl.classList.add('colab-df-spinner');\n",
              "      try {\n",
              "        const charts = await google.colab.kernel.invokeFunction(\n",
              "            'suggestCharts', [key], {});\n",
              "      } catch (error) {\n",
              "        console.error('Error during call to suggestCharts:', error);\n",
              "      }\n",
              "      quickchartButtonEl.classList.remove('colab-df-spinner');\n",
              "      quickchartButtonEl.classList.add('colab-df-quickchart-complete');\n",
              "    }\n",
              "    (() => {\n",
              "      let quickchartButtonEl =\n",
              "        document.querySelector('#df-d817fe06-592d-4bb3-9ee6-40e556baa3bc button');\n",
              "      quickchartButtonEl.style.display =\n",
              "        google.colab.kernel.accessAllowed ? 'block' : 'none';\n",
              "    })();\n",
              "  </script>\n",
              "</div>\n",
              "\n",
              "    </div>\n",
              "  </div>\n"
            ],
            "application/vnd.google.colaboratory.intrinsic+json": {
              "type": "dataframe",
              "summary": "{\n  \"name\": \"df\",\n  \"rows\": 6,\n  \"fields\": [\n    {\n      \"column\": \"count\",\n      \"properties\": {\n        \"dtype\": \"date\",\n        \"min\": \"8608\",\n        \"max\": \"10127\",\n        \"num_unique_values\": 3,\n        \"samples\": [\n          \"10127\",\n          \"8608\",\n          \"9378\"\n        ],\n        \"semantic_type\": \"\",\n        \"description\": \"\"\n      }\n    },\n    {\n      \"column\": \"unique\",\n      \"properties\": {\n        \"dtype\": \"date\",\n        \"min\": 2,\n        \"max\": 6,\n        \"num_unique_values\": 4,\n        \"samples\": [\n          6,\n          4,\n          2\n        ],\n        \"semantic_type\": \"\",\n        \"description\": \"\"\n      }\n    },\n    {\n      \"column\": \"top\",\n      \"properties\": {\n        \"dtype\": \"string\",\n        \"num_unique_values\": 6,\n        \"samples\": [\n          \"Existing Customer\",\n          \"F\",\n          \"Blue\"\n        ],\n        \"semantic_type\": \"\",\n        \"description\": \"\"\n      }\n    },\n    {\n      \"column\": \"freq\",\n      \"properties\": {\n        \"dtype\": \"date\",\n        \"min\": \"3128\",\n        \"max\": \"9436\",\n        \"num_unique_values\": 6,\n        \"samples\": [\n          \"8500\",\n          \"5358\",\n          \"9436\"\n        ],\n        \"semantic_type\": \"\",\n        \"description\": \"\"\n      }\n    }\n  ]\n}"
            }
          },
          "metadata": {},
          "execution_count": 18
        }
      ],
      "source": [
        "# Look at strings only.\n",
        "df.describe(include=['object']).T"
      ]
    },
    {
      "cell_type": "code",
      "source": [
        "# Look at numeric data types.\n",
        "df.describe().T"
      ],
      "metadata": {
        "colab": {
          "base_uri": "https://localhost:8080/",
          "height": 0
        },
        "id": "EL-LmQUrqa3O",
        "outputId": "7b46653c-d115-4efd-fde3-6bde146883b0"
      },
      "execution_count": 19,
      "outputs": [
        {
          "output_type": "execute_result",
          "data": {
            "text/plain": [
              "                             count          mean          std           min  \\\n",
              "CLIENTNUM                10127.000 739177606.334 36903783.450 708082083.000   \n",
              "Customer_Age             10127.000        46.326        8.017        26.000   \n",
              "Dependent_count          10127.000         2.346        1.299         0.000   \n",
              "Months_on_book           10127.000        35.928        7.986        13.000   \n",
              "Total_Relationship_Count 10127.000         3.813        1.554         1.000   \n",
              "Months_Inactive_12_mon   10127.000         2.341        1.011         0.000   \n",
              "Contacts_Count_12_mon    10127.000         2.455        1.106         0.000   \n",
              "Credit_Limit             10127.000      8631.954     9088.777      1438.300   \n",
              "Total_Revolving_Bal      10127.000      1162.814      814.987         0.000   \n",
              "Avg_Open_To_Buy          10127.000      7469.140     9090.685         3.000   \n",
              "Total_Amt_Chng_Q4_Q1     10127.000         0.760        0.219         0.000   \n",
              "Total_Trans_Amt          10127.000      4404.086     3397.129       510.000   \n",
              "Total_Trans_Ct           10127.000        64.859       23.473        10.000   \n",
              "Total_Ct_Chng_Q4_Q1      10127.000         0.712        0.238         0.000   \n",
              "Avg_Utilization_Ratio    10127.000         0.275        0.276         0.000   \n",
              "\n",
              "                                   25%           50%           75%  \\\n",
              "CLIENTNUM                713036770.500 717926358.000 773143533.000   \n",
              "Customer_Age                    41.000        46.000        52.000   \n",
              "Dependent_count                  1.000         2.000         3.000   \n",
              "Months_on_book                  31.000        36.000        40.000   \n",
              "Total_Relationship_Count         3.000         4.000         5.000   \n",
              "Months_Inactive_12_mon           2.000         2.000         3.000   \n",
              "Contacts_Count_12_mon            2.000         2.000         3.000   \n",
              "Credit_Limit                  2555.000      4549.000     11067.500   \n",
              "Total_Revolving_Bal            359.000      1276.000      1784.000   \n",
              "Avg_Open_To_Buy               1324.500      3474.000      9859.000   \n",
              "Total_Amt_Chng_Q4_Q1             0.631         0.736         0.859   \n",
              "Total_Trans_Amt               2155.500      3899.000      4741.000   \n",
              "Total_Trans_Ct                  45.000        67.000        81.000   \n",
              "Total_Ct_Chng_Q4_Q1              0.582         0.702         0.818   \n",
              "Avg_Utilization_Ratio            0.023         0.176         0.503   \n",
              "\n",
              "                                   max  \n",
              "CLIENTNUM                828343083.000  \n",
              "Customer_Age                    73.000  \n",
              "Dependent_count                  5.000  \n",
              "Months_on_book                  56.000  \n",
              "Total_Relationship_Count         6.000  \n",
              "Months_Inactive_12_mon           6.000  \n",
              "Contacts_Count_12_mon            6.000  \n",
              "Credit_Limit                 34516.000  \n",
              "Total_Revolving_Bal           2517.000  \n",
              "Avg_Open_To_Buy              34516.000  \n",
              "Total_Amt_Chng_Q4_Q1             3.397  \n",
              "Total_Trans_Amt              18484.000  \n",
              "Total_Trans_Ct                 139.000  \n",
              "Total_Ct_Chng_Q4_Q1              3.714  \n",
              "Avg_Utilization_Ratio            0.999  "
            ],
            "text/html": [
              "\n",
              "  <div id=\"df-6f718c30-f345-404b-a596-19a64dbe3381\" class=\"colab-df-container\">\n",
              "    <div>\n",
              "<style scoped>\n",
              "    .dataframe tbody tr th:only-of-type {\n",
              "        vertical-align: middle;\n",
              "    }\n",
              "\n",
              "    .dataframe tbody tr th {\n",
              "        vertical-align: top;\n",
              "    }\n",
              "\n",
              "    .dataframe thead th {\n",
              "        text-align: right;\n",
              "    }\n",
              "</style>\n",
              "<table border=\"1\" class=\"dataframe\">\n",
              "  <thead>\n",
              "    <tr style=\"text-align: right;\">\n",
              "      <th></th>\n",
              "      <th>count</th>\n",
              "      <th>mean</th>\n",
              "      <th>std</th>\n",
              "      <th>min</th>\n",
              "      <th>25%</th>\n",
              "      <th>50%</th>\n",
              "      <th>75%</th>\n",
              "      <th>max</th>\n",
              "    </tr>\n",
              "  </thead>\n",
              "  <tbody>\n",
              "    <tr>\n",
              "      <th>CLIENTNUM</th>\n",
              "      <td>10127.000</td>\n",
              "      <td>739177606.334</td>\n",
              "      <td>36903783.450</td>\n",
              "      <td>708082083.000</td>\n",
              "      <td>713036770.500</td>\n",
              "      <td>717926358.000</td>\n",
              "      <td>773143533.000</td>\n",
              "      <td>828343083.000</td>\n",
              "    </tr>\n",
              "    <tr>\n",
              "      <th>Customer_Age</th>\n",
              "      <td>10127.000</td>\n",
              "      <td>46.326</td>\n",
              "      <td>8.017</td>\n",
              "      <td>26.000</td>\n",
              "      <td>41.000</td>\n",
              "      <td>46.000</td>\n",
              "      <td>52.000</td>\n",
              "      <td>73.000</td>\n",
              "    </tr>\n",
              "    <tr>\n",
              "      <th>Dependent_count</th>\n",
              "      <td>10127.000</td>\n",
              "      <td>2.346</td>\n",
              "      <td>1.299</td>\n",
              "      <td>0.000</td>\n",
              "      <td>1.000</td>\n",
              "      <td>2.000</td>\n",
              "      <td>3.000</td>\n",
              "      <td>5.000</td>\n",
              "    </tr>\n",
              "    <tr>\n",
              "      <th>Months_on_book</th>\n",
              "      <td>10127.000</td>\n",
              "      <td>35.928</td>\n",
              "      <td>7.986</td>\n",
              "      <td>13.000</td>\n",
              "      <td>31.000</td>\n",
              "      <td>36.000</td>\n",
              "      <td>40.000</td>\n",
              "      <td>56.000</td>\n",
              "    </tr>\n",
              "    <tr>\n",
              "      <th>Total_Relationship_Count</th>\n",
              "      <td>10127.000</td>\n",
              "      <td>3.813</td>\n",
              "      <td>1.554</td>\n",
              "      <td>1.000</td>\n",
              "      <td>3.000</td>\n",
              "      <td>4.000</td>\n",
              "      <td>5.000</td>\n",
              "      <td>6.000</td>\n",
              "    </tr>\n",
              "    <tr>\n",
              "      <th>Months_Inactive_12_mon</th>\n",
              "      <td>10127.000</td>\n",
              "      <td>2.341</td>\n",
              "      <td>1.011</td>\n",
              "      <td>0.000</td>\n",
              "      <td>2.000</td>\n",
              "      <td>2.000</td>\n",
              "      <td>3.000</td>\n",
              "      <td>6.000</td>\n",
              "    </tr>\n",
              "    <tr>\n",
              "      <th>Contacts_Count_12_mon</th>\n",
              "      <td>10127.000</td>\n",
              "      <td>2.455</td>\n",
              "      <td>1.106</td>\n",
              "      <td>0.000</td>\n",
              "      <td>2.000</td>\n",
              "      <td>2.000</td>\n",
              "      <td>3.000</td>\n",
              "      <td>6.000</td>\n",
              "    </tr>\n",
              "    <tr>\n",
              "      <th>Credit_Limit</th>\n",
              "      <td>10127.000</td>\n",
              "      <td>8631.954</td>\n",
              "      <td>9088.777</td>\n",
              "      <td>1438.300</td>\n",
              "      <td>2555.000</td>\n",
              "      <td>4549.000</td>\n",
              "      <td>11067.500</td>\n",
              "      <td>34516.000</td>\n",
              "    </tr>\n",
              "    <tr>\n",
              "      <th>Total_Revolving_Bal</th>\n",
              "      <td>10127.000</td>\n",
              "      <td>1162.814</td>\n",
              "      <td>814.987</td>\n",
              "      <td>0.000</td>\n",
              "      <td>359.000</td>\n",
              "      <td>1276.000</td>\n",
              "      <td>1784.000</td>\n",
              "      <td>2517.000</td>\n",
              "    </tr>\n",
              "    <tr>\n",
              "      <th>Avg_Open_To_Buy</th>\n",
              "      <td>10127.000</td>\n",
              "      <td>7469.140</td>\n",
              "      <td>9090.685</td>\n",
              "      <td>3.000</td>\n",
              "      <td>1324.500</td>\n",
              "      <td>3474.000</td>\n",
              "      <td>9859.000</td>\n",
              "      <td>34516.000</td>\n",
              "    </tr>\n",
              "    <tr>\n",
              "      <th>Total_Amt_Chng_Q4_Q1</th>\n",
              "      <td>10127.000</td>\n",
              "      <td>0.760</td>\n",
              "      <td>0.219</td>\n",
              "      <td>0.000</td>\n",
              "      <td>0.631</td>\n",
              "      <td>0.736</td>\n",
              "      <td>0.859</td>\n",
              "      <td>3.397</td>\n",
              "    </tr>\n",
              "    <tr>\n",
              "      <th>Total_Trans_Amt</th>\n",
              "      <td>10127.000</td>\n",
              "      <td>4404.086</td>\n",
              "      <td>3397.129</td>\n",
              "      <td>510.000</td>\n",
              "      <td>2155.500</td>\n",
              "      <td>3899.000</td>\n",
              "      <td>4741.000</td>\n",
              "      <td>18484.000</td>\n",
              "    </tr>\n",
              "    <tr>\n",
              "      <th>Total_Trans_Ct</th>\n",
              "      <td>10127.000</td>\n",
              "      <td>64.859</td>\n",
              "      <td>23.473</td>\n",
              "      <td>10.000</td>\n",
              "      <td>45.000</td>\n",
              "      <td>67.000</td>\n",
              "      <td>81.000</td>\n",
              "      <td>139.000</td>\n",
              "    </tr>\n",
              "    <tr>\n",
              "      <th>Total_Ct_Chng_Q4_Q1</th>\n",
              "      <td>10127.000</td>\n",
              "      <td>0.712</td>\n",
              "      <td>0.238</td>\n",
              "      <td>0.000</td>\n",
              "      <td>0.582</td>\n",
              "      <td>0.702</td>\n",
              "      <td>0.818</td>\n",
              "      <td>3.714</td>\n",
              "    </tr>\n",
              "    <tr>\n",
              "      <th>Avg_Utilization_Ratio</th>\n",
              "      <td>10127.000</td>\n",
              "      <td>0.275</td>\n",
              "      <td>0.276</td>\n",
              "      <td>0.000</td>\n",
              "      <td>0.023</td>\n",
              "      <td>0.176</td>\n",
              "      <td>0.503</td>\n",
              "      <td>0.999</td>\n",
              "    </tr>\n",
              "  </tbody>\n",
              "</table>\n",
              "</div>\n",
              "    <div class=\"colab-df-buttons\">\n",
              "\n",
              "  <div class=\"colab-df-container\">\n",
              "    <button class=\"colab-df-convert\" onclick=\"convertToInteractive('df-6f718c30-f345-404b-a596-19a64dbe3381')\"\n",
              "            title=\"Convert this dataframe to an interactive table.\"\n",
              "            style=\"display:none;\">\n",
              "\n",
              "  <svg xmlns=\"http://www.w3.org/2000/svg\" height=\"24px\" viewBox=\"0 -960 960 960\">\n",
              "    <path d=\"M120-120v-720h720v720H120Zm60-500h600v-160H180v160Zm220 220h160v-160H400v160Zm0 220h160v-160H400v160ZM180-400h160v-160H180v160Zm440 0h160v-160H620v160ZM180-180h160v-160H180v160Zm440 0h160v-160H620v160Z\"/>\n",
              "  </svg>\n",
              "    </button>\n",
              "\n",
              "  <style>\n",
              "    .colab-df-container {\n",
              "      display:flex;\n",
              "      gap: 12px;\n",
              "    }\n",
              "\n",
              "    .colab-df-convert {\n",
              "      background-color: #E8F0FE;\n",
              "      border: none;\n",
              "      border-radius: 50%;\n",
              "      cursor: pointer;\n",
              "      display: none;\n",
              "      fill: #1967D2;\n",
              "      height: 32px;\n",
              "      padding: 0 0 0 0;\n",
              "      width: 32px;\n",
              "    }\n",
              "\n",
              "    .colab-df-convert:hover {\n",
              "      background-color: #E2EBFA;\n",
              "      box-shadow: 0px 1px 2px rgba(60, 64, 67, 0.3), 0px 1px 3px 1px rgba(60, 64, 67, 0.15);\n",
              "      fill: #174EA6;\n",
              "    }\n",
              "\n",
              "    .colab-df-buttons div {\n",
              "      margin-bottom: 4px;\n",
              "    }\n",
              "\n",
              "    [theme=dark] .colab-df-convert {\n",
              "      background-color: #3B4455;\n",
              "      fill: #D2E3FC;\n",
              "    }\n",
              "\n",
              "    [theme=dark] .colab-df-convert:hover {\n",
              "      background-color: #434B5C;\n",
              "      box-shadow: 0px 1px 3px 1px rgba(0, 0, 0, 0.15);\n",
              "      filter: drop-shadow(0px 1px 2px rgba(0, 0, 0, 0.3));\n",
              "      fill: #FFFFFF;\n",
              "    }\n",
              "  </style>\n",
              "\n",
              "    <script>\n",
              "      const buttonEl =\n",
              "        document.querySelector('#df-6f718c30-f345-404b-a596-19a64dbe3381 button.colab-df-convert');\n",
              "      buttonEl.style.display =\n",
              "        google.colab.kernel.accessAllowed ? 'block' : 'none';\n",
              "\n",
              "      async function convertToInteractive(key) {\n",
              "        const element = document.querySelector('#df-6f718c30-f345-404b-a596-19a64dbe3381');\n",
              "        const dataTable =\n",
              "          await google.colab.kernel.invokeFunction('convertToInteractive',\n",
              "                                                    [key], {});\n",
              "        if (!dataTable) return;\n",
              "\n",
              "        const docLinkHtml = 'Like what you see? Visit the ' +\n",
              "          '<a target=\"_blank\" href=https://colab.research.google.com/notebooks/data_table.ipynb>data table notebook</a>'\n",
              "          + ' to learn more about interactive tables.';\n",
              "        element.innerHTML = '';\n",
              "        dataTable['output_type'] = 'display_data';\n",
              "        await google.colab.output.renderOutput(dataTable, element);\n",
              "        const docLink = document.createElement('div');\n",
              "        docLink.innerHTML = docLinkHtml;\n",
              "        element.appendChild(docLink);\n",
              "      }\n",
              "    </script>\n",
              "  </div>\n",
              "\n",
              "\n",
              "<div id=\"df-b8e35870-32de-43e1-8991-4c46b9a4b793\">\n",
              "  <button class=\"colab-df-quickchart\" onclick=\"quickchart('df-b8e35870-32de-43e1-8991-4c46b9a4b793')\"\n",
              "            title=\"Suggest charts\"\n",
              "            style=\"display:none;\">\n",
              "\n",
              "<svg xmlns=\"http://www.w3.org/2000/svg\" height=\"24px\"viewBox=\"0 0 24 24\"\n",
              "     width=\"24px\">\n",
              "    <g>\n",
              "        <path d=\"M19 3H5c-1.1 0-2 .9-2 2v14c0 1.1.9 2 2 2h14c1.1 0 2-.9 2-2V5c0-1.1-.9-2-2-2zM9 17H7v-7h2v7zm4 0h-2V7h2v10zm4 0h-2v-4h2v4z\"/>\n",
              "    </g>\n",
              "</svg>\n",
              "  </button>\n",
              "\n",
              "<style>\n",
              "  .colab-df-quickchart {\n",
              "      --bg-color: #E8F0FE;\n",
              "      --fill-color: #1967D2;\n",
              "      --hover-bg-color: #E2EBFA;\n",
              "      --hover-fill-color: #174EA6;\n",
              "      --disabled-fill-color: #AAA;\n",
              "      --disabled-bg-color: #DDD;\n",
              "  }\n",
              "\n",
              "  [theme=dark] .colab-df-quickchart {\n",
              "      --bg-color: #3B4455;\n",
              "      --fill-color: #D2E3FC;\n",
              "      --hover-bg-color: #434B5C;\n",
              "      --hover-fill-color: #FFFFFF;\n",
              "      --disabled-bg-color: #3B4455;\n",
              "      --disabled-fill-color: #666;\n",
              "  }\n",
              "\n",
              "  .colab-df-quickchart {\n",
              "    background-color: var(--bg-color);\n",
              "    border: none;\n",
              "    border-radius: 50%;\n",
              "    cursor: pointer;\n",
              "    display: none;\n",
              "    fill: var(--fill-color);\n",
              "    height: 32px;\n",
              "    padding: 0;\n",
              "    width: 32px;\n",
              "  }\n",
              "\n",
              "  .colab-df-quickchart:hover {\n",
              "    background-color: var(--hover-bg-color);\n",
              "    box-shadow: 0 1px 2px rgba(60, 64, 67, 0.3), 0 1px 3px 1px rgba(60, 64, 67, 0.15);\n",
              "    fill: var(--button-hover-fill-color);\n",
              "  }\n",
              "\n",
              "  .colab-df-quickchart-complete:disabled,\n",
              "  .colab-df-quickchart-complete:disabled:hover {\n",
              "    background-color: var(--disabled-bg-color);\n",
              "    fill: var(--disabled-fill-color);\n",
              "    box-shadow: none;\n",
              "  }\n",
              "\n",
              "  .colab-df-spinner {\n",
              "    border: 2px solid var(--fill-color);\n",
              "    border-color: transparent;\n",
              "    border-bottom-color: var(--fill-color);\n",
              "    animation:\n",
              "      spin 1s steps(1) infinite;\n",
              "  }\n",
              "\n",
              "  @keyframes spin {\n",
              "    0% {\n",
              "      border-color: transparent;\n",
              "      border-bottom-color: var(--fill-color);\n",
              "      border-left-color: var(--fill-color);\n",
              "    }\n",
              "    20% {\n",
              "      border-color: transparent;\n",
              "      border-left-color: var(--fill-color);\n",
              "      border-top-color: var(--fill-color);\n",
              "    }\n",
              "    30% {\n",
              "      border-color: transparent;\n",
              "      border-left-color: var(--fill-color);\n",
              "      border-top-color: var(--fill-color);\n",
              "      border-right-color: var(--fill-color);\n",
              "    }\n",
              "    40% {\n",
              "      border-color: transparent;\n",
              "      border-right-color: var(--fill-color);\n",
              "      border-top-color: var(--fill-color);\n",
              "    }\n",
              "    60% {\n",
              "      border-color: transparent;\n",
              "      border-right-color: var(--fill-color);\n",
              "    }\n",
              "    80% {\n",
              "      border-color: transparent;\n",
              "      border-right-color: var(--fill-color);\n",
              "      border-bottom-color: var(--fill-color);\n",
              "    }\n",
              "    90% {\n",
              "      border-color: transparent;\n",
              "      border-bottom-color: var(--fill-color);\n",
              "    }\n",
              "  }\n",
              "</style>\n",
              "\n",
              "  <script>\n",
              "    async function quickchart(key) {\n",
              "      const quickchartButtonEl =\n",
              "        document.querySelector('#' + key + ' button');\n",
              "      quickchartButtonEl.disabled = true;  // To prevent multiple clicks.\n",
              "      quickchartButtonEl.classList.add('colab-df-spinner');\n",
              "      try {\n",
              "        const charts = await google.colab.kernel.invokeFunction(\n",
              "            'suggestCharts', [key], {});\n",
              "      } catch (error) {\n",
              "        console.error('Error during call to suggestCharts:', error);\n",
              "      }\n",
              "      quickchartButtonEl.classList.remove('colab-df-spinner');\n",
              "      quickchartButtonEl.classList.add('colab-df-quickchart-complete');\n",
              "    }\n",
              "    (() => {\n",
              "      let quickchartButtonEl =\n",
              "        document.querySelector('#df-b8e35870-32de-43e1-8991-4c46b9a4b793 button');\n",
              "      quickchartButtonEl.style.display =\n",
              "        google.colab.kernel.accessAllowed ? 'block' : 'none';\n",
              "    })();\n",
              "  </script>\n",
              "</div>\n",
              "\n",
              "    </div>\n",
              "  </div>\n"
            ],
            "application/vnd.google.colaboratory.intrinsic+json": {
              "type": "dataframe",
              "summary": "{\n  \"name\": \"df\",\n  \"rows\": 15,\n  \"fields\": [\n    {\n      \"column\": \"count\",\n      \"properties\": {\n        \"dtype\": \"number\",\n        \"std\": 0.0,\n        \"min\": 10127.0,\n        \"max\": 10127.0,\n        \"num_unique_values\": 1,\n        \"samples\": [\n          10127.0\n        ],\n        \"semantic_type\": \"\",\n        \"description\": \"\"\n      }\n    },\n    {\n      \"column\": \"mean\",\n      \"properties\": {\n        \"dtype\": \"number\",\n        \"std\": 190854434.73778024,\n        \"min\": 0.2748935518909845,\n        \"max\": 739177606.3336625,\n        \"num_unique_values\": 15,\n        \"samples\": [\n          7469.139636614989\n        ],\n        \"semantic_type\": \"\",\n        \"description\": \"\"\n      }\n    },\n    {\n      \"column\": \"std\",\n      \"properties\": {\n        \"dtype\": \"number\",\n        \"std\": 9528102.648548855,\n        \"min\": 0.21920676923070273,\n        \"max\": 36903783.45023115,\n        \"num_unique_values\": 15,\n        \"samples\": [\n          9090.685323679103\n        ],\n        \"semantic_type\": \"\",\n        \"description\": \"\"\n      }\n    },\n    {\n      \"column\": \"min\",\n      \"properties\": {\n        \"dtype\": \"number\",\n        \"std\": 182825970.7713251,\n        \"min\": 0.0,\n        \"max\": 708082083.0,\n        \"num_unique_values\": 9,\n        \"samples\": [\n          510.0\n        ],\n        \"semantic_type\": \"\",\n        \"description\": \"\"\n      }\n    },\n    {\n      \"column\": \"25%\",\n      \"properties\": {\n        \"dtype\": \"number\",\n        \"std\": 184105182.24268213,\n        \"min\": 0.023,\n        \"max\": 713036770.5,\n        \"num_unique_values\": 14,\n        \"samples\": [\n          0.631\n        ],\n        \"semantic_type\": \"\",\n        \"description\": \"\"\n      }\n    },\n    {\n      \"column\": \"50%\",\n      \"properties\": {\n        \"dtype\": \"number\",\n        \"std\": 185367542.1929732,\n        \"min\": 0.176,\n        \"max\": 717926358.0,\n        \"num_unique_values\": 13,\n        \"samples\": [\n          0.702\n        ],\n        \"semantic_type\": \"\",\n        \"description\": \"\"\n      }\n    },\n    {\n      \"column\": \"75%\",\n      \"properties\": {\n        \"dtype\": \"number\",\n        \"std\": 199624292.09901053,\n        \"min\": 0.503,\n        \"max\": 773143533.0,\n        \"num_unique_values\": 13,\n        \"samples\": [\n          0.818\n        ],\n        \"semantic_type\": \"\",\n        \"description\": \"\"\n      }\n    },\n    {\n      \"column\": \"max\",\n      \"properties\": {\n        \"dtype\": \"number\",\n        \"std\": 213875598.74397063,\n        \"min\": 0.999,\n        \"max\": 828343083.0,\n        \"num_unique_values\": 12,\n        \"samples\": [\n          3.714\n        ],\n        \"semantic_type\": \"\",\n        \"description\": \"\"\n      }\n    }\n  ]\n}"
            }
          },
          "metadata": {},
          "execution_count": 19
        }
      ]
    },
    {
      "cell_type": "markdown",
      "source": [
        "#### Observations\n",
        "* Attrition_Flag (dependent variable)\n",
        "  * 85% of the data are existing customers\n",
        "  * 16% of the data are customers which have attritioned\n",
        "* 94% of card holders are in the \"Blue\" category"
      ],
      "metadata": {
        "id": "McqCoUi_na6o"
      }
    },
    {
      "cell_type": "markdown",
      "source": [
        "### **Data Overview Observations**\n",
        "* Attrition_Flag is our dependent variable\n",
        "  * Existing customers are the majority class at 84%.\n",
        "  * Attritioned customers are the minority class at 16%\n",
        "\n",
        "    **Oversampling and undersampling should be considered**\n",
        "\n",
        "* Columns which will need treatment\n",
        "  * Object (string) data types will be changed to category (numeric)\n",
        "    * Attrition_Flag\n",
        "    * Gender\n",
        "    * Education_Level\n",
        "    * Marital_Status\n",
        "    * Income_Category\n",
        "    * Card_Category\n",
        "* There are no duplicate rows\n",
        "* 15% of values under Education_Level are NaN and will need to be treated\n",
        "* 7.4% of values under Marital_Status are NaN and will been to be treated\n",
        "* Income_Category will need to be ordered"
      ],
      "metadata": {
        "id": "7xvRMM1XkjTo"
      }
    },
    {
      "cell_type": "markdown",
      "metadata": {
        "id": "j-yGG8LNSSMa"
      },
      "source": [
        "## <a name=\"eda_summary\"></a>Exploratory Data Analysis (EDA)\n",
        "\n",
        "<a href=#eda_appendix>Click to see full analysis</a>"
      ]
    },
    {
      "cell_type": "markdown",
      "source": [
        "### Exploratory Data Analysis Questions and Observations\n",
        "\n",
        "**Questions**:\n",
        "\n",
        "1. How is the total transaction amount distributed?\n",
        "\n",
        "* Existing Customers\n",
        "  * Distribution is multi-modal with an increase in transactions at around 39 and 79.\n",
        "\n",
        "* Attrited Customers\n",
        "  * Distribution is more symmetrical with the most transactions between 40 and 43.\n",
        "\n",
        "**Overall, attritioned customers have less credit card transactions.**\n",
        "\n"
      ],
      "metadata": {
        "id": "fQHTadnzwX6G"
      }
    },
    {
      "cell_type": "code",
      "source": [
        "distribution_plot_wrt_target(df, \"Total_Trans_Ct\", \"Attrition_Flag\")"
      ],
      "metadata": {
        "colab": {
          "base_uri": "https://localhost:8080/",
          "height": 0
        },
        "id": "nx_pD4FrKFtN",
        "outputId": "4e249143-e56a-43b0-eb97-cd944b65089d"
      },
      "execution_count": 20,
      "outputs": [
        {
          "output_type": "display_data",
          "data": {
            "text/plain": [
              "<Figure size 1200x1000 with 4 Axes>"
            ],
            "image/png": "[encoded data removed]"
          },
          "metadata": {}
        }
      ]
    },
    {
      "cell_type": "markdown",
      "source": [
        "2. What is the distribution of the level of education of customers?\n",
        "\n",
        "* The largest percentage of attritioned customers are either highly-educated (Doctorate, Post-Graduate) or uneducated.\n",
        "* For each education level the attrition rate is between 15% and 20%."
      ],
      "metadata": {
        "id": "wV435GhKKHxX"
      }
    },
    {
      "cell_type": "code",
      "source": [
        "stacked_barplot(df, \"Education_Level\", \"Attrition_Flag\")"
      ],
      "metadata": {
        "colab": {
          "base_uri": "https://localhost:8080/",
          "height": 0
        },
        "id": "TJ64RGFrKFqN",
        "outputId": "92f7d334-852f-4624-d941-504f467b727b"
      },
      "execution_count": 21,
      "outputs": [
        {
          "output_type": "stream",
          "name": "stdout",
          "text": [
            "Attrition_Flag   Attrited Customer  Existing Customer   All\n",
            "Education_Level                                            \n",
            "All                           1371               7237  8608\n",
            "Graduate                       487               2641  3128\n",
            "High School                    306               1707  2013\n",
            "Uneducated                     237               1250  1487\n",
            "College                        154                859  1013\n",
            "Doctorate                       95                356   451\n",
            "Post-Graduate                   92                424   516\n",
            "------------------------------------------------------------------------------------------------------------------------\n"
          ]
        },
        {
          "output_type": "display_data",
          "data": {
            "text/plain": [
              "<Figure size 700x500 with 1 Axes>"
            ],
            "image/png": "[encoded data removed]"
          },
          "metadata": {}
        }
      ]
    },
    {
      "cell_type": "markdown",
      "source": [
        "3. What is the distribution of the level of income of customers?\n",
        "\n",
        "* The highest number of attritioned customers are making below 60k per year.\n",
        "* However, by percentage it is between 15% and 18% roughly.\n",
        "\n",
        "**Note: value 'abc' will be handled in pre-processing**\n"
      ],
      "metadata": {
        "id": "YcGGuKxpKJQH"
      }
    },
    {
      "cell_type": "code",
      "source": [
        "stacked_barplot(df, \"Income_Category\", \"Attrition_Flag\")"
      ],
      "metadata": {
        "colab": {
          "base_uri": "https://localhost:8080/",
          "height": 0
        },
        "id": "MPJjzBhoKFnH",
        "outputId": "2942f336-7f06-4c51-ad78-898b367b72c9"
      },
      "execution_count": 22,
      "outputs": [
        {
          "output_type": "stream",
          "name": "stdout",
          "text": [
            "Attrition_Flag   Attrited Customer  Existing Customer    All\n",
            "Income_Category                                             \n",
            "All                           1627               8500  10127\n",
            "Less than $40K                 612               2949   3561\n",
            "$40K - $60K                    271               1519   1790\n",
            "$80K - $120K                   242               1293   1535\n",
            "$60K - $80K                    189               1213   1402\n",
            "abc                            187                925   1112\n",
            "$120K +                        126                601    727\n",
            "------------------------------------------------------------------------------------------------------------------------\n"
          ]
        },
        {
          "output_type": "display_data",
          "data": {
            "text/plain": [
              "<Figure size 700x500 with 1 Axes>"
            ],
            "image/png": "[encoded data removed]"
          },
          "metadata": {}
        }
      ]
    },
    {
      "cell_type": "markdown",
      "source": [
        "4. How does the change in transaction amount between Q4 and Q1 (`total_ct_change_Q4_Q1`) vary by the customer's account status (`Attrition_Flag`)?\n",
        "\n",
        "* The number of transactions for attrited customers is less.\n",
        "* The distribution of each is essentially a bell curve or symmetric.\n",
        "* There are many more outliers for existing customers."
      ],
      "metadata": {
        "id": "aQ8O85Q8KKN7"
      }
    },
    {
      "cell_type": "code",
      "source": [
        "distribution_plot_wrt_target(df, \"Total_Amt_Chng_Q4_Q1\", \"Attrition_Flag\")"
      ],
      "metadata": {
        "colab": {
          "base_uri": "https://localhost:8080/",
          "height": 0
        },
        "id": "cHyRPaOAKFkB",
        "outputId": "e4de59d4-af5c-4e93-e726-72ee016a8a11"
      },
      "execution_count": 23,
      "outputs": [
        {
          "output_type": "display_data",
          "data": {
            "text/plain": [
              "<Figure size 1200x1000 with 4 Axes>"
            ],
            "image/png": "[encoded data removed]"
          },
          "metadata": {}
        }
      ]
    },
    {
      "cell_type": "markdown",
      "source": [
        "5. How does the number of months a customer was inactive in the last 12 months (`Months_Inactive_12_mon`) vary by the customer's account status (`Attrition_Flag`)?\n",
        "\n",
        "* The most instance of attritioned customers are customers which have been inactive 2 or more months.\n",
        "* The trend is as the number of months a customer is inactive increases their attrition rate increases."
      ],
      "metadata": {
        "id": "-pYDnKlDKLL8"
      }
    },
    {
      "cell_type": "code",
      "source": [
        "stacked_barplot(df, \"Months_Inactive_12_mon\", \"Attrition_Flag\")"
      ],
      "metadata": {
        "colab": {
          "base_uri": "https://localhost:8080/",
          "height": 0
        },
        "id": "Q7DfwfYBKFg2",
        "outputId": "4e65e9e0-838d-4a67-d727-d2f63af430f5"
      },
      "execution_count": 24,
      "outputs": [
        {
          "output_type": "stream",
          "name": "stdout",
          "text": [
            "Attrition_Flag          Attrited Customer  Existing Customer    All\n",
            "Months_Inactive_12_mon                                             \n",
            "All                                  1627               8500  10127\n",
            "3                                     826               3020   3846\n",
            "2                                     505               2777   3282\n",
            "4                                     130                305    435\n",
            "1                                     100               2133   2233\n",
            "5                                      32                146    178\n",
            "6                                      19                105    124\n",
            "0                                      15                 14     29\n",
            "------------------------------------------------------------------------------------------------------------------------\n"
          ]
        },
        {
          "output_type": "display_data",
          "data": {
            "text/plain": [
              "<Figure size 800x500 with 1 Axes>"
            ],
            "image/png": "[encoded data removed]"
          },
          "metadata": {}
        }
      ]
    },
    {
      "cell_type": "markdown",
      "source": [
        "6. What are the attributes that have a strong correlation with each other?\n",
        "\n",
        "  * High positive correlations:\n",
        "    * Customer_Age and Months_on_book\n",
        "      * As a customer ages they have a longer relationship with the bank.\n",
        "    * Total_Revolving_Balance and Avg_Utilization_Rate\n",
        "      * As a customer utilizes their credit card more their balance rises.\n",
        "    * Total_Trans_Ct and Total_Trans_Amt\n",
        "      * As a customer performs more transaction with their card their balance rises.\n",
        "  \n",
        "* Negative Correlations\n",
        "  * High Negative Correlation\n",
        "    * Credit_Limit and Avg_Utilization_Ratio\n",
        "      * As a customer's credit limit increases their utilization decreases."
      ],
      "metadata": {
        "id": "UQxDE9snKLxV"
      }
    },
    {
      "cell_type": "code",
      "source": [
        "plt.figure(figsize=(15, 7))\n",
        "sns.heatmap(df.corr(), annot=True, vmin=-1, vmax=1, fmt=\".2f\", cmap=\"Spectral\")\n",
        "plt.show()"
      ],
      "metadata": {
        "colab": {
          "base_uri": "https://localhost:8080/",
          "height": 0
        },
        "outputId": "e777a150-eb64-4be6-eda8-04da82e861a6",
        "id": "G-iI1KFQPbHq"
      },
      "execution_count": 25,
      "outputs": [
        {
          "output_type": "display_data",
          "data": {
            "text/plain": [
              "<Figure size 1500x700 with 2 Axes>"
            ],
            "image/png": "[encoded data removed]"
          },
          "metadata": {}
        }
      ]
    },
    {
      "cell_type": "markdown",
      "metadata": {
        "id": "knk0w9XH4jao"
      },
      "source": [
        "## Data Pre-processing"
      ]
    },
    {
      "cell_type": "code",
      "source": [
        "# Drop the clientnum as it is an ID column and not useful in the model.\n",
        "df.drop('CLIENTNUM',axis=1, inplace=True)"
      ],
      "metadata": {
        "id": "Ws0xwNU1VijK"
      },
      "execution_count": 26,
      "outputs": []
    },
    {
      "cell_type": "code",
      "execution_count": 27,
      "metadata": {
        "id": "2JbJc1bX4jao",
        "colab": {
          "base_uri": "https://localhost:8080/"
        },
        "outputId": "420055ae-a38d-4595-fb18-68039f5ae4f6"
      },
      "outputs": [
        {
          "output_type": "stream",
          "name": "stdout",
          "text": [
            "Customer_Age               0.020\n",
            "Dependent_count            0.000\n",
            "Months_on_book             3.812\n",
            "Total_Relationship_Count   0.000\n",
            "Months_Inactive_12_mon     3.268\n",
            "Contacts_Count_12_mon      6.211\n",
            "Credit_Limit               9.717\n",
            "Total_Revolving_Bal        0.000\n",
            "Avg_Open_To_Buy            9.509\n",
            "Total_Amt_Chng_Q4_Q1       3.910\n",
            "Total_Trans_Amt            8.848\n",
            "Total_Trans_Ct             0.020\n",
            "Total_Ct_Chng_Q4_Q1        3.891\n",
            "Avg_Utilization_Ratio      0.000\n",
            "dtype: float64\n"
          ]
        }
      ],
      "source": [
        "# Find the percentage of outliers\n",
        "outlier_detection(df)"
      ]
    },
    {
      "cell_type": "code",
      "source": [
        "# Handle Nan values\n",
        "df[\"Income_Category\"].replace(\"abc\", np.nan, inplace=True)\n",
        "df.isna().sum()"
      ],
      "metadata": {
        "colab": {
          "base_uri": "https://localhost:8080/"
        },
        "id": "6VFhqe2wWtb4",
        "outputId": "dc1362c3-eb40-484e-d843-f197c7d5c4b4"
      },
      "execution_count": 28,
      "outputs": [
        {
          "output_type": "execute_result",
          "data": {
            "text/plain": [
              "Attrition_Flag                 0\n",
              "Customer_Age                   0\n",
              "Gender                         0\n",
              "Dependent_count                0\n",
              "Education_Level             1519\n",
              "Marital_Status               749\n",
              "Income_Category             1112\n",
              "Card_Category                  0\n",
              "Months_on_book                 0\n",
              "Total_Relationship_Count       0\n",
              "Months_Inactive_12_mon         0\n",
              "Contacts_Count_12_mon          0\n",
              "Credit_Limit                   0\n",
              "Total_Revolving_Bal            0\n",
              "Avg_Open_To_Buy                0\n",
              "Total_Amt_Chng_Q4_Q1           0\n",
              "Total_Trans_Amt                0\n",
              "Total_Trans_Ct                 0\n",
              "Total_Ct_Chng_Q4_Q1            0\n",
              "Avg_Utilization_Ratio          0\n",
              "dtype: int64"
            ]
          },
          "metadata": {},
          "execution_count": 28
        }
      ]
    },
    {
      "cell_type": "code",
      "source": [],
      "metadata": {
        "id": "Zjm6MPCal5cQ"
      },
      "execution_count": 28,
      "outputs": []
    },
    {
      "cell_type": "code",
      "source": [
        "\n"
      ],
      "metadata": {
        "id": "nXi_FQS7ZQCA"
      },
      "execution_count": 28,
      "outputs": []
    },
    {
      "cell_type": "markdown",
      "metadata": {
        "id": "0J99-7Kubp09"
      },
      "source": [
        "## Missing value imputation\n",
        "\n",
        "\n"
      ]
    },
    {
      "cell_type": "code",
      "source": [],
      "metadata": {
        "id": "JIqWByYolpuP"
      },
      "execution_count": 28,
      "outputs": []
    },
    {
      "cell_type": "markdown",
      "source": [
        "## Model Creation"
      ],
      "metadata": {
        "id": "mimAUXIklqDa"
      }
    },
    {
      "cell_type": "code",
      "source": [
        "# create X and y variables\n",
        "X = df.drop([\"Attrition_Flag\"], axis=1)\n",
        "y = df[\"Attrition_Flag\"].apply(lambda x: 1 if x == \"Attrited Customer\" else 0)"
      ],
      "metadata": {
        "id": "Raa2ffPEYOn5"
      },
      "execution_count": 29,
      "outputs": []
    },
    {
      "cell_type": "code",
      "source": [
        "# Splitting data into training, validation and test set:\n",
        "# first we split data into 2 parts, say temporary and test\n",
        "\n",
        "X_temp, X_test, y_temp, y_test = train_test_split(\n",
        "    X, y, test_size=0.2, random_state=1, stratify=y\n",
        ")\n",
        "\n",
        "# then we split the temporary set into train and validation\n",
        "\n",
        "X_train, X_val, y_train, y_val = train_test_split(\n",
        "    X_temp, y_temp, test_size=0.25, random_state=1, stratify=y_temp\n",
        ")\n",
        "print(X_train.shape, X_val.shape, X_test.shape)"
      ],
      "metadata": {
        "colab": {
          "base_uri": "https://localhost:8080/"
        },
        "id": "VOW3t_LDYOkr",
        "outputId": "925b68a4-ed37-4e29-d3f0-709c032357e4"
      },
      "execution_count": 30,
      "outputs": [
        {
          "output_type": "stream",
          "name": "stdout",
          "text": [
            "(6075, 19) (2026, 19) (2026, 19)\n"
          ]
        }
      ]
    },
    {
      "cell_type": "code",
      "source": [
        "print(\"Number of rows in train data =\", X_train.shape[0])\n",
        "print(\"Number of rows in validation data =\", X_val.shape[0])\n",
        "print(\"Number of rows in test data =\", X_test.shape[0])"
      ],
      "metadata": {
        "colab": {
          "base_uri": "https://localhost:8080/"
        },
        "id": "8tKEYEvmYOhr",
        "outputId": "9303a3a4-2e6e-4cdf-c7b4-a1629142eb4e"
      },
      "execution_count": 31,
      "outputs": [
        {
          "output_type": "stream",
          "name": "stdout",
          "text": [
            "Number of rows in train data = 6075\n",
            "Number of rows in validation data = 2026\n",
            "Number of rows in test data = 2026\n"
          ]
        }
      ]
    },
    {
      "cell_type": "code",
      "source": [
        "\n",
        "# Get list of categorical and numerical columns\n",
        "cat_cols = list(X_train.select_dtypes(include='object').columns)\n",
        "num_cols = list(X_train.select_dtypes(include=['int', 'float']).columns)\n",
        "\n",
        "# Impute categorical columns\n",
        "cat_imputer = SimpleImputer(strategy='most_frequent')\n",
        "X_train[cat_cols] = cat_imputer.fit_transform(X_train[cat_cols])\n",
        "X_val[cat_cols] = cat_imputer.transform(X_val[cat_cols])\n",
        "X_test[cat_cols] = cat_imputer.transform(X_test[cat_cols])\n",
        "\n",
        "# Impute numerical columns\n",
        "num_imputer = SimpleImputer(strategy='mean')\n",
        "X_train[num_cols] = num_imputer.fit_transform(X_train[num_cols])\n",
        "X_val[num_cols] = num_imputer.transform(X_val[num_cols])\n",
        "X_test[num_cols] = num_imputer.transform(X_test[num_cols])"
      ],
      "metadata": {
        "id": "BqGg-vgZYOea"
      },
      "execution_count": 32,
      "outputs": []
    },
    {
      "cell_type": "code",
      "source": [
        "# Create numerical values for each categorical column\n",
        "gender = {\"M\": 0, \"F\": 1}\n",
        "X_train[\"Gender\"] = X_train[\"Gender\"].fillna(-1).map(gender)\n",
        "X_val[\"Gender\"] = X_val[\"Gender\"].fillna(-1).map(gender)\n",
        "X_test[\"Gender\"] = X_test[\"Gender\"].fillna(-1).map(gender)\n",
        "\n",
        "education_level = {\n",
        "    \"Uneducated\": 0,\n",
        "    \"High School\": 1,\n",
        "    \"College\": 2,\n",
        "    \"Graduate\":3,\n",
        "    \"Post-Graduate\": 4,\n",
        "    \"Doctorate\": 5,\n",
        "}\n",
        "X_train[\"Education_Level\"] = X_train[\"Education_Level\"].fillna(-1).map(education_level)\n",
        "X_val[\"Education_Level\"] = X_val[\"Education_Level\"].fillna(-1).map(education_level)\n",
        "X_test[\"Education_Level\"] = X_test[\"Education_Level\"].fillna(-1).map(education_level)\n",
        "\n",
        "marital_status = {\n",
        "    \"Single\": 0,\n",
        "    \"Married\": 1,\n",
        "    \"Divorced\": 2\n",
        "}\n",
        "X_train[\"Marital_Status\"] = X_train[\"Marital_Status\"].fillna(-1).map(marital_status)\n",
        "X_val[\"Marital_Status\"] = X_val[\"Marital_Status\"].fillna(-1).map(marital_status)\n",
        "X_test[\"Marital_Status\"] = X_test[\"Marital_Status\"].fillna(-1).map(marital_status)\n",
        "\n",
        "income_category = {\n",
        "    'Less than $40K' : 0,\n",
        "    '$40K - $60K' : 1,\n",
        "    '$60K - $80K': 2,\n",
        "    '$80K - $120K' : 3,\n",
        "    '$120K +':4\n",
        "}\n",
        "X_train[\"Income_Category\"] = X_train[\"Income_Category\"].fillna(-1).map(income_category)\n",
        "X_val[\"Income_Category\"] = X_val[\"Income_Category\"].fillna(-1).map(income_category)\n",
        "X_test[\"Income_Category\"] = X_test[\"Income_Category\"].fillna(-1).map(income_category)\n",
        "\n",
        "card_category = {\n",
        "    \"Blue\": 0,\n",
        "    \"Silver\": 1,\n",
        "    \"Gold\": 2,\n",
        "    \"Platinum\": 3\n",
        "}\n",
        "X_train[\"Card_Category\"] = X_train[\"Card_Category\"].fillna(-1).map(card_category)\n",
        "X_val[\"Card_Category\"] = X_val[\"Card_Category\"].fillna(-1).map(card_category)\n",
        "X_test[\"Card_Category\"] = X_test[\"Card_Category\"].fillna(-1).map(card_category)\n"
      ],
      "metadata": {
        "id": "yExmzjt8mVb3"
      },
      "execution_count": 33,
      "outputs": []
    },
    {
      "cell_type": "code",
      "source": [
        "# Checking that no column has missing values in train, validation or test sets\n",
        "print(X_train.isna().sum())\n",
        "print(\"-\" * 30)\n",
        "print(X_val.isna().sum())\n",
        "print(\"-\" * 30)"
      ],
      "metadata": {
        "colab": {
          "base_uri": "https://localhost:8080/"
        },
        "id": "wATqshzDYObZ",
        "outputId": "bbf9baf5-5890-4d7b-a856-4d5436e494a9"
      },
      "execution_count": 34,
      "outputs": [
        {
          "output_type": "stream",
          "name": "stdout",
          "text": [
            "Customer_Age                0\n",
            "Gender                      0\n",
            "Dependent_count             0\n",
            "Education_Level             0\n",
            "Marital_Status              0\n",
            "Income_Category             0\n",
            "Card_Category               0\n",
            "Months_on_book              0\n",
            "Total_Relationship_Count    0\n",
            "Months_Inactive_12_mon      0\n",
            "Contacts_Count_12_mon       0\n",
            "Credit_Limit                0\n",
            "Total_Revolving_Bal         0\n",
            "Avg_Open_To_Buy             0\n",
            "Total_Amt_Chng_Q4_Q1        0\n",
            "Total_Trans_Amt             0\n",
            "Total_Trans_Ct              0\n",
            "Total_Ct_Chng_Q4_Q1         0\n",
            "Avg_Utilization_Ratio       0\n",
            "dtype: int64\n",
            "------------------------------\n",
            "Customer_Age                0\n",
            "Gender                      0\n",
            "Dependent_count             0\n",
            "Education_Level             0\n",
            "Marital_Status              0\n",
            "Income_Category             0\n",
            "Card_Category               0\n",
            "Months_on_book              0\n",
            "Total_Relationship_Count    0\n",
            "Months_Inactive_12_mon      0\n",
            "Contacts_Count_12_mon       0\n",
            "Credit_Limit                0\n",
            "Total_Revolving_Bal         0\n",
            "Avg_Open_To_Buy             0\n",
            "Total_Amt_Chng_Q4_Q1        0\n",
            "Total_Trans_Amt             0\n",
            "Total_Trans_Ct              0\n",
            "Total_Ct_Chng_Q4_Q1         0\n",
            "Avg_Utilization_Ratio       0\n",
            "dtype: int64\n",
            "------------------------------\n"
          ]
        }
      ]
    },
    {
      "cell_type": "markdown",
      "source": [
        "## Reverse Mapping for Encoded Variables\n"
      ],
      "metadata": {
        "id": "mApUGvMVcb1J"
      }
    },
    {
      "cell_type": "code",
      "source": [
        "inverse_mapping(gender, \"Gender\")\n",
        "inverse_mapping(education_level, \"Education_Level\")\n",
        "inverse_mapping(marital_status, \"Marital_Status\")\n",
        "inverse_mapping(income_category, \"Income_Category\")\n",
        "inverse_mapping(card_category, \"Card_Category\")"
      ],
      "metadata": {
        "id": "iHUob0LJYOVT"
      },
      "execution_count": 35,
      "outputs": []
    },
    {
      "cell_type": "markdown",
      "source": [
        "## Train, Validate and Test Data"
      ],
      "metadata": {
        "id": "CnVmP4iCqLhb"
      }
    },
    {
      "cell_type": "markdown",
      "source": [
        "### Train"
      ],
      "metadata": {
        "id": "JW89-Q5xqcOe"
      }
    },
    {
      "cell_type": "code",
      "source": [
        "cols = X_train.select_dtypes(include=[\"object\", \"category\"])\n",
        "for i in cols.columns:\n",
        "    print(X_train[i].value_counts())\n",
        "    print(\"*\" * 30)"
      ],
      "metadata": {
        "colab": {
          "base_uri": "https://localhost:8080/"
        },
        "id": "-b_uihK-qj8N",
        "outputId": "2f496eb8-cefd-4095-9d24-ff07dc5bb94c"
      },
      "execution_count": 36,
      "outputs": [
        {
          "output_type": "stream",
          "name": "stdout",
          "text": [
            "F    3193\n",
            "M    2882\n",
            "Name: Gender, dtype: int64\n",
            "******************************\n",
            "Graduate         2782\n",
            "High School      1228\n",
            "Uneducated        881\n",
            "College           618\n",
            "Post-Graduate     312\n",
            "Doctorate         254\n",
            "Name: Education_Level, dtype: int64\n",
            "******************************\n",
            "Married     3276\n",
            "Single      2369\n",
            "Divorced     430\n",
            "Name: Marital_Status, dtype: int64\n",
            "******************************\n",
            "Less than $40K    2783\n",
            "$40K - $60K       1059\n",
            "$80K - $120K       953\n",
            "$60K - $80K        831\n",
            "$120K +            449\n",
            "Name: Income_Category, dtype: int64\n",
            "******************************\n",
            "Blue        5655\n",
            "Silver       339\n",
            "Gold          69\n",
            "Platinum      12\n",
            "Name: Card_Category, dtype: int64\n",
            "******************************\n"
          ]
        }
      ]
    },
    {
      "cell_type": "markdown",
      "source": [
        "### Validate"
      ],
      "metadata": {
        "id": "RtQUY_xsqcCL"
      }
    },
    {
      "cell_type": "code",
      "source": [
        "cols = X_val.select_dtypes(include=[\"object\", \"category\"])\n",
        "for i in cols.columns:\n",
        "    print(X_val[i].value_counts())\n",
        "    print(\"*\" * 30)"
      ],
      "metadata": {
        "colab": {
          "base_uri": "https://localhost:8080/"
        },
        "id": "4rmJulP2qkki",
        "outputId": "7930b8e1-9e40-47b8-f05e-9b238fd1290f"
      },
      "execution_count": 37,
      "outputs": [
        {
          "output_type": "stream",
          "name": "stdout",
          "text": [
            "F    1095\n",
            "M     931\n",
            "Name: Gender, dtype: int64\n",
            "******************************\n",
            "Graduate         917\n",
            "High School      404\n",
            "Uneducated       306\n",
            "College          199\n",
            "Post-Graduate    101\n",
            "Doctorate         99\n",
            "Name: Education_Level, dtype: int64\n",
            "******************************\n",
            "Married     1100\n",
            "Single       770\n",
            "Divorced     156\n",
            "Name: Marital_Status, dtype: int64\n",
            "******************************\n",
            "Less than $40K    957\n",
            "$40K - $60K       361\n",
            "$80K - $120K      293\n",
            "$60K - $80K       279\n",
            "$120K +           136\n",
            "Name: Income_Category, dtype: int64\n",
            "******************************\n",
            "Blue        1905\n",
            "Silver        97\n",
            "Gold          21\n",
            "Platinum       3\n",
            "Name: Card_Category, dtype: int64\n",
            "******************************\n"
          ]
        }
      ]
    },
    {
      "cell_type": "markdown",
      "source": [
        "### Test"
      ],
      "metadata": {
        "id": "9lSkJFznqbxd"
      }
    },
    {
      "cell_type": "code",
      "source": [
        "cols = X_test.select_dtypes(include=[\"object\", \"category\"])\n",
        "for i in cols.columns:\n",
        "    print(X_test[i].value_counts())\n",
        "    print(\"*\" * 30)"
      ],
      "metadata": {
        "colab": {
          "base_uri": "https://localhost:8080/"
        },
        "id": "5auBswVwqljY",
        "outputId": "d015387c-9365-4651-8968-3f239c880bb7"
      },
      "execution_count": 38,
      "outputs": [
        {
          "output_type": "stream",
          "name": "stdout",
          "text": [
            "F    1070\n",
            "M     956\n",
            "Name: Gender, dtype: int64\n",
            "******************************\n",
            "Graduate         948\n",
            "High School      381\n",
            "Uneducated       300\n",
            "College          196\n",
            "Post-Graduate    103\n",
            "Doctorate         98\n",
            "Name: Education_Level, dtype: int64\n",
            "******************************\n",
            "Married     1060\n",
            "Single       804\n",
            "Divorced     162\n",
            "Name: Marital_Status, dtype: int64\n",
            "******************************\n",
            "Less than $40K    933\n",
            "$40K - $60K       370\n",
            "$60K - $80K       292\n",
            "$80K - $120K      289\n",
            "$120K +           142\n",
            "Name: Income_Category, dtype: int64\n",
            "******************************\n",
            "Blue        1876\n",
            "Silver       119\n",
            "Gold          26\n",
            "Platinum       5\n",
            "Name: Card_Category, dtype: int64\n",
            "******************************\n"
          ]
        }
      ]
    },
    {
      "cell_type": "markdown",
      "source": [
        "## Create Dummy Variable"
      ],
      "metadata": {
        "id": "ogkPU28wrEqD"
      }
    },
    {
      "cell_type": "code",
      "source": [
        "X_train = pd.get_dummies(X_train, drop_first=True)\n",
        "X_val = pd.get_dummies(X_val, drop_first=True)\n",
        "X_test = pd.get_dummies(X_test, drop_first=True)\n",
        "print(X_train.shape, X_val.shape, X_test.shape)"
      ],
      "metadata": {
        "colab": {
          "base_uri": "https://localhost:8080/"
        },
        "id": "PIxWvYW8rHQW",
        "outputId": "85034a32-66fb-4149-9fa6-a61082e2a692"
      },
      "execution_count": 39,
      "outputs": [
        {
          "output_type": "stream",
          "name": "stdout",
          "text": [
            "(6075, 29) (2026, 29) (2026, 29)\n"
          ]
        }
      ]
    },
    {
      "cell_type": "markdown",
      "source": [
        "## Model Building"
      ],
      "metadata": {
        "id": "OzOa9FGA6WtG"
      }
    },
    {
      "cell_type": "markdown",
      "metadata": {
        "id": "YZqmoqz7bp0-"
      },
      "source": [
        "### Model evaluation criterion"
      ]
    },
    {
      "cell_type": "markdown",
      "source": [
        "The nature of predictions made by the classification model will translate as follows:\n",
        "\n",
        "- True positives (TP) are failures correctly predicted by the model.\n",
        "- False negatives (FN) are real failures in a generator where there is no detection by model.\n",
        "- False positives (FP) are failure detections in a generator where there is no failure.\n",
        "\n",
        "**Which metric to optimize?**\n",
        "\n",
        "* We need to choose the metric which will ensure that the maximum number of generator failures are predicted correctly by the model.\n",
        "* We would want Recall to be maximized as greater the Recall, the higher the chances of minimizing false negatives.\n",
        "* We want to minimize false negatives because if a model predicts that a machine will have no failure when there will be a failure, it will increase the maintenance cost."
      ],
      "metadata": {
        "id": "l2ORUgmUjDZC"
      }
    },
    {
      "cell_type": "markdown",
      "metadata": {
        "id": "eqCDCbcw4jas"
      },
      "source": [
        "### Model Building with original data"
      ]
    },
    {
      "cell_type": "markdown",
      "metadata": {
        "id": "dBtuhurlhKyp"
      },
      "source": [
        "Sample code for model building with original data"
      ]
    },
    {
      "cell_type": "code",
      "execution_count": 40,
      "metadata": {
        "id": "V-tpzI7g4jas",
        "colab": {
          "base_uri": "https://localhost:8080/"
        },
        "outputId": "421676c2-4b85-4b7e-cbd8-c88ccbbe8bae"
      },
      "outputs": [
        {
          "output_type": "stream",
          "name": "stdout",
          "text": [
            "\n",
            "Training Performance:\n",
            "\n",
            "Bagging: 0.985655737704918\n",
            "Random forest: 1.0\n",
            "GBM: 0.875\n",
            "Adaboost: 0.826844262295082\n",
            "dtree: 1.0\n",
            "\n",
            "Validation Performance:\n",
            "\n",
            "Bagging: 0.8128834355828221\n",
            "Random forest: 0.7975460122699386\n",
            "GBM: 0.8558282208588958\n",
            "Adaboost: 0.852760736196319\n",
            "dtree: 0.7944785276073619\n"
          ]
        }
      ],
      "source": [
        "models = []  # Empty list to store all the models\n",
        "\n",
        "# Appending models into the list\n",
        "models.append((\"Bagging\", BaggingClassifier(random_state=1)))\n",
        "models.append((\"Random forest\", RandomForestClassifier(random_state=1)))\n",
        "models.append((\"GBM\", GradientBoostingClassifier(random_state=1)))\n",
        "models.append((\"Adaboost\", AdaBoostClassifier(random_state=1)))\n",
        "models.append((\"dtree\", DecisionTreeClassifier(random_state=1, class_weight='balanced')))\n",
        "\n",
        "print(\"\\n\" \"Training Performance:\" \"\\n\")\n",
        "for name, model in models:\n",
        "    model.fit(X_train, y_train)\n",
        "    scores = recall_score(y_train, model.predict(X_train))\n",
        "    print(\"{}: {}\".format(name, scores))\n",
        "\n",
        "print(\"\\n\" \"Validation Performance:\" \"\\n\")\n",
        "\n",
        "for name, model in models:\n",
        "    model.fit(X_train, y_train)\n",
        "    scores_val = recall_score(y_val, model.predict(X_val))\n",
        "    print(\"{}: {}\".format(name, scores_val))"
      ]
    },
    {
      "cell_type": "code",
      "source": [
        "print(\"\\nTraining and Validation Performance Difference:\\n\")\n",
        "\n",
        "for name, model in models:\n",
        "    model.fit(X_train, y_train)\n",
        "    scores_train = recall_score(y_train, model.predict(X_train))\n",
        "    scores_val = recall_score(y_val, model.predict(X_val))\n",
        "    difference1 = scores_train - scores_val\n",
        "    print(\"{}: Training Score: {:.4f}, Validation Score: {:.4f}, Difference: {:.4f}\".format(name, scores_train, scores_val, difference1))"
      ],
      "metadata": {
        "colab": {
          "base_uri": "https://localhost:8080/"
        },
        "id": "DVDSLqZusSrC",
        "outputId": "10cfd930-5364-45ae-da8c-56827995d1dc"
      },
      "execution_count": 41,
      "outputs": [
        {
          "output_type": "stream",
          "name": "stdout",
          "text": [
            "\n",
            "Training and Validation Performance Difference:\n",
            "\n",
            "Bagging: Training Score: 0.9857, Validation Score: 0.8129, Difference: 0.1728\n",
            "Random forest: Training Score: 1.0000, Validation Score: 0.7975, Difference: 0.2025\n",
            "GBM: Training Score: 0.8750, Validation Score: 0.8558, Difference: 0.0192\n",
            "Adaboost: Training Score: 0.8268, Validation Score: 0.8528, Difference: -0.0259\n",
            "dtree: Training Score: 1.0000, Validation Score: 0.7945, Difference: 0.2055\n"
          ]
        }
      ]
    },
    {
      "cell_type": "markdown",
      "source": [
        "### Observations\n",
        "* GBM performs the best with a difference between train and validate data of 0.0192.\n",
        "* Adaboost is second with a difference of -0.259"
      ],
      "metadata": {
        "id": "2qLCjsACsalg"
      }
    },
    {
      "cell_type": "markdown",
      "metadata": {
        "id": "oBKJaFU24jas"
      },
      "source": [
        "### Model Building with Oversampled data\n"
      ]
    },
    {
      "cell_type": "code",
      "execution_count": 42,
      "metadata": {
        "id": "FKxnygkE4jat",
        "colab": {
          "base_uri": "https://localhost:8080/"
        },
        "outputId": "a184d16a-9ab6-4d03-d1cf-e8b909d0846b"
      },
      "outputs": [
        {
          "output_type": "stream",
          "name": "stdout",
          "text": [
            "Before Oversampling, counts of label 'Yes': 976\n",
            "Before Oversampling, counts of label 'No': 5099 \n",
            "\n",
            "After Oversampling, counts of label 'Yes': 5099\n",
            "After Oversampling, counts of label 'No': 5099 \n",
            "\n",
            "After Oversampling, the shape of train_X: (10198, 29)\n",
            "After Oversampling, the shape of train_y: (10198,) \n",
            "\n"
          ]
        }
      ],
      "source": [
        "print(\"Before Oversampling, counts of label 'Yes': {}\".format(sum(y_train == 1)))\n",
        "print(\"Before Oversampling, counts of label 'No': {} \\n\".format(sum(y_train == 0)))\n",
        "\n",
        "# Synthetic Minority Over Sampling Technique\n",
        "sm = SMOTE(\n",
        "    sampling_strategy=1, k_neighbors=5, random_state=1\n",
        ")\n",
        "X_train_over, y_train_over = sm.fit_resample(X_train, y_train)\n",
        "\n",
        "\n",
        "print(\"After Oversampling, counts of label 'Yes': {}\".format(sum(y_train_over == 1)))\n",
        "print(\"After Oversampling, counts of label 'No': {} \\n\".format(sum(y_train_over == 0)))\n",
        "\n",
        "\n",
        "print(\"After Oversampling, the shape of train_X: {}\".format(X_train_over.shape))\n",
        "print(\"After Oversampling, the shape of train_y: {} \\n\".format(y_train_over.shape))"
      ]
    },
    {
      "cell_type": "code",
      "execution_count": 43,
      "metadata": {
        "id": "uYDlbnUO4jat",
        "colab": {
          "base_uri": "https://localhost:8080/"
        },
        "outputId": "80221c7c-efb2-47d5-a312-14577638e951"
      },
      "outputs": [
        {
          "output_type": "stream",
          "name": "stdout",
          "text": [
            "\n",
            "Training Performance:\n",
            "\n",
            "Bagging: 0.9978427142576975\n",
            "Random forest: 1.0\n",
            "GBM: 0.9825455971759168\n",
            "Adaboost: 0.9715630515787409\n",
            "dtree: 1.0\n",
            "\n",
            "Validation Performance:\n",
            "\n",
            "Bagging: 0.8496932515337423\n",
            "Random forest: 0.8220858895705522\n",
            "GBM: 0.8865030674846626\n",
            "Adaboost: 0.8711656441717791\n",
            "dtree: 0.843558282208589\n"
          ]
        }
      ],
      "source": [
        "models = []  # Empty list to store all the models\n",
        "\n",
        "# Appending models into the list\n",
        "models.append((\"Bagging\", BaggingClassifier(base_estimator=DecisionTreeClassifier(random_state=1, class_weight='balanced'), random_state=1)))\n",
        "models.append((\"Random forest\", RandomForestClassifier(random_state=1, class_weight='balanced')))\n",
        "models.append((\"GBM\", GradientBoostingClassifier(random_state=1)))\n",
        "models.append((\"Adaboost\", AdaBoostClassifier(random_state=1)))\n",
        "models.append((\"dtree\", DecisionTreeClassifier(random_state=1, class_weight='balanced')))\n",
        "\n",
        "print(\"\\n\" \"Training Performance:\" \"\\n\")\n",
        "for name, model in models:\n",
        "    model.fit(X_train_over, y_train_over)\n",
        "    scores = recall_score(y_train_over, model.predict(X_train_over))\n",
        "    print(\"{}: {}\".format(name, scores))\n",
        "\n",
        "print(\"\\n\" \"Validation Performance:\" \"\\n\")\n",
        "\n",
        "for name, model in models:\n",
        "    model.fit(X_train_over, y_train_over)\n",
        "    scores = recall_score(y_val, model.predict(X_val))\n",
        "    print(\"{}: {}\".format(name, scores))"
      ]
    },
    {
      "cell_type": "code",
      "source": [
        "print(\"\\nTraining and Validation Performance Difference:\\n\")\n",
        "\n",
        "for name, model in models:\n",
        "    model.fit(X_train_over, y_train_over)\n",
        "    scores_train = recall_score(y_train_over, model.predict(X_train_over))\n",
        "    scores_val = recall_score(y_val, model.predict(X_val))\n",
        "    difference2 = scores_train - scores_val\n",
        "    print(\"{}: Training Score: {:.4f}, Validation Score: {:.4f}, Difference: {:.4f}\".format(name, scores_train, scores_val, difference2))"
      ],
      "metadata": {
        "colab": {
          "base_uri": "https://localhost:8080/"
        },
        "id": "_mNNdZxLtWb5",
        "outputId": "41b19a2b-e325-4f0a-e182-76f392174670"
      },
      "execution_count": null,
      "outputs": [
        {
          "output_type": "stream",
          "name": "stdout",
          "text": [
            "\n",
            "Training and Validation Performance Difference:\n",
            "\n"
          ]
        }
      ]
    },
    {
      "cell_type": "markdown",
      "source": [
        "### Observations\n",
        "* GBM has the best performance difference of 0.0960.\n",
        "* Adaboost is second with a difference of 0.1004"
      ],
      "metadata": {
        "id": "DuTtyCFStsCc"
      }
    },
    {
      "cell_type": "markdown",
      "metadata": {
        "id": "1aimb6bn4jat"
      },
      "source": [
        "### Model Building with Undersampled data"
      ]
    },
    {
      "cell_type": "code",
      "execution_count": null,
      "metadata": {
        "id": "DhxfTkvu4jat"
      },
      "outputs": [],
      "source": [
        "# Random undersampler for under sampling the data\n",
        "rus = RandomUnderSampler(random_state=1, sampling_strategy=1)\n",
        "X_train_un, y_train_un = rus.fit_resample(X_train, y_train)"
      ]
    },
    {
      "cell_type": "code",
      "execution_count": null,
      "metadata": {
        "id": "jROP_DVF4jau"
      },
      "outputs": [],
      "source": [
        "print(\"Before Under Sampling, counts of label 'Yes': {}\".format(sum(y_train == 1)))\n",
        "print(\"Before Under Sampling, counts of label 'No': {} \\n\".format(sum(y_train == 0)))\n",
        "\n",
        "print(\"After Under Sampling, counts of label 'Yes': {}\".format(sum(y_train_un == 1)))\n",
        "print(\"After Under Sampling, counts of label 'No': {} \\n\".format(sum(y_train_un == 0)))\n",
        "\n",
        "print(\"After Under Sampling, the shape of train_X: {}\".format(X_train_un.shape))\n",
        "print(\"After Under Sampling, the shape of train_y: {} \\n\".format(y_train_un.shape))"
      ]
    },
    {
      "cell_type": "code",
      "source": [
        "models = []  # Empty list to store all the models\n",
        "\n",
        "# Appending models into the list\n",
        "models.append((\"Bagging\", BaggingClassifier(base_estimator=DecisionTreeClassifier(random_state=1, class_weight='balanced'), random_state=1)))\n",
        "models.append((\"Random forest\", RandomForestClassifier(random_state=1, class_weight='balanced')))\n",
        "models.append((\"GBM\", GradientBoostingClassifier(random_state=1)))\n",
        "models.append((\"Adaboost\", AdaBoostClassifier(random_state=1)))\n",
        "models.append((\"dtree\", DecisionTreeClassifier(random_state=1, class_weight='balanced')))\n",
        "\n",
        "\n",
        "print(\"\\n\" \"Training Performance:\" \"\\n\")\n",
        "for name, model in models:\n",
        "    model.fit(X_train_un, y_train_un)\n",
        "    scores = recall_score(y_train_un, model.predict(X_train_un))\n",
        "    print(\"{}: {}\".format(name, scores))\n",
        "\n",
        "print(\"\\n\" \"Validation Performance:\" \"\\n\")\n",
        "\n",
        "for name, model in models:\n",
        "    model.fit(X_train_un, y_train_un)\n",
        "    scores = recall_score(y_val, model.predict(X_val))\n",
        "    print(\"{}: {}\".format(name, scores))"
      ],
      "metadata": {
        "id": "vcbtwW7Gt-gz"
      },
      "execution_count": null,
      "outputs": []
    },
    {
      "cell_type": "code",
      "source": [
        "print(\"\\nTraining and Validation Performance Difference:\\n\")\n",
        "\n",
        "for name, model in models:\n",
        "    model.fit(X_train_un, y_train_un)\n",
        "    scores_train = recall_score(y_train_un, model.predict(X_train_un))\n",
        "    scores_val = recall_score(y_val, model.predict(X_val))\n",
        "    difference3 = scores_train - scores_val\n",
        "    print(\"{}: Training Score: {:.4f}, Validation Score: {:.4f}, Difference: {:.4f}\".format(name, scores_train, scores_val, difference3))"
      ],
      "metadata": {
        "id": "7THvZVnnuKAM"
      },
      "execution_count": null,
      "outputs": []
    },
    {
      "cell_type": "markdown",
      "source": [
        "### Observations\n",
        "* Undersample has performed much better.\n",
        "* Adaboost is the winner with a difference of -0.0073.\n",
        "* GBM is second with a difference of 0.0235\n",
        "\n",
        "Both GBM and Adaboost performed best on oversampled and undersampled data.\n",
        "In order to generalize the model, we will need to tune its hyperparameters."
      ],
      "metadata": {
        "id": "aM_fNHstuP_f"
      }
    },
    {
      "cell_type": "markdown",
      "metadata": {
        "id": "yZGY1eL84jau"
      },
      "source": [
        "### HyperparameterTuning"
      ]
    },
    {
      "cell_type": "markdown",
      "source": [
        "### Tuning GBM on Undersampled Data"
      ],
      "metadata": {
        "id": "ohiL2oGhu9Xk"
      }
    },
    {
      "cell_type": "code",
      "source": [
        "%%time\n",
        "\n",
        "#Creating pipeline\n",
        "Model = GradientBoostingClassifier(random_state=1)\n",
        "\n",
        "#Parameter grid to pass in RandomSearchCV\n",
        "param_grid = {\n",
        "    \"init\": [AdaBoostClassifier(random_state=1),DecisionTreeClassifier(random_state=1)],\n",
        "    \"n_estimators\": np.arange(125,175,25),\n",
        "    \"learning_rate\": [0.01, 0.2, 0.05, 1],\n",
        "    \"subsample\":[0.8,0.9,1],\n",
        "    \"max_features\":[0.5,0.7,1],\n",
        "}\n",
        "\n",
        "# Type of scoring used to compare parameter combinations\n",
        "scorer = metrics.make_scorer(metrics.recall_score)\n",
        "\n",
        "#Calling RandomizedSearchCV\n",
        "randomized_cv = RandomizedSearchCV(estimator=Model, param_distributions=param_grid, n_iter=50, scoring=scorer, cv=5, random_state=1, n_jobs = -1)\n",
        "\n",
        "#Fitting parameters in RandomizedSearchCV\n",
        "randomized_cv.fit(X_train_un,y_train_un)\n",
        "\n",
        "print(\"Best parameters are {} with CV score={}:\" .format(randomized_cv.best_params_,randomized_cv.best_score_))"
      ],
      "metadata": {
        "id": "QiYnXLkvvctE"
      },
      "execution_count": null,
      "outputs": []
    },
    {
      "cell_type": "code",
      "source": [
        "tuned_gbm1 = GradientBoostingClassifier(\n",
        "    random_state=1,\n",
        "    subsample=0.9,\n",
        "    n_estimators=150,\n",
        "    max_features=0.7,\n",
        "    learning_rate=0.2,\n",
        "    init=AdaBoostClassifier(random_state=1),\n",
        ")\n",
        "tuned_gbm1.fit(X_train_un, y_train_un)"
      ],
      "metadata": {
        "id": "C62ROVksv9qJ"
      },
      "execution_count": null,
      "outputs": []
    },
    {
      "cell_type": "code",
      "source": [
        "# Checking model's performance on training set\n",
        "gbm1_train = model_performance_classification_sklearn(\n",
        "    tuned_gbm1, X_train_un, y_train_un\n",
        ")\n",
        "gbm1_train"
      ],
      "metadata": {
        "id": "gXRQB3TMv9g4"
      },
      "execution_count": null,
      "outputs": []
    },
    {
      "cell_type": "code",
      "source": [
        "# Checking model's performance on validation set\n",
        "gbm1_val = model_performance_classification_sklearn(tuned_gbm1, X_val, y_val)\n",
        "gbm1_val"
      ],
      "metadata": {
        "id": "You-kjYHv9Wb"
      },
      "execution_count": null,
      "outputs": []
    },
    {
      "cell_type": "markdown",
      "source": [
        "### Tuning Adaboost on Undersampled Data"
      ],
      "metadata": {
        "id": "93eUMpp3vE-E"
      }
    },
    {
      "cell_type": "code",
      "source": [
        "%%time\n",
        "\n",
        "# defining model\n",
        "Model = AdaBoostClassifier(random_state=1)\n",
        "\n",
        "# Parameter grid to pass in RandomSearchCV\n",
        "param_grid = {\n",
        "    \"n_estimators\": np.arange(10, 40, 10),\n",
        "    \"learning_rate\": [0.1, 0.01, 0.2, 0.05, 1],\n",
        "    \"base_estimator\": [\n",
        "        DecisionTreeClassifier(max_depth=1, random_state=1),\n",
        "        DecisionTreeClassifier(max_depth=2, random_state=1),\n",
        "        DecisionTreeClassifier(max_depth=3, random_state=1),\n",
        "    ],\n",
        "}\n",
        "\n",
        "# Type of scoring used to compare parameter combinations\n",
        "scorer = metrics.make_scorer(metrics.recall_score)\n",
        "\n",
        "#Calling RandomizedSearchCV\n",
        "randomized_cv = RandomizedSearchCV(estimator=Model, param_distributions=param_grid, n_jobs = -1, n_iter=50, scoring=scorer, cv=5, random_state=1)\n",
        "\n",
        "#Fitting parameters in RandomizedSearchCV\n",
        "randomized_cv.fit(X_train_un, y_train_un)\n",
        "\n",
        "print(\"Best parameters are {} with CV score={}:\" .format(randomized_cv.best_params_,randomized_cv.best_score_))"
      ],
      "metadata": {
        "id": "KrGWa_gBvdfF"
      },
      "execution_count": null,
      "outputs": []
    },
    {
      "cell_type": "code",
      "source": [
        "tuned_adb = AdaBoostClassifier(\n",
        "    random_state=1,\n",
        "    n_estimators=30,\n",
        "    learning_rate=0.1,\n",
        "    base_estimator=DecisionTreeClassifier(max_depth=3, random_state=1),\n",
        ")\n",
        "tuned_adb.fit(X_train_un, y_train_un)"
      ],
      "metadata": {
        "id": "vnkKgeE3vpWY"
      },
      "execution_count": null,
      "outputs": []
    },
    {
      "cell_type": "code",
      "source": [
        "# Checking model's performance on training set\n",
        "adb_train = model_performance_classification_sklearn(tuned_adb, X_train_un, y_train_un)\n",
        "adb_train"
      ],
      "metadata": {
        "id": "SE6oVLt5vqVY"
      },
      "execution_count": null,
      "outputs": []
    },
    {
      "cell_type": "code",
      "source": [
        "# Checking model's performance on validation set\n",
        "adb_val = model_performance_classification_sklearn(tuned_adb, X_val, y_val)\n",
        "adb_val"
      ],
      "metadata": {
        "id": "6pAV-h9qvqIf"
      },
      "execution_count": null,
      "outputs": []
    },
    {
      "cell_type": "markdown",
      "source": [
        "### Tuning GBM on Oversampled Data"
      ],
      "metadata": {
        "id": "sTQMOenSvFyC"
      }
    },
    {
      "cell_type": "code",
      "source": [
        "%%time\n",
        "\n",
        "#defining model\n",
        "Model = GradientBoostingClassifier(random_state=1)\n",
        "\n",
        "#Parameter grid to pass in RandomSearchCV\n",
        "param_grid = {\n",
        "    \"init\": [AdaBoostClassifier(random_state=1),DecisionTreeClassifier(random_state=1)],\n",
        "    \"n_estimators\": np.arange(75,150,25),\n",
        "    \"learning_rate\": [0.1, 0.01, 0.2, 0.05, 1],\n",
        "    \"subsample\":[0.5,0.7,1],\n",
        "    \"max_features\":[0.5,0.7,1],\n",
        "}\n",
        "\n",
        "# Type of scoring used to compare parameter combinations\n",
        "scorer = metrics.make_scorer(metrics.recall_score)\n",
        "\n",
        "#Calling RandomizedSearchCV\n",
        "randomized_cv = RandomizedSearchCV(estimator=Model, param_distributions=param_grid, n_iter=50, scoring=scorer, cv=5, random_state=1, n_jobs = -1)\n",
        "\n",
        "#Fitting parameters in RandomizedSearchCV\n",
        "randomized_cv.fit(X_train_over, y_train_over)\n",
        "\n",
        "print(\"Best parameters are {} with CV score={}:\" .format(randomized_cv.best_params_,randomized_cv.best_score_))"
      ],
      "metadata": {
        "id": "qbEIltGOveGb"
      },
      "execution_count": null,
      "outputs": []
    },
    {
      "cell_type": "code",
      "source": [
        "tuned_gbm2 = GradientBoostingClassifier(\n",
        "    random_state=1,\n",
        "    subsample=1,\n",
        "    n_estimators=75,\n",
        "    max_features=0.7,\n",
        "    learning_rate=0.01,\n",
        "    init=AdaBoostClassifier(random_state=1),\n",
        ")\n",
        "tuned_gbm2.fit(X_train_over, y_train_over)"
      ],
      "metadata": {
        "id": "ZIDpBmnNxVVG"
      },
      "execution_count": null,
      "outputs": []
    },
    {
      "cell_type": "code",
      "source": [
        "# Checking model's performance on training set\n",
        "gbm2_train = model_performance_classification_sklearn(tuned_gbm2, X_train_over, y_train_over)\n",
        "gbm2_train"
      ],
      "metadata": {
        "id": "ZYDQjrlaxVLo"
      },
      "execution_count": null,
      "outputs": []
    },
    {
      "cell_type": "code",
      "source": [
        "# Checking model's performance on validation set\n",
        "gbm2_val = model_performance_classification_sklearn(tuned_gbm2, X_val, y_val)\n",
        "gbm2_val"
      ],
      "metadata": {
        "id": "x-SE2CWVxVBY"
      },
      "execution_count": null,
      "outputs": []
    },
    {
      "cell_type": "markdown",
      "source": [
        "### Tuning Adaboost on Oversampled Data"
      ],
      "metadata": {
        "id": "oKZQguwwvYMQ"
      }
    },
    {
      "cell_type": "code",
      "source": [
        "%%time\n",
        "\n",
        "# defining model\n",
        "Model = AdaBoostClassifier(random_state=1)\n",
        "\n",
        "# Parameter grid to pass in RandomSearchCV\n",
        "param_grid = {\n",
        "    \"n_estimators\": np.arange(10, 40, 10),\n",
        "    \"learning_rate\": [0.1, 0.01, 0.2, 0.05, 1],\n",
        "    \"base_estimator\": [\n",
        "        DecisionTreeClassifier(max_depth=1, random_state=1),\n",
        "        DecisionTreeClassifier(max_depth=2, random_state=1),\n",
        "        DecisionTreeClassifier(max_depth=3, random_state=1),\n",
        "    ],\n",
        "}\n",
        "\n",
        "# Type of scoring used to compare parameter combinations\n",
        "scorer = metrics.make_scorer(metrics.recall_score)\n",
        "\n",
        "#Calling RandomizedSearchCV\n",
        "randomized_cv = RandomizedSearchCV(estimator=Model, param_distributions=param_grid, n_jobs = -1, n_iter=50, scoring=scorer, cv=5, random_state=1)\n",
        "\n",
        "#Fitting parameters in RandomizedSearchCV\n",
        "randomized_cv.fit(X_train_over, y_train_over)\n",
        "\n",
        "print(\"Best parameters are {} with CV score={}:\" .format(randomized_cv.best_params_,randomized_cv.best_score_))"
      ],
      "metadata": {
        "id": "b0MRXwc6vfHR"
      },
      "execution_count": null,
      "outputs": []
    },
    {
      "cell_type": "code",
      "source": [
        "tuned_adb2 = AdaBoostClassifier(\n",
        "    random_state=1,\n",
        "    n_estimators=10,\n",
        "    learning_rate=0.1,\n",
        "    base_estimator=DecisionTreeClassifier(max_depth=3, random_state=1),\n",
        ")\n",
        "tuned_adb2.fit(X_train_un, y_train_un)"
      ],
      "metadata": {
        "id": "H63R9Q_Exhtj"
      },
      "execution_count": null,
      "outputs": []
    },
    {
      "cell_type": "code",
      "source": [
        "# Checking model's performance on training set\n",
        "adb2_train = model_performance_classification_sklearn(tuned_adb2, X_train_un, y_train_un)\n",
        "adb2_train"
      ],
      "metadata": {
        "id": "-uvYt4Zdxhgn"
      },
      "execution_count": null,
      "outputs": []
    },
    {
      "cell_type": "code",
      "source": [
        "# Checking model's performance on validation set\n",
        "adb2_val = model_performance_classification_sklearn(tuned_adb2, X_val, y_val)\n",
        "adb2_val"
      ],
      "metadata": {
        "id": "g3c-G5SQxhXI"
      },
      "execution_count": null,
      "outputs": []
    },
    {
      "cell_type": "markdown",
      "metadata": {
        "id": "D9JNnpxa4jau"
      },
      "source": [
        "## Model Comparison and Final Model Selection"
      ]
    },
    {
      "cell_type": "code",
      "execution_count": null,
      "metadata": {
        "id": "0JG85rkY4jav"
      },
      "outputs": [],
      "source": [
        "# training performance comparison\n",
        "\n",
        "models_train_comp_df = pd.concat(\n",
        "    [\n",
        "        gbm1_train.T,\n",
        "        gbm2_train.T,\n",
        "        adb_train.T,\n",
        "        adb2_train.T\n",
        "    ],\n",
        "    axis=1,\n",
        ")\n",
        "models_train_comp_df.columns = [\n",
        "    \"Gradient boosting trained with Undersampled data\",\n",
        "    \"Gradient boosting trained with Oversampled data\",\n",
        "    \"AdaBoost trained with Undersampled data\",\n",
        "    \"AdaBoost trained with Oversampled data\"\n",
        "]\n",
        "print(\"Training performance comparison:\")\n",
        "models_train_comp_df"
      ]
    },
    {
      "cell_type": "markdown",
      "source": [
        "### Observations\n",
        "* The Recall score of 1.000 on Gradient boosting trained with undersampled data give cause for concern that the model is overfit."
      ],
      "metadata": {
        "id": "Oh8rs5ed9XuJ"
      }
    },
    {
      "cell_type": "code",
      "source": [
        "# Validation performance comparison\n",
        "\n",
        "models_train_comp_df = pd.concat(\n",
        "    [ gbm1_val.T, gbm2_val.T, adb_val.T, adb2_val.T], axis=1,\n",
        ")\n",
        "models_train_comp_df.columns = [\n",
        "    \"Gradient boosting trained with Undersampled data\",\n",
        "    \"Gradient boosting trained with Oversampled data\",\n",
        "    \"AdaBoost trained with Undersampled data\",\n",
        "    \"AdaBoost trained with Oversampled data\"\n",
        "]\n",
        "print(\"Validation performance comparison:\")\n",
        "models_train_comp_df"
      ],
      "metadata": {
        "id": "SuaWeVeV6Y__"
      },
      "execution_count": null,
      "outputs": []
    },
    {
      "cell_type": "markdown",
      "source": [
        "## Observations\n",
        "* While Gradient boosting trained with Undersampled data has the best Recall score on validation data, its performance on test data with a Recall score of 1.0 says the model is most likely overfit.\n",
        "* AdaBoost trained with Undersampled data appears to be performing the best with a Recall of 0.942. This is the model which we should see if it generalizes."
      ],
      "metadata": {
        "id": "8wsdThF39JaA"
      }
    },
    {
      "cell_type": "markdown",
      "metadata": {
        "id": "d_pDMFAz4jav"
      },
      "source": [
        "### Test set final performance"
      ]
    },
    {
      "cell_type": "code",
      "execution_count": null,
      "metadata": {
        "id": "g8-epsXv4jav"
      },
      "outputs": [],
      "source": [
        "# Let's check the performance on test set\n",
        "ada_test = model_performance_classification_sklearn(tuned_adb, X_test, y_test)\n",
        "ada_test"
      ]
    },
    {
      "cell_type": "markdown",
      "source": [
        "#### Observations\n",
        "* Recall on the test set is very good at 0.969% and is similar to the Recall scored received on both training and validation data.\n",
        "* As a result, this is a generalized model."
      ],
      "metadata": {
        "id": "U3GRa1Ix7ypE"
      }
    },
    {
      "cell_type": "markdown",
      "source": [
        "### Feature Importance"
      ],
      "metadata": {
        "id": "rPjmAollAQ2P"
      }
    },
    {
      "cell_type": "code",
      "source": [
        "feature_names = X_train.columns\n",
        "importances = tuned_adb.feature_importances_\n",
        "indices = np.argsort(importances)\n",
        "\n",
        "plt.figure(figsize=(12, 12))\n",
        "plt.title(\"Feature Importances\")\n",
        "plt.barh(range(len(indices)), importances[indices], color=\"violet\", align=\"center\")\n",
        "plt.yticks(range(len(indices)), [feature_names[i] for i in indices])\n",
        "plt.xlabel(\"Relative Importance\")\n",
        "plt.show()"
      ],
      "metadata": {
        "id": "KMf3pXA4AQas"
      },
      "execution_count": null,
      "outputs": []
    },
    {
      "cell_type": "markdown",
      "metadata": {
        "id": "c5hPmHyR4jaw"
      },
      "source": [
        "# Business Insights and Conclusions"
      ]
    },
    {
      "cell_type": "markdown",
      "source": [
        "## Customer Attrition Analysis - Model Insights\n",
        "\n",
        "### Overview\n",
        "The model exhibits a Recall Score of 0.969, emphasizing its efficacy in identifying potential customer attrition. The elevated recall score indicates a strong capability to capture instances of attrition.\n",
        "\n",
        "### Key Predictive Features\n",
        "The identified significant contributors to predicting customer attrition include:\n",
        "\n",
        "1. **Total Transaction Amount**\n",
        "2. **Total Transaction Count**\n",
        "3. **Total Revolving Balance**\n",
        "4. **Total Count Change Q4 to Q1**\n",
        "5. **Total Amount Change Q4 to Q1**\n",
        "6. **Months Inactive Over 12 months**\n",
        "\n",
        "### Interpretation and Insights\n",
        "#### 1. Transaction Behavior:\n",
        "   - **Total Transaction Amount and Count:** Lower transaction amounts and counts correlate with a higher likelihood of attrition, suggesting a potential link between reduced transactional engagement and attrition.\n",
        "\n",
        "#### 2. Revolving Balance:\n",
        "   - **Total Revolving Balance:** Higher revolving balances are associated with increased attrition risk, emphasizing the importance of managing revolving balances for customer retention.\n",
        "\n",
        "#### 3. Transaction Trends:\n",
        "   - **Total Count Change Q4 to Q1 and Total Amount Change Q4 to Q1:** Significant changes in transaction counts and amounts from Q4 to Q1 indicate potential attrition. Addressing these changes is crucial for customer retention.\n",
        "\n",
        "#### 4. Customer Inactivity:\n",
        "   - **Months Inactive Over 12 months:** Prolonged inactivity significantly contributes to attrition risk. Initiating efforts to re-engage inactive customers is recommended.\n",
        "\n",
        "### Recommendations\n",
        "Considering these insights, the following actions are proposed for customer retention:\n",
        "\n",
        "1. **Proactive Engagement:**\n",
        "   - Identify customers with lower transactional activity and implement targeted engagement strategies, such as personalized promotions.\n",
        "\n",
        "2. **Revolving Balance Management:**\n",
        "   - Implement measures to educate and assist customers in managing their revolving balances to improve satisfaction.\n",
        "\n",
        "3. **Monitoring Transaction Trends:**\n",
        "   - Regularly monitor changes in transaction counts and amounts, especially during the Q4 to Q1 transition. Implement retention initiatives for customers displaying significant changes.\n",
        "\n",
        "4. **Customer Outreach:**\n",
        "   - Reach out to customers with extended inactivity to understand their needs and concerns, tailoring communication and offers to rekindle engagement.\n",
        "\n",
        "### Continuous Improvement\n",
        "While the model provides a foundation for predicting attrition, ongoing refinement and adaptation are essential. Regular updates will ensure effectiveness in a dynamic financial landscape.\n",
        "\n",
        "In summary, implementing these insights can contribute to reducing customer attrition to maintain competitiveness in the market.\n"
      ],
      "metadata": {
        "id": "qBEKtwVtDMVx"
      }
    },
    {
      "cell_type": "markdown",
      "source": [
        "***"
      ],
      "metadata": {
        "id": "VB3eO21n_sgt"
      }
    },
    {
      "cell_type": "markdown",
      "source": [
        "# <a name=\"eda_appendix\"></a>Appendix (Exploratory Data Analysis)"
      ],
      "metadata": {
        "id": "mcKQQlgkyQUC"
      }
    },
    {
      "cell_type": "code",
      "source": [
        "# Make another copy of the original data for EDA\n",
        "eda_df = churn_df.copy()"
      ],
      "metadata": {
        "id": "2PLv7lvTanwk"
      },
      "execution_count": null,
      "outputs": []
    },
    {
      "cell_type": "markdown",
      "source": [
        "**CLIENTNUM is a unique customer identifier and will be dropped during data pre-processing. As a result, we will not be using it in Univariate or Bivariate Analysis.**"
      ],
      "metadata": {
        "id": "Dpi8kyWGmbRU"
      }
    },
    {
      "cell_type": "markdown",
      "source": [
        "## Univariate Analysis"
      ],
      "metadata": {
        "id": "81Trc9igZDa0"
      }
    },
    {
      "cell_type": "markdown",
      "source": [
        "### Attrition_Flag           \n",
        "  "
      ],
      "metadata": {
        "id": "XEVplBqSbNG0"
      }
    },
    {
      "cell_type": "code",
      "source": [
        "labeled_barplot(eda_df,\"Attrition_Flag\", perc=True)"
      ],
      "metadata": {
        "id": "x4b8KKJ7cUp4"
      },
      "execution_count": null,
      "outputs": []
    },
    {
      "cell_type": "markdown",
      "source": [
        "#### Observations\n",
        "* Within the sample data 16% of rows contain a customer which has attritioned and 84% of rows are from existing customers.\n",
        "* Since this is the dependent variable under or over sampling may be considered."
      ],
      "metadata": {
        "id": "Kzx5ocCIhJvq"
      }
    },
    {
      "cell_type": "markdown",
      "source": [
        "### Customer_Age             \n"
      ],
      "metadata": {
        "id": "_fi8rYT3bMTh"
      }
    },
    {
      "cell_type": "code",
      "source": [
        "histogram_boxplot(eda_df, \"Customer_Age\", kde=True)"
      ],
      "metadata": {
        "id": "2KC3hnHOcVnf"
      },
      "execution_count": null,
      "outputs": []
    },
    {
      "cell_type": "markdown",
      "source": [
        "#### Observations\n",
        "* The age of the customer data is essentially symmetric.\n",
        "* The median age is 46 and the mean is about 46.2.\n",
        "* The youngest customer is 26 and the oldest is in their 70s."
      ],
      "metadata": {
        "id": "g8RFWHePhLWR"
      }
    },
    {
      "cell_type": "markdown",
      "source": [
        "### Gender                   \n"
      ],
      "metadata": {
        "id": "HluSCQUnbMQp"
      }
    },
    {
      "cell_type": "code",
      "source": [
        "labeled_barplot(eda_df,\"Gender\", perc=True)"
      ],
      "metadata": {
        "id": "qNtjx3h1cWMo"
      },
      "execution_count": null,
      "outputs": []
    },
    {
      "cell_type": "markdown",
      "source": [
        "#### Observations\n",
        "* Slightly more females than males have or have had a credit card."
      ],
      "metadata": {
        "id": "CZynejn4hMKW"
      }
    },
    {
      "cell_type": "markdown",
      "source": [
        "### Dependent_count          \n"
      ],
      "metadata": {
        "id": "KR1cWJoEbMNn"
      }
    },
    {
      "cell_type": "code",
      "source": [
        "labeled_barplot(eda_df,\"Dependent_count\", perc=True)"
      ],
      "metadata": {
        "id": "ejoQHeaacXDy"
      },
      "execution_count": null,
      "outputs": []
    },
    {
      "cell_type": "markdown",
      "source": [
        "#### Observations\n",
        "* 53% of customers have two or three dependents.\n",
        "* 27% of customers have one or no dependents.\n",
        "* 20% of customers have four or five dependents."
      ],
      "metadata": {
        "id": "BuosIm3PhNAJ"
      }
    },
    {
      "cell_type": "markdown",
      "source": [
        "### Education_Level          \n"
      ],
      "metadata": {
        "id": "Jq8bYoSUbMJ8"
      }
    },
    {
      "cell_type": "code",
      "source": [
        "labeled_barplot(eda_df,\"Education_Level\", perc=True)"
      ],
      "metadata": {
        "id": "OzwuAkVscX7a"
      },
      "execution_count": null,
      "outputs": []
    },
    {
      "cell_type": "markdown",
      "source": [
        "#### Observations\n",
        "* 50% of customers are either college graduates or high school (graduate is assumed).\n",
        "* 30% of customers are college graduates showing the need for credit after college."
      ],
      "metadata": {
        "id": "5SRnl45ehN_w"
      }
    },
    {
      "cell_type": "markdown",
      "source": [
        "### Marital_Status           \n"
      ],
      "metadata": {
        "id": "8ouGEn30bMFn"
      }
    },
    {
      "cell_type": "code",
      "source": [
        "labeled_barplot(eda_df,\"Marital_Status\", perc=True)"
      ],
      "metadata": {
        "id": "SbqJ7sL4cYhF"
      },
      "execution_count": null,
      "outputs": []
    },
    {
      "cell_type": "markdown",
      "source": [
        "#### Observations\n",
        "* Married customers beat out single customers 43% to 39%."
      ],
      "metadata": {
        "id": "1zSEfZJEhOs5"
      }
    },
    {
      "cell_type": "markdown",
      "source": [
        "### Income_Category          \n"
      ],
      "metadata": {
        "id": "LYhE8d2FbMCQ"
      }
    },
    {
      "cell_type": "code",
      "source": [
        "eda_df['Income_Category'] = eda_df['Income_Category'].replace('abc', 'UNKNOWN')"
      ],
      "metadata": {
        "id": "rGEH4q9s0Vlj"
      },
      "execution_count": null,
      "outputs": []
    },
    {
      "cell_type": "code",
      "source": [
        "labeled_barplot(eda_df,\"Income_Category\", perc=True)"
      ],
      "metadata": {
        "id": "75d5e-ORcZXO"
      },
      "execution_count": null,
      "outputs": []
    },
    {
      "cell_type": "markdown",
      "source": [
        "#### Observations\n",
        "* Most customers with credit have an income under 60k per year.\n",
        "* There are customers whose income is unknown."
      ],
      "metadata": {
        "id": "uaUjv-27hPpN"
      }
    },
    {
      "cell_type": "markdown",
      "source": [
        "### Card_Category            \n"
      ],
      "metadata": {
        "id": "VQg_aINYbL-x"
      }
    },
    {
      "cell_type": "code",
      "source": [
        "labeled_barplot(eda_df,\"Card_Category\", perc=True)"
      ],
      "metadata": {
        "id": "rRbJPg7acaBi"
      },
      "execution_count": null,
      "outputs": []
    },
    {
      "cell_type": "markdown",
      "source": [
        "#### Observations\n",
        "* Over 93% of customers own the Blue credit card."
      ],
      "metadata": {
        "id": "RsomNldlhQkd"
      }
    },
    {
      "cell_type": "markdown",
      "source": [
        "### Months_on_book           \n"
      ],
      "metadata": {
        "id": "DYE41e_PbL7N"
      }
    },
    {
      "cell_type": "code",
      "source": [
        "histogram_boxplot(eda_df, \"Months_on_book\", kde=True)"
      ],
      "metadata": {
        "id": "N0BB1AyKcaqH"
      },
      "execution_count": null,
      "outputs": []
    },
    {
      "cell_type": "markdown",
      "source": [
        "#### Observations\n",
        "* There is a large spike of customers who have had a relationship with the bank for 36 month. I would attribute this to opening the bank, but there are also customer who have had a relationship with the bank for over 50 months.\n",
        "* Data is symmetrical."
      ],
      "metadata": {
        "id": "krqTYbfNhRhC"
      }
    },
    {
      "cell_type": "markdown",
      "source": [
        "### Total_Relationship_Count\n"
      ],
      "metadata": {
        "id": "x3_O6pj5bLw2"
      }
    },
    {
      "cell_type": "code",
      "source": [
        "labeled_barplot(eda_df,\"Total_Relationship_Count\", perc=True)"
      ],
      "metadata": {
        "id": "OU-PLL6xcbUi"
      },
      "execution_count": null,
      "outputs": []
    },
    {
      "cell_type": "markdown",
      "source": [
        "#### Observations\n",
        "* 79% of customers have three or more products with the bank."
      ],
      "metadata": {
        "id": "gm98stS-hSUd"
      }
    },
    {
      "cell_type": "markdown",
      "source": [
        "### Months_Inactive_12_mon   \n"
      ],
      "metadata": {
        "id": "kHx9_GqTbLtI"
      }
    },
    {
      "cell_type": "code",
      "source": [
        "labeled_barplot(eda_df,\"Months_Inactive_12_mon\", perc=True)"
      ],
      "metadata": {
        "id": "d5i1jrTkcb24"
      },
      "execution_count": null,
      "outputs": []
    },
    {
      "cell_type": "markdown",
      "source": [
        "#### Observations\n",
        "* Only about 7% of customers have been inactive for four or more months.\n",
        "* I would have expected this chart to have data for all twelve months, but it looks like perhaps the sample of data might be for the last six months."
      ],
      "metadata": {
        "id": "kCqrfMlehTMX"
      }
    },
    {
      "cell_type": "markdown",
      "source": [
        "### Contacts_Count_12_mon    \n"
      ],
      "metadata": {
        "id": "qq-2hZEsbLp2"
      }
    },
    {
      "cell_type": "code",
      "source": [
        "labeled_barplot(eda_df,\"Contacts_Count_12_mon\", perc=True)"
      ],
      "metadata": {
        "id": "VDr73UPdcdxc"
      },
      "execution_count": null,
      "outputs": []
    },
    {
      "cell_type": "markdown",
      "source": [
        "#### Observations\n",
        "* Assuming this is the bank reaching out to the customer. Most customers have had two or three contacts in the last 12 months."
      ],
      "metadata": {
        "id": "UsDpkulZhUNX"
      }
    },
    {
      "cell_type": "markdown",
      "source": [
        "### Credit_Limit             \n"
      ],
      "metadata": {
        "id": "ElUeatmYbLme"
      }
    },
    {
      "cell_type": "code",
      "source": [
        "histogram_boxplot(eda_df, \"Credit_Limit\", kde=True)"
      ],
      "metadata": {
        "id": "5Ra35xdyceZY"
      },
      "execution_count": null,
      "outputs": []
    },
    {
      "cell_type": "markdown",
      "source": [
        "#### Observations\n",
        "* Data is right-skewed with a lot of outliers.\n",
        "* Most customers have a credit limit of around $8,000."
      ],
      "metadata": {
        "id": "Gylhm-d_hVHs"
      }
    },
    {
      "cell_type": "markdown",
      "source": [
        "### Total_Revolving_Bal      \n"
      ],
      "metadata": {
        "id": "QofphljxbLi1"
      }
    },
    {
      "cell_type": "code",
      "source": [
        "histogram_boxplot(eda_df, \"Total_Revolving_Bal\", kde=True)"
      ],
      "metadata": {
        "id": "CdOFdxbDcfKG"
      },
      "execution_count": null,
      "outputs": []
    },
    {
      "cell_type": "markdown",
      "source": [
        "#### Observations\n",
        "* Data is left skewed.\n",
        "* Most customers have a revolving balance of around $1,200 dollars."
      ],
      "metadata": {
        "id": "2kWE3atNhW7p"
      }
    },
    {
      "cell_type": "markdown",
      "source": [
        "### Avg_Open_To_Buy          \n"
      ],
      "metadata": {
        "id": "ua-XvscebLfl"
      }
    },
    {
      "cell_type": "code",
      "source": [
        "histogram_boxplot(eda_df, \"Avg_Open_To_Buy\", kde=True)"
      ],
      "metadata": {
        "id": "FY-1IKBcch7_"
      },
      "execution_count": null,
      "outputs": []
    },
    {
      "cell_type": "markdown",
      "source": [
        "#### Observations\n",
        "* 50% of customers have \\$7,500 or less remaining on their credit card balance and 50% of customer have more than \\$7,500 available.\n",
        "* The data is right-skewed."
      ],
      "metadata": {
        "id": "uvzXA6jkhYBl"
      }
    },
    {
      "cell_type": "markdown",
      "source": [
        "### Total_Amt_Chng_Q4_Q1     \n"
      ],
      "metadata": {
        "id": "sMfEpFSZbLbb"
      }
    },
    {
      "cell_type": "code",
      "source": [
        "histogram_boxplot(eda_df, \"Total_Amt_Chng_Q4_Q1\", kde=True)"
      ],
      "metadata": {
        "id": "r7PlmMM1chau"
      },
      "execution_count": null,
      "outputs": []
    },
    {
      "cell_type": "markdown",
      "source": [
        "#### Observations\n",
        "* Data is slightly skewed to the right.\n",
        "* There are a lot of outliers to the positive.\n",
        "* Data looks like it is from two quarters which is six months.\n",
        "* I may be reading the data incorrectly, but it looks like any number below 1 is a reduction in credit balance. So 50% of people have reduced their credit by about 25% which is where the mean lies. I would need a better understanding of what this value means to come to a better conclusion."
      ],
      "metadata": {
        "id": "pVIiDI-VhaSA"
      }
    },
    {
      "cell_type": "markdown",
      "source": [
        "### Total_Trans_Amt          \n"
      ],
      "metadata": {
        "id": "xoDvwcM2bLYR"
      }
    },
    {
      "cell_type": "code",
      "source": [
        "histogram_boxplot(eda_df, \"Total_Trans_Amt\", kde=True)"
      ],
      "metadata": {
        "id": "_5X1povWchGj"
      },
      "execution_count": null,
      "outputs": []
    },
    {
      "cell_type": "markdown",
      "source": [
        "#### Observations\n",
        "* Data is multi-modal.\n",
        "* Data is right-skewed.\n",
        "* The majority of customers have a credit card transaction amount of less than $5,000."
      ],
      "metadata": {
        "id": "qWpnR408hbV2"
      }
    },
    {
      "cell_type": "markdown",
      "source": [
        "### Total_Trans_Ct           "
      ],
      "metadata": {
        "id": "0Ii0nFn8bLUq"
      }
    },
    {
      "cell_type": "code",
      "source": [
        "histogram_boxplot(eda_df, \"Total_Trans_Ct\", kde=True)"
      ],
      "metadata": {
        "id": "aDc4TW6_cgvt"
      },
      "execution_count": null,
      "outputs": []
    },
    {
      "cell_type": "markdown",
      "source": [
        "#### Observations\n",
        "* Data is multi-modal.\n",
        "* Average number of transaction for a customer is about 63."
      ],
      "metadata": {
        "id": "egzCXHMwhcI9"
      }
    },
    {
      "cell_type": "markdown",
      "source": [
        "### Total_Ct_Chng_Q4_Q1      \n"
      ],
      "metadata": {
        "id": "O0E8LyRUbLQs"
      }
    },
    {
      "cell_type": "code",
      "source": [
        "histogram_boxplot(eda_df, \"Total_Ct_Chng_Q4_Q1\", kde=True)"
      ],
      "metadata": {
        "id": "jknuqc-FcgWm"
      },
      "execution_count": null,
      "outputs": []
    },
    {
      "cell_type": "markdown",
      "source": [
        "#### Observations\n",
        "* Data is symmetric.\n",
        "* Total transaction could has dropped by 25%. I assuming 1.0 means not change in the number of transactions as I would have expected values below zero as I do not believe it is possible that every customer could have increased their total transaction count."
      ],
      "metadata": {
        "id": "vXWnIBdphdJW"
      }
    },
    {
      "cell_type": "markdown",
      "source": [
        "### Avg_Utilization_Ratio"
      ],
      "metadata": {
        "id": "wQm9m5QWcMJf"
      }
    },
    {
      "cell_type": "code",
      "source": [
        "histogram_boxplot(eda_df, \"Avg_Utilization_Ratio\", kde=True)"
      ],
      "metadata": {
        "id": "xHCsdcilbAgQ"
      },
      "execution_count": null,
      "outputs": []
    },
    {
      "cell_type": "markdown",
      "source": [
        "#### Observations\n",
        "* Card utilizatio is the sum of all your balances divided by your credit limit.\n",
        "* 50% of customer have a utilization ratio of approximately .28 and 50% of customers are over .28."
      ],
      "metadata": {
        "id": "LckzqdiNh3EJ"
      }
    },
    {
      "cell_type": "markdown",
      "source": [
        "## Bivariate Analysis"
      ],
      "metadata": {
        "id": "VqHxhNhEeIOH"
      }
    },
    {
      "cell_type": "markdown",
      "source": [
        "### Heat Map Correlation"
      ],
      "metadata": {
        "id": "dl0grjhT8u2T"
      }
    },
    {
      "cell_type": "code",
      "source": [
        "plt.figure(figsize=(15, 7))\n",
        "sns.heatmap(eda_df.corr(), annot=True, vmin=-1, vmax=1, fmt=\".2f\", cmap=\"Spectral\")\n",
        "plt.show()"
      ],
      "metadata": {
        "id": "X3S00JAksx-8"
      },
      "execution_count": null,
      "outputs": []
    },
    {
      "cell_type": "markdown",
      "source": [
        "#### Observations\n",
        "* Postive Correlations\n",
        "  * High positive correlations:\n",
        "    * Customer_Age and Months_on_book\n",
        "      * As a customer ages they have a longer relationship with the bank.\n",
        "    * Total_Revolving_Balance and Avg_Utilization_Rate\n",
        "      * As a customer utilizes their credit card more their balance rises.\n",
        "    * Total_Trans_Ct and Total_Trans_Amt\n",
        "      * As a customer performs more transaction with their card their balance rises.\n",
        "  * Moderate positive correlation\n",
        "    * Total_Amt_Chng_Q4_Q1 and Total_Ct_Change_Q4_Q1\n",
        "      * The the count of transactions increased so did a customer's balance amount.\n",
        "  * Weak positive correlation\n",
        "    * Total_Trans_Amt and Avg_Open_To_Buy\n",
        "      * As a customer gets more credit their amount of transactions increase.\n",
        "  \n",
        "* Negative Correlations\n",
        "  * High Negative Correlation\n",
        "    * Credit_Limit and Avg_Utilization_Ratio\n",
        "      * As a customer's credit limit increases their utilization decreases.\n",
        "  * Moderate Negative Correlation\n",
        "    * Total_Relationship_Count and Total_Trans_Amt\n",
        "      * As the number of products a customer has increases the total transaction amount decreases.\n",
        "    * Total_Relationship_Count and Total_Trans_Cnt\n",
        "      * As the number of products a customer has increases the total transaction count decreases."
      ],
      "metadata": {
        "id": "IGvxnmXAs8IE"
      }
    },
    {
      "cell_type": "markdown",
      "source": [
        "### Attrition_Flag and Customer_Age             \n"
      ],
      "metadata": {
        "id": "AfbLUp8IeJ3I"
      }
    },
    {
      "cell_type": "code",
      "source": [
        "stacked_barplot(eda_df, \"Customer_Age\", \"Attrition_Flag\")"
      ],
      "metadata": {
        "id": "jSz9DjC9eJ3I"
      },
      "execution_count": null,
      "outputs": []
    },
    {
      "cell_type": "markdown",
      "source": [
        "#### Observations\n",
        "* Customers which have attritioned the most are in their 40s.\n",
        "* Overall customers which attritioned are betwen 30 and 50 years of age."
      ],
      "metadata": {
        "id": "nPYkkVlSl2yG"
      }
    },
    {
      "cell_type": "markdown",
      "source": [
        "### Attrition_Flag and Gender                   \n"
      ],
      "metadata": {
        "id": "upsAPwqVeJ3J"
      }
    },
    {
      "cell_type": "code",
      "source": [
        "stacked_barplot(eda_df, \"Gender\", \"Attrition_Flag\")"
      ],
      "metadata": {
        "id": "ITXRYi0-eJ3J"
      },
      "execution_count": null,
      "outputs": []
    },
    {
      "cell_type": "markdown",
      "source": [
        "#### Observations\n",
        "* More females have attritioned than males, but there are also more female customers than males."
      ],
      "metadata": {
        "id": "U6m1TX99l3Te"
      }
    },
    {
      "cell_type": "markdown",
      "source": [
        "### Attrition_Flag and Dependent_count          \n"
      ],
      "metadata": {
        "id": "THAT9VpFeJ3J"
      }
    },
    {
      "cell_type": "code",
      "source": [
        "stacked_barplot(eda_df, \"Dependent_count\", \"Attrition_Flag\")"
      ],
      "metadata": {
        "id": "upMumZc3eJ3J"
      },
      "execution_count": null,
      "outputs": []
    },
    {
      "cell_type": "markdown",
      "source": [
        "#### Observations\n",
        "* Customers with 2 or 3 dependents have attritioned the most."
      ],
      "metadata": {
        "id": "rlO5czyfl3xC"
      }
    },
    {
      "cell_type": "markdown",
      "source": [
        "### Attrition_Flag and Education_Level          \n"
      ],
      "metadata": {
        "id": "sF1cX35QeJ3J"
      }
    },
    {
      "cell_type": "code",
      "source": [
        "stacked_barplot(eda_df, \"Education_Level\", \"Attrition_Flag\")"
      ],
      "metadata": {
        "id": "vjIVriPoeJ3J"
      },
      "execution_count": null,
      "outputs": []
    },
    {
      "cell_type": "markdown",
      "source": [
        "#### Observations\n",
        "* College student, Post-Graduate and Doctorate customers have attritioned the least.\n",
        "* People out of college have attritioned the most."
      ],
      "metadata": {
        "id": "on-KG6HMl4WB"
      }
    },
    {
      "cell_type": "markdown",
      "source": [
        "### Attrition_Flag and Marital_Status           \n"
      ],
      "metadata": {
        "id": "X7mxEofBeJ3J"
      }
    },
    {
      "cell_type": "code",
      "source": [
        "stacked_barplot(eda_df, \"Marital_Status\", \"Attrition_Flag\")"
      ],
      "metadata": {
        "id": "d6s-fbxOeJ3J"
      },
      "execution_count": null,
      "outputs": []
    },
    {
      "cell_type": "markdown",
      "source": [
        "#### Observations\n",
        "* Single, Married and Divorced customers appear to have attritioned at the same rate."
      ],
      "metadata": {
        "id": "kSpxftM2l48n"
      }
    },
    {
      "cell_type": "markdown",
      "source": [
        "### Attrition_Flag and Income_Category          \n"
      ],
      "metadata": {
        "id": "MjEWe2UueJ3J"
      }
    },
    {
      "cell_type": "code",
      "source": [
        "eda_df['Income_Category'] = eda_df['Income_Category'].replace('abc', 'UNKNOWN')"
      ],
      "metadata": {
        "id": "6HVxgJgxx4ui"
      },
      "execution_count": null,
      "outputs": []
    },
    {
      "cell_type": "code",
      "source": [
        "stacked_barplot(eda_df, \"Income_Category\", \"Attrition_Flag\")"
      ],
      "metadata": {
        "id": "RVO1E9GseJ3J"
      },
      "execution_count": null,
      "outputs": []
    },
    {
      "cell_type": "markdown",
      "source": [
        "#### Observations\n",
        "* Customers making less than 60k per year attritioned the most."
      ],
      "metadata": {
        "id": "_9AYJUN8l5jG"
      }
    },
    {
      "cell_type": "markdown",
      "source": [
        "### Attrition_Flag and Card_Category            \n"
      ],
      "metadata": {
        "id": "MDa1-zDUeJ3K"
      }
    },
    {
      "cell_type": "code",
      "source": [
        "stacked_barplot(eda_df, \"Card_Category\", \"Attrition_Flag\")"
      ],
      "metadata": {
        "id": "W0Fu6xpTeJ3K"
      },
      "execution_count": null,
      "outputs": []
    },
    {
      "cell_type": "markdown",
      "source": [
        "#### Observations\n",
        "* Blue card holders are the largest group (over 90%) so it makes sense that they have attritioned the most.\n",
        "\n"
      ],
      "metadata": {
        "id": "CbubkzZZl6Ap"
      }
    },
    {
      "cell_type": "markdown",
      "source": [
        "### Attrition_Flag and Months_on_book           \n"
      ],
      "metadata": {
        "id": "Vma78gPjeJ3K"
      }
    },
    {
      "cell_type": "code",
      "source": [
        "stacked_barplot(eda_df, \"Months_on_book\", \"Attrition_Flag\")"
      ],
      "metadata": {
        "id": "5y-qL40peJ3K"
      },
      "execution_count": null,
      "outputs": []
    },
    {
      "cell_type": "markdown",
      "source": [
        "#### Observations\n",
        "* For some reason, at 36 months is when most people attritioned from the bank. More context is needed, but it looks like people in their 30s and 40s have attritioned from the bank the most."
      ],
      "metadata": {
        "id": "FXUTyrRRl7CH"
      }
    },
    {
      "cell_type": "markdown",
      "source": [
        "### Attrition_Flag and Total_Relationship_Count\n"
      ],
      "metadata": {
        "id": "NKf4mISbeJ3K"
      }
    },
    {
      "cell_type": "code",
      "source": [
        "stacked_barplot(eda_df, \"Total_Relationship_Count\", \"Attrition_Flag\")"
      ],
      "metadata": {
        "id": "R_MJX6XHeJ3K"
      },
      "execution_count": null,
      "outputs": []
    },
    {
      "cell_type": "markdown",
      "source": [
        "#### Observations\n",
        "* Customers with only 1 or 2 products with the bank attritioned more than customers with 3 or more products."
      ],
      "metadata": {
        "id": "k_IBQH6nl7sV"
      }
    },
    {
      "cell_type": "markdown",
      "source": [
        "### Attrition_Flag and Months_Inactive_12_mon   \n"
      ],
      "metadata": {
        "id": "h3xnehCXeJ3K"
      }
    },
    {
      "cell_type": "code",
      "source": [
        "stacked_barplot(eda_df, \"Months_Inactive_12_mon\", \"Attrition_Flag\")"
      ],
      "metadata": {
        "id": "lMC4etvneJ3K"
      },
      "execution_count": null,
      "outputs": []
    },
    {
      "cell_type": "markdown",
      "source": [
        "#### Observations\n",
        "* Customers who have been 2 or 3 months inactive have attritioned the most."
      ],
      "metadata": {
        "id": "-wd5HFuXl8NN"
      }
    },
    {
      "cell_type": "markdown",
      "source": [
        "### Attrition_Flag and Contacts_Count_12_mon    \n"
      ],
      "metadata": {
        "id": "HBCCA9FGeJ3K"
      }
    },
    {
      "cell_type": "code",
      "source": [
        "stacked_barplot(eda_df, \"Contacts_Count_12_mon\", \"Attrition_Flag\")"
      ],
      "metadata": {
        "id": "cbXykkXheJ3K"
      },
      "execution_count": null,
      "outputs": []
    },
    {
      "cell_type": "markdown",
      "source": [
        "#### Observations\n",
        "* Customers with over 2 contacts have attirtioned the most.\n",
        "* Do not contact a customer 6 or more times as their attrition rate is 100%."
      ],
      "metadata": {
        "id": "f4nA4-xYl8wH"
      }
    },
    {
      "cell_type": "markdown",
      "source": [
        "### Attrition_Flag and Credit_Limit             \n"
      ],
      "metadata": {
        "id": "asazzmHSeJ3L"
      }
    },
    {
      "cell_type": "code",
      "source": [
        "distribution_plot_wrt_target(eda_df, \"Credit_Limit\", \"Attrition_Flag\")"
      ],
      "metadata": {
        "id": "GiSVcOSbeJ3L"
      },
      "execution_count": null,
      "outputs": []
    },
    {
      "cell_type": "markdown",
      "source": [
        "#### Observations\n",
        "* Existing customers carry a slightly larger balance than customers who have left the bank."
      ],
      "metadata": {
        "id": "bAhXhlb4l9PE"
      }
    },
    {
      "cell_type": "markdown",
      "source": [
        "### Attrition_Flag and Total_Revolving_Bal      \n"
      ],
      "metadata": {
        "id": "ZnQOp9sQeJ3L"
      }
    },
    {
      "cell_type": "code",
      "source": [
        "distribution_plot_wrt_target(eda_df, \"Total_Revolving_Bal\", \"Attrition_Flag\")"
      ],
      "metadata": {
        "id": "wz002HW3eJ3L"
      },
      "execution_count": null,
      "outputs": []
    },
    {
      "cell_type": "markdown",
      "source": [
        "#### Observations\n",
        "* Existing customer carry a balance between \\$1,000 and \\$2,000\n",
        "* Most existing and attrited customers carry a balance of zero.\n",
        "* Attrited customers are relatively flat with regards to their current balance. \\$500 to \\$2,000 is all less than 100."
      ],
      "metadata": {
        "id": "-f-hxYC0l989"
      }
    },
    {
      "cell_type": "markdown",
      "source": [
        "### Attrition_Flag and Avg_Open_To_Buy          \n"
      ],
      "metadata": {
        "id": "EQcQFfXPeJ3L"
      }
    },
    {
      "cell_type": "code",
      "source": [
        "distribution_plot_wrt_target(eda_df, \"Avg_Open_To_Buy\", \"Attrition_Flag\")"
      ],
      "metadata": {
        "id": "w_Gg1IMAeJ3L"
      },
      "execution_count": null,
      "outputs": []
    },
    {
      "cell_type": "markdown",
      "source": [
        "#### Observations\n",
        "* Existing and Attrited customer's distribution appears to be the same with regards to Avg_Open_To_Buy."
      ],
      "metadata": {
        "id": "cOZcR64kl-e1"
      }
    },
    {
      "cell_type": "markdown",
      "source": [
        "### Attrition_Flag and Total_Amt_Chng_Q4_Q1     \n"
      ],
      "metadata": {
        "id": "bM17XYG8eJ3L"
      }
    },
    {
      "cell_type": "code",
      "source": [
        "distribution_plot_wrt_target(eda_df, \"Total_Amt_Chng_Q4_Q1\", \"Attrition_Flag\")"
      ],
      "metadata": {
        "id": "DEljEe6YeJ3L"
      },
      "execution_count": null,
      "outputs": []
    },
    {
      "cell_type": "markdown",
      "source": [
        "#### Observations\n",
        "* Attrited customers and existing customers appear to be reducing their overall balance in Q4 to Q1."
      ],
      "metadata": {
        "id": "dmfbxifhl--1"
      }
    },
    {
      "cell_type": "markdown",
      "source": [
        "### Attrition_Flag and Total_Trans_Amt          \n"
      ],
      "metadata": {
        "id": "b4kNf1LpeJ3L"
      }
    },
    {
      "cell_type": "code",
      "source": [
        "distribution_plot_wrt_target(eda_df, \"Total_Trans_Amt\", \"Attrition_Flag\")"
      ],
      "metadata": {
        "id": "L45cWRzmeJ3L"
      },
      "execution_count": null,
      "outputs": []
    },
    {
      "cell_type": "markdown",
      "source": [
        "#### Observations\n",
        "* Attrited customers as expect have a lower transaction amount.\n",
        "* Distribution between existing and attrited customers is the same."
      ],
      "metadata": {
        "id": "ZK86HGYMl_lM"
      }
    },
    {
      "cell_type": "markdown",
      "source": [
        "### Attrition_Flag and Total_Trans_Ct           "
      ],
      "metadata": {
        "id": "Hgo7xxcveJ3L"
      }
    },
    {
      "cell_type": "code",
      "source": [
        "distribution_plot_wrt_target(eda_df, \"Total_Trans_Ct\", \"Attrition_Flag\")"
      ],
      "metadata": {
        "id": "rMQYCYPaeJ3L"
      },
      "execution_count": null,
      "outputs": []
    },
    {
      "cell_type": "markdown",
      "source": [
        "#### Observations\n",
        "* Attrited customers have a lower number or total transactions.\n",
        "* The distributions between existing and attrited customers appear to be the same."
      ],
      "metadata": {
        "id": "oITqRv38mAGZ"
      }
    },
    {
      "cell_type": "markdown",
      "source": [
        "### Attrition_Flag and Total_Ct_Chng_Q4_Q1      \n"
      ],
      "metadata": {
        "id": "Eht7dhSEeJ3M"
      }
    },
    {
      "cell_type": "code",
      "source": [
        "distribution_plot_wrt_target(eda_df, \"Total_Ct_Chng_Q4_Q1\", \"Attrition_Flag\")"
      ],
      "metadata": {
        "id": "H31rUiW9eJ3M"
      },
      "execution_count": null,
      "outputs": []
    },
    {
      "cell_type": "markdown",
      "source": [
        "#### Observations\n",
        "* Attrited customers have a lower number or Q4 to Q1 transactions.\n",
        "* The distributions between existing and attrited customers appear to be the same."
      ],
      "metadata": {
        "id": "FD44ySTGmAq5"
      }
    },
    {
      "cell_type": "markdown",
      "source": [
        "### Attrition_Flag and Avg_Utilization_Ratio"
      ],
      "metadata": {
        "id": "1XV65bbLeJ3M"
      }
    },
    {
      "cell_type": "code",
      "source": [
        "distribution_plot_wrt_target(eda_df, \"Avg_Utilization_Ratio\", \"Attrition_Flag\")"
      ],
      "metadata": {
        "id": "bb6s99I9eJ3M"
      },
      "execution_count": null,
      "outputs": []
    },
    {
      "cell_type": "markdown",
      "source": [
        "#### Observations\n",
        "* Existing customers use their credit card more than attrited customers.\n",
        "* Distributions are roughly the same."
      ],
      "metadata": {
        "id": "LxE6gn9cmBM1"
      }
    },
    {
      "cell_type": "markdown",
      "source": [
        "## <a href=#eda_summary>Click to get back to the EDA Summary</a>"
      ],
      "metadata": {
        "id": "71oNky6KyrZM"
      }
    }
  ],
  "metadata": {
    "colab": {
      "provenance": [],
      "collapsed_sections": [
        "9EaJ8AGwpM-2",
        "v_-uuGqH-qTt",
        "xxhpZv9y-qTw",
        "UvpMDcaaMKtI",
        "j-yGG8LNSSMa",
        "-YyWJgFlKlWM",
        "knk0w9XH4jao",
        "0J99-7Kubp09",
        "OzOa9FGA6WtG",
        "YZqmoqz7bp0-",
        "eqCDCbcw4jas",
        "oBKJaFU24jas",
        "1aimb6bn4jat",
        "yZGY1eL84jau",
        "rxM3jQuK_Pqc",
        "GMReRXdH_YUd",
        "chN8hbfThKyr",
        "HtPIiIS7hKyr",
        "D9JNnpxa4jau",
        "d_pDMFAz4jav",
        "c5hPmHyR4jaw"
      ],
      "toc_visible": true
    },
    "kernelspec": {
      "display_name": "Python 3",
      "language": "python",
      "name": "python3"
    },
    "language_info": {
      "codemirror_mode": {
        "name": "ipython",
        "version": 3
      },
      "file_extension": ".py",
      "mimetype": "text/x-python",
      "name": "python",
      "nbconvert_exporter": "python",
      "pygments_lexer": "ipython3",
      "version": "3.8.8"
    }
  },
  "nbformat": 4,
  "nbformat_minor": 0
}